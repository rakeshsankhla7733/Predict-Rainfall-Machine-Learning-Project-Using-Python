{
 "cells": [
  {
   "cell_type": "markdown",
   "id": "0ca1a62c-3b54-4df5-bf80-8639d4f2fa8a",
   "metadata": {},
   "source": [
    "# Weather Prediction Machine Learning model"
   ]
  },
  {
   "cell_type": "markdown",
   "id": "c4f654ba-303b-4087-9734-27ec055a6b9d",
   "metadata": {},
   "source": [
    "### import necessary libraries"
   ]
  },
  {
   "cell_type": "code",
   "execution_count": 3,
   "id": "36745aa4-3e4a-495e-9d68-7ba346afe736",
   "metadata": {},
   "outputs": [],
   "source": [
    "import pandas as pd\n",
    "import numpy as np\n",
    "import seaborn as sns\n",
    "import statsmodels.api as sn\n",
    "import matplotlib.pyplot as plt\n",
    "from sklearn.model_selection import train_test_split\n",
    "from sklearn import tree\n",
    "from sklearn.tree import DecisionTreeClassifier\n",
    "from sklearn.metrics import accuracy_score, confusion_matrix, roc_auc_score, precision_score, recall_score\n",
    "from sklearn.model_selection import GridSearchCV\n",
    "from sklearn.ensemble import BaggingClassifier\n",
    "from sklearn.ensemble import RandomForestClassifier\n",
    "from sklearn.ensemble import GradientBoostingClassifier\n",
    "from sklearn.ensemble import AdaBoostClassifier\n",
    "from xgboost import XGBClassifier\n",
    "from sklearn.linear_model import LogisticRegression\n",
    "from sklearn.neighbors import KNeighborsClassifier\n",
    "from sklearn.discriminant_analysis import LinearDiscriminantAnalysis\n",
    "import gradio as gr"
   ]
  },
  {
   "cell_type": "markdown",
   "id": "bdad15fb-1d83-49c8-a9a2-4b8b030fc432",
   "metadata": {},
   "source": [
    "## Load csv using pandas"
   ]
  },
  {
   "cell_type": "code",
   "execution_count": 5,
   "id": "7a181d35-f3d6-4002-9b0d-ae5f59d8e4c7",
   "metadata": {},
   "outputs": [],
   "source": [
    "df = pd.read_excel('E:/internshala/interview prepration/final project/rs/sydney_rain prediction.xlsx',header = 0)"
   ]
  },
  {
   "cell_type": "markdown",
   "id": "af5b600d-a175-45f8-b990-6691ead7def7",
   "metadata": {},
   "source": [
    "### Check head"
   ]
  },
  {
   "cell_type": "code",
   "execution_count": 7,
   "id": "5615e0a3-bcfb-4519-95b7-c571ff131fe3",
   "metadata": {},
   "outputs": [
    {
     "data": {
      "text/html": [
       "<div>\n",
       "<style scoped>\n",
       "    .dataframe tbody tr th:only-of-type {\n",
       "        vertical-align: middle;\n",
       "    }\n",
       "\n",
       "    .dataframe tbody tr th {\n",
       "        vertical-align: top;\n",
       "    }\n",
       "\n",
       "    .dataframe thead th {\n",
       "        text-align: right;\n",
       "    }\n",
       "</style>\n",
       "<table border=\"1\" class=\"dataframe\">\n",
       "  <thead>\n",
       "    <tr style=\"text-align: right;\">\n",
       "      <th></th>\n",
       "      <th>Date</th>\n",
       "      <th>Location</th>\n",
       "      <th>MinTemp</th>\n",
       "      <th>MaxTemp</th>\n",
       "      <th>Rainfall</th>\n",
       "      <th>Evaporation</th>\n",
       "      <th>Sunshine</th>\n",
       "      <th>Humidity9am</th>\n",
       "      <th>Humidity3pm</th>\n",
       "      <th>Pressure9am</th>\n",
       "      <th>Pressure3pm</th>\n",
       "      <th>Cloud9am</th>\n",
       "      <th>Cloud3pm</th>\n",
       "      <th>Temp9am</th>\n",
       "      <th>Temp3pm</th>\n",
       "      <th>RainToday</th>\n",
       "      <th>RainTomorrow</th>\n",
       "    </tr>\n",
       "  </thead>\n",
       "  <tbody>\n",
       "    <tr>\n",
       "      <th>0</th>\n",
       "      <td>2008-02-01</td>\n",
       "      <td>Sydney</td>\n",
       "      <td>19.5</td>\n",
       "      <td>22.4</td>\n",
       "      <td>15.6</td>\n",
       "      <td>6.2</td>\n",
       "      <td>0.0</td>\n",
       "      <td>92.0</td>\n",
       "      <td>84.0</td>\n",
       "      <td>1017.6</td>\n",
       "      <td>1017.4</td>\n",
       "      <td>8.0</td>\n",
       "      <td>8.0</td>\n",
       "      <td>20.7</td>\n",
       "      <td>20.9</td>\n",
       "      <td>Yes</td>\n",
       "      <td>Yes</td>\n",
       "    </tr>\n",
       "    <tr>\n",
       "      <th>1</th>\n",
       "      <td>2008-02-02</td>\n",
       "      <td>Sydney</td>\n",
       "      <td>19.5</td>\n",
       "      <td>25.6</td>\n",
       "      <td>6.0</td>\n",
       "      <td>3.4</td>\n",
       "      <td>2.7</td>\n",
       "      <td>83.0</td>\n",
       "      <td>73.0</td>\n",
       "      <td>1017.9</td>\n",
       "      <td>1016.4</td>\n",
       "      <td>7.0</td>\n",
       "      <td>7.0</td>\n",
       "      <td>22.4</td>\n",
       "      <td>24.8</td>\n",
       "      <td>Yes</td>\n",
       "      <td>Yes</td>\n",
       "    </tr>\n",
       "    <tr>\n",
       "      <th>2</th>\n",
       "      <td>2008-02-03</td>\n",
       "      <td>Sydney</td>\n",
       "      <td>21.6</td>\n",
       "      <td>24.5</td>\n",
       "      <td>6.6</td>\n",
       "      <td>2.4</td>\n",
       "      <td>0.1</td>\n",
       "      <td>88.0</td>\n",
       "      <td>86.0</td>\n",
       "      <td>1016.7</td>\n",
       "      <td>1015.6</td>\n",
       "      <td>7.0</td>\n",
       "      <td>8.0</td>\n",
       "      <td>23.5</td>\n",
       "      <td>23.0</td>\n",
       "      <td>Yes</td>\n",
       "      <td>Yes</td>\n",
       "    </tr>\n",
       "    <tr>\n",
       "      <th>3</th>\n",
       "      <td>2008-02-04</td>\n",
       "      <td>Sydney</td>\n",
       "      <td>20.2</td>\n",
       "      <td>22.8</td>\n",
       "      <td>18.8</td>\n",
       "      <td>2.2</td>\n",
       "      <td>0.0</td>\n",
       "      <td>83.0</td>\n",
       "      <td>90.0</td>\n",
       "      <td>1014.2</td>\n",
       "      <td>1011.8</td>\n",
       "      <td>8.0</td>\n",
       "      <td>8.0</td>\n",
       "      <td>21.4</td>\n",
       "      <td>20.9</td>\n",
       "      <td>Yes</td>\n",
       "      <td>Yes</td>\n",
       "    </tr>\n",
       "    <tr>\n",
       "      <th>4</th>\n",
       "      <td>2008-02-05</td>\n",
       "      <td>Sydney</td>\n",
       "      <td>19.7</td>\n",
       "      <td>25.7</td>\n",
       "      <td>77.4</td>\n",
       "      <td>NaN</td>\n",
       "      <td>0.0</td>\n",
       "      <td>88.0</td>\n",
       "      <td>74.0</td>\n",
       "      <td>1008.3</td>\n",
       "      <td>1004.8</td>\n",
       "      <td>8.0</td>\n",
       "      <td>8.0</td>\n",
       "      <td>22.5</td>\n",
       "      <td>25.5</td>\n",
       "      <td>Yes</td>\n",
       "      <td>Yes</td>\n",
       "    </tr>\n",
       "  </tbody>\n",
       "</table>\n",
       "</div>"
      ],
      "text/plain": [
       "        Date Location  MinTemp  MaxTemp  Rainfall  Evaporation  Sunshine  \\\n",
       "0 2008-02-01   Sydney     19.5     22.4      15.6          6.2       0.0   \n",
       "1 2008-02-02   Sydney     19.5     25.6       6.0          3.4       2.7   \n",
       "2 2008-02-03   Sydney     21.6     24.5       6.6          2.4       0.1   \n",
       "3 2008-02-04   Sydney     20.2     22.8      18.8          2.2       0.0   \n",
       "4 2008-02-05   Sydney     19.7     25.7      77.4          NaN       0.0   \n",
       "\n",
       "   Humidity9am  Humidity3pm  Pressure9am  Pressure3pm  Cloud9am  Cloud3pm  \\\n",
       "0         92.0         84.0       1017.6       1017.4       8.0       8.0   \n",
       "1         83.0         73.0       1017.9       1016.4       7.0       7.0   \n",
       "2         88.0         86.0       1016.7       1015.6       7.0       8.0   \n",
       "3         83.0         90.0       1014.2       1011.8       8.0       8.0   \n",
       "4         88.0         74.0       1008.3       1004.8       8.0       8.0   \n",
       "\n",
       "   Temp9am  Temp3pm RainToday RainTomorrow  \n",
       "0     20.7     20.9       Yes          Yes  \n",
       "1     22.4     24.8       Yes          Yes  \n",
       "2     23.5     23.0       Yes          Yes  \n",
       "3     21.4     20.9       Yes          Yes  \n",
       "4     22.5     25.5       Yes          Yes  "
      ]
     },
     "execution_count": 7,
     "metadata": {},
     "output_type": "execute_result"
    }
   ],
   "source": [
    "df.head()"
   ]
  },
  {
   "cell_type": "markdown",
   "id": "3ebb99f7-a404-4a3c-be66-94e33bd76130",
   "metadata": {},
   "source": [
    "## Create dummy variables for categorical data (\"RainToday\", \"RainTomorrow\")"
   ]
  },
  {
   "cell_type": "code",
   "execution_count": 9,
   "id": "953300f1-2461-4342-9b37-0baeb97dc056",
   "metadata": {},
   "outputs": [],
   "source": [
    "df = pd.get_dummies(df, columns = [\"RainToday\", \"RainTomorrow\"], drop_first = True)"
   ]
  },
  {
   "cell_type": "code",
   "execution_count": 10,
   "id": "46d3f2e2-e82b-41d4-80b5-75ff9578455f",
   "metadata": {},
   "outputs": [],
   "source": [
    "for column in df.select_dtypes(include=['bool']):\n",
    "    df[column] = df[column].astype(int)"
   ]
  },
  {
   "cell_type": "code",
   "execution_count": 11,
   "id": "38726b28-13e3-41a8-9d7b-c70c9fe5f797",
   "metadata": {},
   "outputs": [
    {
     "data": {
      "text/html": [
       "<div>\n",
       "<style scoped>\n",
       "    .dataframe tbody tr th:only-of-type {\n",
       "        vertical-align: middle;\n",
       "    }\n",
       "\n",
       "    .dataframe tbody tr th {\n",
       "        vertical-align: top;\n",
       "    }\n",
       "\n",
       "    .dataframe thead th {\n",
       "        text-align: right;\n",
       "    }\n",
       "</style>\n",
       "<table border=\"1\" class=\"dataframe\">\n",
       "  <thead>\n",
       "    <tr style=\"text-align: right;\">\n",
       "      <th></th>\n",
       "      <th>Date</th>\n",
       "      <th>Location</th>\n",
       "      <th>MinTemp</th>\n",
       "      <th>MaxTemp</th>\n",
       "      <th>Rainfall</th>\n",
       "      <th>Evaporation</th>\n",
       "      <th>Sunshine</th>\n",
       "      <th>Humidity9am</th>\n",
       "      <th>Humidity3pm</th>\n",
       "      <th>Pressure9am</th>\n",
       "      <th>Pressure3pm</th>\n",
       "      <th>Cloud9am</th>\n",
       "      <th>Cloud3pm</th>\n",
       "      <th>Temp9am</th>\n",
       "      <th>Temp3pm</th>\n",
       "      <th>RainToday_Yes</th>\n",
       "      <th>RainTomorrow_Yes</th>\n",
       "    </tr>\n",
       "  </thead>\n",
       "  <tbody>\n",
       "    <tr>\n",
       "      <th>0</th>\n",
       "      <td>2008-02-01</td>\n",
       "      <td>Sydney</td>\n",
       "      <td>19.5</td>\n",
       "      <td>22.4</td>\n",
       "      <td>15.6</td>\n",
       "      <td>6.2</td>\n",
       "      <td>0.0</td>\n",
       "      <td>92.0</td>\n",
       "      <td>84.0</td>\n",
       "      <td>1017.6</td>\n",
       "      <td>1017.4</td>\n",
       "      <td>8.0</td>\n",
       "      <td>8.0</td>\n",
       "      <td>20.7</td>\n",
       "      <td>20.9</td>\n",
       "      <td>1</td>\n",
       "      <td>1</td>\n",
       "    </tr>\n",
       "    <tr>\n",
       "      <th>1</th>\n",
       "      <td>2008-02-02</td>\n",
       "      <td>Sydney</td>\n",
       "      <td>19.5</td>\n",
       "      <td>25.6</td>\n",
       "      <td>6.0</td>\n",
       "      <td>3.4</td>\n",
       "      <td>2.7</td>\n",
       "      <td>83.0</td>\n",
       "      <td>73.0</td>\n",
       "      <td>1017.9</td>\n",
       "      <td>1016.4</td>\n",
       "      <td>7.0</td>\n",
       "      <td>7.0</td>\n",
       "      <td>22.4</td>\n",
       "      <td>24.8</td>\n",
       "      <td>1</td>\n",
       "      <td>1</td>\n",
       "    </tr>\n",
       "    <tr>\n",
       "      <th>2</th>\n",
       "      <td>2008-02-03</td>\n",
       "      <td>Sydney</td>\n",
       "      <td>21.6</td>\n",
       "      <td>24.5</td>\n",
       "      <td>6.6</td>\n",
       "      <td>2.4</td>\n",
       "      <td>0.1</td>\n",
       "      <td>88.0</td>\n",
       "      <td>86.0</td>\n",
       "      <td>1016.7</td>\n",
       "      <td>1015.6</td>\n",
       "      <td>7.0</td>\n",
       "      <td>8.0</td>\n",
       "      <td>23.5</td>\n",
       "      <td>23.0</td>\n",
       "      <td>1</td>\n",
       "      <td>1</td>\n",
       "    </tr>\n",
       "    <tr>\n",
       "      <th>3</th>\n",
       "      <td>2008-02-04</td>\n",
       "      <td>Sydney</td>\n",
       "      <td>20.2</td>\n",
       "      <td>22.8</td>\n",
       "      <td>18.8</td>\n",
       "      <td>2.2</td>\n",
       "      <td>0.0</td>\n",
       "      <td>83.0</td>\n",
       "      <td>90.0</td>\n",
       "      <td>1014.2</td>\n",
       "      <td>1011.8</td>\n",
       "      <td>8.0</td>\n",
       "      <td>8.0</td>\n",
       "      <td>21.4</td>\n",
       "      <td>20.9</td>\n",
       "      <td>1</td>\n",
       "      <td>1</td>\n",
       "    </tr>\n",
       "    <tr>\n",
       "      <th>4</th>\n",
       "      <td>2008-02-05</td>\n",
       "      <td>Sydney</td>\n",
       "      <td>19.7</td>\n",
       "      <td>25.7</td>\n",
       "      <td>77.4</td>\n",
       "      <td>NaN</td>\n",
       "      <td>0.0</td>\n",
       "      <td>88.0</td>\n",
       "      <td>74.0</td>\n",
       "      <td>1008.3</td>\n",
       "      <td>1004.8</td>\n",
       "      <td>8.0</td>\n",
       "      <td>8.0</td>\n",
       "      <td>22.5</td>\n",
       "      <td>25.5</td>\n",
       "      <td>1</td>\n",
       "      <td>1</td>\n",
       "    </tr>\n",
       "  </tbody>\n",
       "</table>\n",
       "</div>"
      ],
      "text/plain": [
       "        Date Location  MinTemp  MaxTemp  Rainfall  Evaporation  Sunshine  \\\n",
       "0 2008-02-01   Sydney     19.5     22.4      15.6          6.2       0.0   \n",
       "1 2008-02-02   Sydney     19.5     25.6       6.0          3.4       2.7   \n",
       "2 2008-02-03   Sydney     21.6     24.5       6.6          2.4       0.1   \n",
       "3 2008-02-04   Sydney     20.2     22.8      18.8          2.2       0.0   \n",
       "4 2008-02-05   Sydney     19.7     25.7      77.4          NaN       0.0   \n",
       "\n",
       "   Humidity9am  Humidity3pm  Pressure9am  Pressure3pm  Cloud9am  Cloud3pm  \\\n",
       "0         92.0         84.0       1017.6       1017.4       8.0       8.0   \n",
       "1         83.0         73.0       1017.9       1016.4       7.0       7.0   \n",
       "2         88.0         86.0       1016.7       1015.6       7.0       8.0   \n",
       "3         83.0         90.0       1014.2       1011.8       8.0       8.0   \n",
       "4         88.0         74.0       1008.3       1004.8       8.0       8.0   \n",
       "\n",
       "   Temp9am  Temp3pm  RainToday_Yes  RainTomorrow_Yes  \n",
       "0     20.7     20.9              1                 1  \n",
       "1     22.4     24.8              1                 1  \n",
       "2     23.5     23.0              1                 1  \n",
       "3     21.4     20.9              1                 1  \n",
       "4     22.5     25.5              1                 1  "
      ]
     },
     "execution_count": 11,
     "metadata": {},
     "output_type": "execute_result"
    }
   ],
   "source": [
    "df.head()"
   ]
  },
  {
   "cell_type": "code",
   "execution_count": 12,
   "id": "55bf3748-b9ce-44b8-87b2-dcb68fe30e13",
   "metadata": {},
   "outputs": [
    {
     "data": {
      "text/plain": [
       "(3337, 17)"
      ]
     },
     "execution_count": 12,
     "metadata": {},
     "output_type": "execute_result"
    }
   ],
   "source": [
    "df.shape"
   ]
  },
  {
   "cell_type": "markdown",
   "id": "a9f7393e-861c-41c6-9ed6-646de7dad6b5",
   "metadata": {},
   "source": [
    "## Checking for Missing Values"
   ]
  },
  {
   "cell_type": "code",
   "execution_count": 14,
   "id": "b9da5886-9dc0-450b-ac31-e91f32956e3a",
   "metadata": {},
   "outputs": [
    {
     "name": "stdout",
     "output_type": "stream",
     "text": [
      "<class 'pandas.core.frame.DataFrame'>\n",
      "RangeIndex: 3337 entries, 0 to 3336\n",
      "Data columns (total 17 columns):\n",
      " #   Column            Non-Null Count  Dtype         \n",
      "---  ------            --------------  -----         \n",
      " 0   Date              3337 non-null   datetime64[ns]\n",
      " 1   Location          3337 non-null   object        \n",
      " 2   MinTemp           3334 non-null   float64       \n",
      " 3   MaxTemp           3335 non-null   float64       \n",
      " 4   Rainfall          3331 non-null   float64       \n",
      " 5   Evaporation       3286 non-null   float64       \n",
      " 6   Sunshine          3321 non-null   float64       \n",
      " 7   Humidity9am       3323 non-null   float64       \n",
      " 8   Humidity3pm       3324 non-null   float64       \n",
      " 9   Pressure9am       3317 non-null   float64       \n",
      " 10  Pressure3pm       3318 non-null   float64       \n",
      " 11  Cloud9am          2771 non-null   float64       \n",
      " 12  Cloud3pm          2776 non-null   float64       \n",
      " 13  Temp9am           3333 non-null   float64       \n",
      " 14  Temp3pm           3333 non-null   float64       \n",
      " 15  RainToday_Yes     3337 non-null   int32         \n",
      " 16  RainTomorrow_Yes  3337 non-null   int32         \n",
      "dtypes: datetime64[ns](1), float64(13), int32(2), object(1)\n",
      "memory usage: 417.3+ KB\n"
     ]
    }
   ],
   "source": [
    "df.info()"
   ]
  },
  {
   "cell_type": "markdown",
   "id": "82547d2e-0e41-4235-83b3-ddc98fb55ecf",
   "metadata": {},
   "source": [
    "* Replace Null value with Mean value"
   ]
  },
  {
   "cell_type": "code",
   "execution_count": 16,
   "id": "15a515b1-0171-4477-90c0-68ce39c93f70",
   "metadata": {},
   "outputs": [],
   "source": [
    "# Select only numeric columns\n",
    "numeric_cols = df.select_dtypes(include='number').columns\n",
    "\n",
    "# Replace null values with mean for numeric columns\n",
    "df[numeric_cols] = df[numeric_cols].fillna(df[numeric_cols].mean())\n",
    "\n",
    "# Fill null values in \"RainToday\" with the mode\n",
    "df['RainToday_Yes'].fillna(df['RainToday_Yes'].mode()[0], inplace=True)"
   ]
  },
  {
   "cell_type": "code",
   "execution_count": 17,
   "id": "9ebdc475-1d4c-44cb-a5c5-effebd1b2236",
   "metadata": {},
   "outputs": [
    {
     "name": "stdout",
     "output_type": "stream",
     "text": [
      "<class 'pandas.core.frame.DataFrame'>\n",
      "RangeIndex: 3337 entries, 0 to 3336\n",
      "Data columns (total 17 columns):\n",
      " #   Column            Non-Null Count  Dtype         \n",
      "---  ------            --------------  -----         \n",
      " 0   Date              3337 non-null   datetime64[ns]\n",
      " 1   Location          3337 non-null   object        \n",
      " 2   MinTemp           3337 non-null   float64       \n",
      " 3   MaxTemp           3337 non-null   float64       \n",
      " 4   Rainfall          3337 non-null   float64       \n",
      " 5   Evaporation       3337 non-null   float64       \n",
      " 6   Sunshine          3337 non-null   float64       \n",
      " 7   Humidity9am       3337 non-null   float64       \n",
      " 8   Humidity3pm       3337 non-null   float64       \n",
      " 9   Pressure9am       3337 non-null   float64       \n",
      " 10  Pressure3pm       3337 non-null   float64       \n",
      " 11  Cloud9am          3337 non-null   float64       \n",
      " 12  Cloud3pm          3337 non-null   float64       \n",
      " 13  Temp9am           3337 non-null   float64       \n",
      " 14  Temp3pm           3337 non-null   float64       \n",
      " 15  RainToday_Yes     3337 non-null   int32         \n",
      " 16  RainTomorrow_Yes  3337 non-null   int32         \n",
      "dtypes: datetime64[ns](1), float64(13), int32(2), object(1)\n",
      "memory usage: 417.3+ KB\n"
     ]
    }
   ],
   "source": [
    "df.info()"
   ]
  },
  {
   "cell_type": "code",
   "execution_count": 18,
   "id": "2dd5042e-8019-437e-acf1-fea745d07453",
   "metadata": {},
   "outputs": [
    {
     "data": {
      "text/html": [
       "<div>\n",
       "<style scoped>\n",
       "    .dataframe tbody tr th:only-of-type {\n",
       "        vertical-align: middle;\n",
       "    }\n",
       "\n",
       "    .dataframe tbody tr th {\n",
       "        vertical-align: top;\n",
       "    }\n",
       "\n",
       "    .dataframe thead th {\n",
       "        text-align: right;\n",
       "    }\n",
       "</style>\n",
       "<table border=\"1\" class=\"dataframe\">\n",
       "  <thead>\n",
       "    <tr style=\"text-align: right;\">\n",
       "      <th></th>\n",
       "      <th>Date</th>\n",
       "      <th>Location</th>\n",
       "      <th>MinTemp</th>\n",
       "      <th>MaxTemp</th>\n",
       "      <th>Rainfall</th>\n",
       "      <th>Evaporation</th>\n",
       "      <th>Sunshine</th>\n",
       "      <th>Humidity9am</th>\n",
       "      <th>Humidity3pm</th>\n",
       "      <th>Pressure9am</th>\n",
       "      <th>Pressure3pm</th>\n",
       "      <th>Cloud9am</th>\n",
       "      <th>Cloud3pm</th>\n",
       "      <th>Temp9am</th>\n",
       "      <th>Temp3pm</th>\n",
       "      <th>RainToday_Yes</th>\n",
       "      <th>RainTomorrow_Yes</th>\n",
       "    </tr>\n",
       "  </thead>\n",
       "  <tbody>\n",
       "    <tr>\n",
       "      <th>0</th>\n",
       "      <td>2008-02-01</td>\n",
       "      <td>Sydney</td>\n",
       "      <td>19.5</td>\n",
       "      <td>22.4</td>\n",
       "      <td>15.6</td>\n",
       "      <td>6.200000</td>\n",
       "      <td>0.0</td>\n",
       "      <td>92.0</td>\n",
       "      <td>84.0</td>\n",
       "      <td>1017.6</td>\n",
       "      <td>1017.4</td>\n",
       "      <td>8.0</td>\n",
       "      <td>8.0</td>\n",
       "      <td>20.7</td>\n",
       "      <td>20.9</td>\n",
       "      <td>1</td>\n",
       "      <td>1</td>\n",
       "    </tr>\n",
       "    <tr>\n",
       "      <th>1</th>\n",
       "      <td>2008-02-02</td>\n",
       "      <td>Sydney</td>\n",
       "      <td>19.5</td>\n",
       "      <td>25.6</td>\n",
       "      <td>6.0</td>\n",
       "      <td>3.400000</td>\n",
       "      <td>2.7</td>\n",
       "      <td>83.0</td>\n",
       "      <td>73.0</td>\n",
       "      <td>1017.9</td>\n",
       "      <td>1016.4</td>\n",
       "      <td>7.0</td>\n",
       "      <td>7.0</td>\n",
       "      <td>22.4</td>\n",
       "      <td>24.8</td>\n",
       "      <td>1</td>\n",
       "      <td>1</td>\n",
       "    </tr>\n",
       "    <tr>\n",
       "      <th>2</th>\n",
       "      <td>2008-02-03</td>\n",
       "      <td>Sydney</td>\n",
       "      <td>21.6</td>\n",
       "      <td>24.5</td>\n",
       "      <td>6.6</td>\n",
       "      <td>2.400000</td>\n",
       "      <td>0.1</td>\n",
       "      <td>88.0</td>\n",
       "      <td>86.0</td>\n",
       "      <td>1016.7</td>\n",
       "      <td>1015.6</td>\n",
       "      <td>7.0</td>\n",
       "      <td>8.0</td>\n",
       "      <td>23.5</td>\n",
       "      <td>23.0</td>\n",
       "      <td>1</td>\n",
       "      <td>1</td>\n",
       "    </tr>\n",
       "    <tr>\n",
       "      <th>3</th>\n",
       "      <td>2008-02-04</td>\n",
       "      <td>Sydney</td>\n",
       "      <td>20.2</td>\n",
       "      <td>22.8</td>\n",
       "      <td>18.8</td>\n",
       "      <td>2.200000</td>\n",
       "      <td>0.0</td>\n",
       "      <td>83.0</td>\n",
       "      <td>90.0</td>\n",
       "      <td>1014.2</td>\n",
       "      <td>1011.8</td>\n",
       "      <td>8.0</td>\n",
       "      <td>8.0</td>\n",
       "      <td>21.4</td>\n",
       "      <td>20.9</td>\n",
       "      <td>1</td>\n",
       "      <td>1</td>\n",
       "    </tr>\n",
       "    <tr>\n",
       "      <th>4</th>\n",
       "      <td>2008-02-05</td>\n",
       "      <td>Sydney</td>\n",
       "      <td>19.7</td>\n",
       "      <td>25.7</td>\n",
       "      <td>77.4</td>\n",
       "      <td>5.187432</td>\n",
       "      <td>0.0</td>\n",
       "      <td>88.0</td>\n",
       "      <td>74.0</td>\n",
       "      <td>1008.3</td>\n",
       "      <td>1004.8</td>\n",
       "      <td>8.0</td>\n",
       "      <td>8.0</td>\n",
       "      <td>22.5</td>\n",
       "      <td>25.5</td>\n",
       "      <td>1</td>\n",
       "      <td>1</td>\n",
       "    </tr>\n",
       "  </tbody>\n",
       "</table>\n",
       "</div>"
      ],
      "text/plain": [
       "        Date Location  MinTemp  MaxTemp  Rainfall  Evaporation  Sunshine  \\\n",
       "0 2008-02-01   Sydney     19.5     22.4      15.6     6.200000       0.0   \n",
       "1 2008-02-02   Sydney     19.5     25.6       6.0     3.400000       2.7   \n",
       "2 2008-02-03   Sydney     21.6     24.5       6.6     2.400000       0.1   \n",
       "3 2008-02-04   Sydney     20.2     22.8      18.8     2.200000       0.0   \n",
       "4 2008-02-05   Sydney     19.7     25.7      77.4     5.187432       0.0   \n",
       "\n",
       "   Humidity9am  Humidity3pm  Pressure9am  Pressure3pm  Cloud9am  Cloud3pm  \\\n",
       "0         92.0         84.0       1017.6       1017.4       8.0       8.0   \n",
       "1         83.0         73.0       1017.9       1016.4       7.0       7.0   \n",
       "2         88.0         86.0       1016.7       1015.6       7.0       8.0   \n",
       "3         83.0         90.0       1014.2       1011.8       8.0       8.0   \n",
       "4         88.0         74.0       1008.3       1004.8       8.0       8.0   \n",
       "\n",
       "   Temp9am  Temp3pm  RainToday_Yes  RainTomorrow_Yes  \n",
       "0     20.7     20.9              1                 1  \n",
       "1     22.4     24.8              1                 1  \n",
       "2     23.5     23.0              1                 1  \n",
       "3     21.4     20.9              1                 1  \n",
       "4     22.5     25.5              1                 1  "
      ]
     },
     "execution_count": 18,
     "metadata": {},
     "output_type": "execute_result"
    }
   ],
   "source": [
    "df.head()"
   ]
  },
  {
   "cell_type": "code",
   "execution_count": 19,
   "id": "6762181f-8ef5-4af7-95ee-bc502e14768f",
   "metadata": {},
   "outputs": [
    {
     "data": {
      "text/html": [
       "<div>\n",
       "<style scoped>\n",
       "    .dataframe tbody tr th:only-of-type {\n",
       "        vertical-align: middle;\n",
       "    }\n",
       "\n",
       "    .dataframe tbody tr th {\n",
       "        vertical-align: top;\n",
       "    }\n",
       "\n",
       "    .dataframe thead th {\n",
       "        text-align: right;\n",
       "    }\n",
       "</style>\n",
       "<table border=\"1\" class=\"dataframe\">\n",
       "  <thead>\n",
       "    <tr style=\"text-align: right;\">\n",
       "      <th></th>\n",
       "      <th>Date</th>\n",
       "      <th>MinTemp</th>\n",
       "      <th>MaxTemp</th>\n",
       "      <th>Rainfall</th>\n",
       "      <th>Evaporation</th>\n",
       "      <th>Sunshine</th>\n",
       "      <th>Humidity9am</th>\n",
       "      <th>Humidity3pm</th>\n",
       "      <th>Pressure9am</th>\n",
       "      <th>Pressure3pm</th>\n",
       "      <th>Cloud9am</th>\n",
       "      <th>Cloud3pm</th>\n",
       "      <th>Temp9am</th>\n",
       "      <th>Temp3pm</th>\n",
       "      <th>RainToday_Yes</th>\n",
       "      <th>RainTomorrow_Yes</th>\n",
       "    </tr>\n",
       "  </thead>\n",
       "  <tbody>\n",
       "    <tr>\n",
       "      <th>count</th>\n",
       "      <td>3337</td>\n",
       "      <td>3337.000000</td>\n",
       "      <td>3337.000000</td>\n",
       "      <td>3337.000000</td>\n",
       "      <td>3337.000000</td>\n",
       "      <td>3337.000000</td>\n",
       "      <td>3337.000000</td>\n",
       "      <td>3337.000000</td>\n",
       "      <td>3337.000000</td>\n",
       "      <td>3337.000000</td>\n",
       "      <td>3337.000000</td>\n",
       "      <td>3337.000000</td>\n",
       "      <td>3337.000000</td>\n",
       "      <td>3337.000000</td>\n",
       "      <td>3337.000000</td>\n",
       "      <td>3337.000000</td>\n",
       "    </tr>\n",
       "    <tr>\n",
       "      <th>mean</th>\n",
       "      <td>2012-10-16 01:24:34.737788672</td>\n",
       "      <td>14.865057</td>\n",
       "      <td>23.002339</td>\n",
       "      <td>3.330231</td>\n",
       "      <td>5.187432</td>\n",
       "      <td>7.179374</td>\n",
       "      <td>68.229010</td>\n",
       "      <td>54.699158</td>\n",
       "      <td>1018.346156</td>\n",
       "      <td>1016.018774</td>\n",
       "      <td>4.181523</td>\n",
       "      <td>4.218660</td>\n",
       "      <td>17.819742</td>\n",
       "      <td>21.533333</td>\n",
       "      <td>0.259515</td>\n",
       "      <td>0.259215</td>\n",
       "    </tr>\n",
       "    <tr>\n",
       "      <th>min</th>\n",
       "      <td>2008-02-01 00:00:00</td>\n",
       "      <td>4.300000</td>\n",
       "      <td>11.700000</td>\n",
       "      <td>0.000000</td>\n",
       "      <td>0.000000</td>\n",
       "      <td>0.000000</td>\n",
       "      <td>19.000000</td>\n",
       "      <td>10.000000</td>\n",
       "      <td>986.700000</td>\n",
       "      <td>989.800000</td>\n",
       "      <td>0.000000</td>\n",
       "      <td>0.000000</td>\n",
       "      <td>6.400000</td>\n",
       "      <td>10.200000</td>\n",
       "      <td>0.000000</td>\n",
       "      <td>0.000000</td>\n",
       "    </tr>\n",
       "    <tr>\n",
       "      <th>25%</th>\n",
       "      <td>2010-05-15 00:00:00</td>\n",
       "      <td>11.000000</td>\n",
       "      <td>19.600000</td>\n",
       "      <td>0.000000</td>\n",
       "      <td>3.200000</td>\n",
       "      <td>4.300000</td>\n",
       "      <td>58.000000</td>\n",
       "      <td>44.000000</td>\n",
       "      <td>1013.800000</td>\n",
       "      <td>1011.300000</td>\n",
       "      <td>2.000000</td>\n",
       "      <td>2.000000</td>\n",
       "      <td>13.800000</td>\n",
       "      <td>18.400000</td>\n",
       "      <td>0.000000</td>\n",
       "      <td>0.000000</td>\n",
       "    </tr>\n",
       "    <tr>\n",
       "      <th>50%</th>\n",
       "      <td>2012-09-28 00:00:00</td>\n",
       "      <td>14.900000</td>\n",
       "      <td>22.800000</td>\n",
       "      <td>0.000000</td>\n",
       "      <td>4.800000</td>\n",
       "      <td>8.200000</td>\n",
       "      <td>69.000000</td>\n",
       "      <td>56.000000</td>\n",
       "      <td>1018.500000</td>\n",
       "      <td>1016.300000</td>\n",
       "      <td>4.181523</td>\n",
       "      <td>4.218660</td>\n",
       "      <td>18.200000</td>\n",
       "      <td>21.300000</td>\n",
       "      <td>0.000000</td>\n",
       "      <td>0.000000</td>\n",
       "    </tr>\n",
       "    <tr>\n",
       "      <th>75%</th>\n",
       "      <td>2015-03-14 00:00:00</td>\n",
       "      <td>18.700000</td>\n",
       "      <td>26.000000</td>\n",
       "      <td>1.400000</td>\n",
       "      <td>7.000000</td>\n",
       "      <td>10.200000</td>\n",
       "      <td>80.000000</td>\n",
       "      <td>64.000000</td>\n",
       "      <td>1023.100000</td>\n",
       "      <td>1020.800000</td>\n",
       "      <td>7.000000</td>\n",
       "      <td>7.000000</td>\n",
       "      <td>21.700000</td>\n",
       "      <td>24.500000</td>\n",
       "      <td>1.000000</td>\n",
       "      <td>1.000000</td>\n",
       "    </tr>\n",
       "    <tr>\n",
       "      <th>max</th>\n",
       "      <td>2017-06-25 00:00:00</td>\n",
       "      <td>27.600000</td>\n",
       "      <td>45.800000</td>\n",
       "      <td>119.400000</td>\n",
       "      <td>18.400000</td>\n",
       "      <td>13.600000</td>\n",
       "      <td>100.000000</td>\n",
       "      <td>99.000000</td>\n",
       "      <td>1039.000000</td>\n",
       "      <td>1036.700000</td>\n",
       "      <td>9.000000</td>\n",
       "      <td>8.000000</td>\n",
       "      <td>36.500000</td>\n",
       "      <td>44.700000</td>\n",
       "      <td>1.000000</td>\n",
       "      <td>1.000000</td>\n",
       "    </tr>\n",
       "    <tr>\n",
       "      <th>std</th>\n",
       "      <td>NaN</td>\n",
       "      <td>4.551593</td>\n",
       "      <td>4.493290</td>\n",
       "      <td>9.886270</td>\n",
       "      <td>2.756095</td>\n",
       "      <td>3.801737</td>\n",
       "      <td>15.053668</td>\n",
       "      <td>16.261752</td>\n",
       "      <td>7.000492</td>\n",
       "      <td>7.012157</td>\n",
       "      <td>2.505491</td>\n",
       "      <td>2.409531</td>\n",
       "      <td>4.894240</td>\n",
       "      <td>4.301156</td>\n",
       "      <td>0.438434</td>\n",
       "      <td>0.438269</td>\n",
       "    </tr>\n",
       "  </tbody>\n",
       "</table>\n",
       "</div>"
      ],
      "text/plain": [
       "                                Date      MinTemp      MaxTemp     Rainfall  \\\n",
       "count                           3337  3337.000000  3337.000000  3337.000000   \n",
       "mean   2012-10-16 01:24:34.737788672    14.865057    23.002339     3.330231   \n",
       "min              2008-02-01 00:00:00     4.300000    11.700000     0.000000   \n",
       "25%              2010-05-15 00:00:00    11.000000    19.600000     0.000000   \n",
       "50%              2012-09-28 00:00:00    14.900000    22.800000     0.000000   \n",
       "75%              2015-03-14 00:00:00    18.700000    26.000000     1.400000   \n",
       "max              2017-06-25 00:00:00    27.600000    45.800000   119.400000   \n",
       "std                              NaN     4.551593     4.493290     9.886270   \n",
       "\n",
       "       Evaporation     Sunshine  Humidity9am  Humidity3pm  Pressure9am  \\\n",
       "count  3337.000000  3337.000000  3337.000000  3337.000000  3337.000000   \n",
       "mean      5.187432     7.179374    68.229010    54.699158  1018.346156   \n",
       "min       0.000000     0.000000    19.000000    10.000000   986.700000   \n",
       "25%       3.200000     4.300000    58.000000    44.000000  1013.800000   \n",
       "50%       4.800000     8.200000    69.000000    56.000000  1018.500000   \n",
       "75%       7.000000    10.200000    80.000000    64.000000  1023.100000   \n",
       "max      18.400000    13.600000   100.000000    99.000000  1039.000000   \n",
       "std       2.756095     3.801737    15.053668    16.261752     7.000492   \n",
       "\n",
       "       Pressure3pm     Cloud9am     Cloud3pm      Temp9am      Temp3pm  \\\n",
       "count  3337.000000  3337.000000  3337.000000  3337.000000  3337.000000   \n",
       "mean   1016.018774     4.181523     4.218660    17.819742    21.533333   \n",
       "min     989.800000     0.000000     0.000000     6.400000    10.200000   \n",
       "25%    1011.300000     2.000000     2.000000    13.800000    18.400000   \n",
       "50%    1016.300000     4.181523     4.218660    18.200000    21.300000   \n",
       "75%    1020.800000     7.000000     7.000000    21.700000    24.500000   \n",
       "max    1036.700000     9.000000     8.000000    36.500000    44.700000   \n",
       "std       7.012157     2.505491     2.409531     4.894240     4.301156   \n",
       "\n",
       "       RainToday_Yes  RainTomorrow_Yes  \n",
       "count    3337.000000       3337.000000  \n",
       "mean        0.259515          0.259215  \n",
       "min         0.000000          0.000000  \n",
       "25%         0.000000          0.000000  \n",
       "50%         0.000000          0.000000  \n",
       "75%         1.000000          1.000000  \n",
       "max         1.000000          1.000000  \n",
       "std         0.438434          0.438269  "
      ]
     },
     "execution_count": 19,
     "metadata": {},
     "output_type": "execute_result"
    }
   ],
   "source": [
    "df.describe()"
   ]
  },
  {
   "cell_type": "markdown",
   "id": "b4060f6c-051e-47a4-9bf5-89555fb2d7ae",
   "metadata": {},
   "source": [
    "### Create Corelation metrix"
   ]
  },
  {
   "cell_type": "code",
   "execution_count": 21,
   "id": "9eb55e92-a7b7-495d-aff6-307b9158f457",
   "metadata": {},
   "outputs": [
    {
     "data": {
      "text/plain": [
       "<Axes: >"
      ]
     },
     "execution_count": 21,
     "metadata": {},
     "output_type": "execute_result"
    },
    {
     "data": {
      "image/png": "[encoded data removed]",
      "text/plain": [
       "<Figure size 640x480 with 2 Axes>"
      ]
     },
     "metadata": {},
     "output_type": "display_data"
    }
   ],
   "source": [
    "s = df.select_dtypes(include= \"number\").corr()\n",
    "sns.heatmap(s, annot= True)"
   ]
  },
  {
   "cell_type": "markdown",
   "id": "271cbb01-26dc-4703-84f9-6930569c8f98",
   "metadata": {},
   "source": [
    "### Treat Outliers"
   ]
  },
  {
   "cell_type": "code",
   "execution_count": 23,
   "id": "358960f2-23c7-43f1-832a-f8c3e7ef52c8",
   "metadata": {},
   "outputs": [
    {
     "data": {
      "image/png": "[encoded data removed]",
      "text/plain": [
       "<Figure size 640x480 with 1 Axes>"
      ]
     },
     "metadata": {},
     "output_type": "display_data"
    },
    {
     "data": {
      "image/png": "[encoded data removed]",
      "text/plain": [
       "<Figure size 640x480 with 1 Axes>"
      ]
     },
     "metadata": {},
     "output_type": "display_data"
    },
    {
     "data": {
      "image/png": "[encoded data removed]",
      "text/plain": [
       "<Figure size 640x480 with 1 Axes>"
      ]
     },
     "metadata": {},
     "output_type": "display_data"
    },
    {
     "data": {
      "image/png": "[encoded data removed]",
      "text/plain": [
       "<Figure size 640x480 with 1 Axes>"
      ]
     },
     "metadata": {},
     "output_type": "display_data"
    },
    {
     "data": {
      "image/png": "[encoded data removed]",
      "text/plain": [
       "<Figure size 640x480 with 1 Axes>"
      ]
     },
     "metadata": {},
     "output_type": "display_data"
    },
    {
     "data": {
      "image/png": "[encoded data removed]",
      "text/plain": [
       "<Figure size 640x480 with 1 Axes>"
      ]
     },
     "metadata": {},
     "output_type": "display_data"
    },
    {
     "data": {
      "image/png": "[encoded data removed]",
      "text/plain": [
       "<Figure size 640x480 with 1 Axes>"
      ]
     },
     "metadata": {},
     "output_type": "display_data"
    },
    {
     "data": {
      "image/png": "[encoded data removed]",
      "text/plain": [
       "<Figure size 640x480 with 1 Axes>"
      ]
     },
     "metadata": {},
     "output_type": "display_data"
    },
    {
     "data": {
      "image/png": "[encoded data removed]",
      "text/plain": [
       "<Figure size 640x480 with 1 Axes>"
      ]
     },
     "metadata": {},
     "output_type": "display_data"
    },
    {
     "data": {
      "image/png": "[encoded data removed]",
      "text/plain": [
       "<Figure size 640x480 with 1 Axes>"
      ]
     },
     "metadata": {},
     "output_type": "display_data"
    },
    {
     "data": {
      "image/png": "[encoded data removed]",
      "text/plain": [
       "<Figure size 640x480 with 1 Axes>"
      ]
     },
     "metadata": {},
     "output_type": "display_data"
    },
    {
     "data": {
      "image/png": "[encoded data removed]",
      "text/plain": [
       "<Figure size 640x480 with 1 Axes>"
      ]
     },
     "metadata": {},
     "output_type": "display_data"
    },
    {
     "data": {
      "image/png": "[encoded data removed]",
      "text/plain": [
       "<Figure size 640x480 with 1 Axes>"
      ]
     },
     "metadata": {},
     "output_type": "display_data"
    },
    {
     "data": {
      "image/png": "[encoded data removed]",
      "text/plain": [
       "<Figure size 640x480 with 1 Axes>"
      ]
     },
     "metadata": {},
     "output_type": "display_data"
    },
    {
     "data": {
      "image/png": "[encoded data removed]",
      "text/plain": [
       "<Figure size 640x480 with 1 Axes>"
      ]
     },
     "metadata": {},
     "output_type": "display_data"
    }
   ],
   "source": [
    "import warnings\n",
    "warnings.filterwarnings(\"ignore\")\n",
    "for i in df.select_dtypes(include=\"number\").columns:\n",
    "            sns.boxplot(data=df, x=i, color = \"Green\")\n",
    "            plt.show()"
   ]
  },
  {
   "cell_type": "code",
   "execution_count": 24,
   "id": "53030e30-ec86-40a0-99f5-0cda85fd99e3",
   "metadata": {},
   "outputs": [
    {
     "data": {
      "image/png": "[encoded data removed]",
      "text/plain": [
       "<Figure size 1600x1200 with 15 Axes>"
      ]
     },
     "metadata": {},
     "output_type": "display_data"
    }
   ],
   "source": [
    "# Select numeric columns for box plots\n",
    "numeric_cols = df.select_dtypes(include='number').columns\n",
    "\n",
    "# Create box plots for each numeric column\n",
    "plt.figure(figsize=(16, 12))\n",
    "for i, col in enumerate(numeric_cols, 1):\n",
    "    plt.subplot(4, 4, i)\n",
    "    sns.boxplot(x=df[col], color = \"Green\")\n",
    "    plt.title(f'Box Plot for {col}')\n",
    "\n",
    "plt.tight_layout()\n",
    "plt.show()"
   ]
  },
  {
   "cell_type": "markdown",
   "id": "4279e55e-16fa-476f-953e-e47a56281261",
   "metadata": {},
   "source": [
    "### Outliers for max_temp"
   ]
  },
  {
   "cell_type": "code",
   "execution_count": 26,
   "id": "506aa52b-488b-462d-ac4f-94be63802ab7",
   "metadata": {},
   "outputs": [],
   "source": [
    "upper_limit = np.percentile(df.MaxTemp, [99])[0]"
   ]
  },
  {
   "cell_type": "code",
   "execution_count": 27,
   "id": "3928e0aa-c331-49e8-b10d-d3802fae70c4",
   "metadata": {},
   "outputs": [
    {
     "data": {
      "text/html": [
       "<div>\n",
       "<style scoped>\n",
       "    .dataframe tbody tr th:only-of-type {\n",
       "        vertical-align: middle;\n",
       "    }\n",
       "\n",
       "    .dataframe tbody tr th {\n",
       "        vertical-align: top;\n",
       "    }\n",
       "\n",
       "    .dataframe thead th {\n",
       "        text-align: right;\n",
       "    }\n",
       "</style>\n",
       "<table border=\"1\" class=\"dataframe\">\n",
       "  <thead>\n",
       "    <tr style=\"text-align: right;\">\n",
       "      <th></th>\n",
       "      <th>Date</th>\n",
       "      <th>Location</th>\n",
       "      <th>MinTemp</th>\n",
       "      <th>MaxTemp</th>\n",
       "      <th>Rainfall</th>\n",
       "      <th>Evaporation</th>\n",
       "      <th>Sunshine</th>\n",
       "      <th>Humidity9am</th>\n",
       "      <th>Humidity3pm</th>\n",
       "      <th>Pressure9am</th>\n",
       "      <th>Pressure3pm</th>\n",
       "      <th>Cloud9am</th>\n",
       "      <th>Cloud3pm</th>\n",
       "      <th>Temp9am</th>\n",
       "      <th>Temp3pm</th>\n",
       "      <th>RainToday_Yes</th>\n",
       "      <th>RainTomorrow_Yes</th>\n",
       "    </tr>\n",
       "  </thead>\n",
       "  <tbody>\n",
       "  </tbody>\n",
       "</table>\n",
       "</div>"
      ],
      "text/plain": [
       "Empty DataFrame\n",
       "Columns: [Date, Location, MinTemp, MaxTemp, Rainfall, Evaporation, Sunshine, Humidity9am, Humidity3pm, Pressure9am, Pressure3pm, Cloud9am, Cloud3pm, Temp9am, Temp3pm, RainToday_Yes, RainTomorrow_Yes]\n",
       "Index: []"
      ]
     },
     "execution_count": 27,
     "metadata": {},
     "output_type": "execute_result"
    }
   ],
   "source": [
    "df[(df.MaxTemp > 3*upper_limit)]"
   ]
  },
  {
   "cell_type": "code",
   "execution_count": 28,
   "id": "75b6eeb8-8206-4e0c-a6ca-652bc6068c26",
   "metadata": {},
   "outputs": [],
   "source": [
    "df.MaxTemp[(df.MaxTemp > 3*upper_limit)] = 3*upper_limit"
   ]
  },
  {
   "cell_type": "code",
   "execution_count": 29,
   "id": "f3b1597b-f164-4e95-8bfa-af32f25d96b4",
   "metadata": {},
   "outputs": [
    {
     "data": {
      "text/plain": [
       "<Axes: >"
      ]
     },
     "execution_count": 29,
     "metadata": {},
     "output_type": "execute_result"
    },
    {
     "data": {
      "image/png": "[encoded data removed]",
      "text/plain": [
       "<Figure size 640x480 with 1 Axes>"
      ]
     },
     "metadata": {},
     "output_type": "display_data"
    }
   ],
   "source": [
    "sns.boxplot(df['MaxTemp'], color = \"Green\")"
   ]
  },
  {
   "cell_type": "markdown",
   "id": "f5160ffd-5757-47dc-b24a-2a5f8cdf452c",
   "metadata": {},
   "source": [
    "### Train-Test Split"
   ]
  },
  {
   "cell_type": "code",
   "execution_count": 31,
   "id": "108e13af-cb5a-4d6e-946d-01c3df0c4362",
   "metadata": {},
   "outputs": [],
   "source": [
    "X_multi = df.drop(['RainTomorrow_Yes','Date', 'Location'], axis=1)"
   ]
  },
  {
   "cell_type": "code",
   "execution_count": 32,
   "id": "2800f671-9851-49aa-aa1f-7b99d0eda4ac",
   "metadata": {},
   "outputs": [],
   "source": [
    "y_multi = df['RainTomorrow_Yes']"
   ]
  },
  {
   "cell_type": "markdown",
   "id": "d3d4c876-a319-4202-9684-cc3afb7bc77d",
   "metadata": {},
   "source": [
    "* Split the data into training and testing sets"
   ]
  },
  {
   "cell_type": "code",
   "execution_count": 34,
   "id": "196fde8e-9aff-4d99-a209-d1a21a754e2b",
   "metadata": {},
   "outputs": [],
   "source": [
    "X_train, X_test, y_train, y_test = train_test_split(X_multi, y_multi, test_size=0.2, random_state=42)"
   ]
  },
  {
   "cell_type": "markdown",
   "id": "1fa1159f-0702-459f-be33-4d434ad1a817",
   "metadata": {},
   "source": [
    "## Training Classification Tree"
   ]
  },
  {
   "cell_type": "code",
   "execution_count": 36,
   "id": "836286e5-42d6-4846-a0ae-21a761c5de72",
   "metadata": {},
   "outputs": [],
   "source": [
    "clf_tree = tree.DecisionTreeClassifier(max_depth = 3)"
   ]
  },
  {
   "cell_type": "code",
   "execution_count": 37,
   "id": "263cc64a-5828-4aee-a4fb-6f10e7b1b831",
   "metadata": {},
   "outputs": [
    {
     "data": {
      "text/html": [
       "<style>#sk-container-id-1 {color: black;background-color: white;}#sk-container-id-1 pre{padding: 0;}#sk-container-id-1 div.sk-toggleable {background-color: white;}#sk-container-id-1 label.sk-toggleable__label {cursor: pointer;display: block;width: 100%;margin-bottom: 0;padding: 0.3em;box-sizing: border-box;text-align: center;}#sk-container-id-1 label.sk-toggleable__label-arrow:before {content: \"▸\";float: left;margin-right: 0.25em;color: #696969;}#sk-container-id-1 label.sk-toggleable__label-arrow:hover:before {color: black;}#sk-container-id-1 div.sk-estimator:hover label.sk-toggleable__label-arrow:before {color: black;}#sk-container-id-1 div.sk-toggleable__content {max-height: 0;max-width: 0;overflow: hidden;text-align: left;background-color: #f0f8ff;}#sk-container-id-1 div.sk-toggleable__content pre {margin: 0.2em;color: black;border-radius: 0.25em;background-color: #f0f8ff;}#sk-container-id-1 input.sk-toggleable__control:checked~div.sk-toggleable__content {max-height: 200px;max-width: 100%;overflow: auto;}#sk-container-id-1 input.sk-toggleable__control:checked~label.sk-toggleable__label-arrow:before {content: \"▾\";}#sk-container-id-1 div.sk-estimator input.sk-toggleable__control:checked~label.sk-toggleable__label {background-color: #d4ebff;}#sk-container-id-1 div.sk-label input.sk-toggleable__control:checked~label.sk-toggleable__label {background-color: #d4ebff;}#sk-container-id-1 input.sk-hidden--visually {border: 0;clip: rect(1px 1px 1px 1px);clip: rect(1px, 1px, 1px, 1px);height: 1px;margin: -1px;overflow: hidden;padding: 0;position: absolute;width: 1px;}#sk-container-id-1 div.sk-estimator {font-family: monospace;background-color: #f0f8ff;border: 1px dotted black;border-radius: 0.25em;box-sizing: border-box;margin-bottom: 0.5em;}#sk-container-id-1 div.sk-estimator:hover {background-color: #d4ebff;}#sk-container-id-1 div.sk-parallel-item::after {content: \"\";width: 100%;border-bottom: 1px solid gray;flex-grow: 1;}#sk-container-id-1 div.sk-label:hover label.sk-toggleable__label {background-color: #d4ebff;}#sk-container-id-1 div.sk-serial::before {content: \"\";position: absolute;border-left: 1px solid gray;box-sizing: border-box;top: 0;bottom: 0;left: 50%;z-index: 0;}#sk-container-id-1 div.sk-serial {display: flex;flex-direction: column;align-items: center;background-color: white;padding-right: 0.2em;padding-left: 0.2em;position: relative;}#sk-container-id-1 div.sk-item {position: relative;z-index: 1;}#sk-container-id-1 div.sk-parallel {display: flex;align-items: stretch;justify-content: center;background-color: white;position: relative;}#sk-container-id-1 div.sk-item::before, #sk-container-id-1 div.sk-parallel-item::before {content: \"\";position: absolute;border-left: 1px solid gray;box-sizing: border-box;top: 0;bottom: 0;left: 50%;z-index: -1;}#sk-container-id-1 div.sk-parallel-item {display: flex;flex-direction: column;z-index: 1;position: relative;background-color: white;}#sk-container-id-1 div.sk-parallel-item:first-child::after {align-self: flex-end;width: 50%;}#sk-container-id-1 div.sk-parallel-item:last-child::after {align-self: flex-start;width: 50%;}#sk-container-id-1 div.sk-parallel-item:only-child::after {width: 0;}#sk-container-id-1 div.sk-dashed-wrapped {border: 1px dashed gray;margin: 0 0.4em 0.5em 0.4em;box-sizing: border-box;padding-bottom: 0.4em;background-color: white;}#sk-container-id-1 div.sk-label label {font-family: monospace;font-weight: bold;display: inline-block;line-height: 1.2em;}#sk-container-id-1 div.sk-label-container {text-align: center;}#sk-container-id-1 div.sk-container {/* jupyter's `normalize.less` sets `[hidden] { display: none; }` but bootstrap.min.css set `[hidden] { display: none !important; }` so we also need the `!important` here to be able to override the default hidden behavior on the sphinx rendered scikit-learn.org. See: https://github.com/scikit-learn/scikit-learn/issues/21755 */display: inline-block !important;position: relative;}#sk-container-id-1 div.sk-text-repr-fallback {display: none;}</style><div id=\"sk-container-id-1\" class=\"sk-top-container\"><div class=\"sk-text-repr-fallback\"><pre>DecisionTreeClassifier(max_depth=3)</pre><b>In a Jupyter environment, please rerun this cell to show the HTML representation or trust the notebook. <br />On GitHub, the HTML representation is unable to render, please try loading this page with nbviewer.org.</b></div><div class=\"sk-container\" hidden><div class=\"sk-item\"><div class=\"sk-estimator sk-toggleable\"><input class=\"sk-toggleable__control sk-hidden--visually\" id=\"sk-estimator-id-1\" type=\"checkbox\" checked><label for=\"sk-estimator-id-1\" class=\"sk-toggleable__label sk-toggleable__label-arrow\">DecisionTreeClassifier</label><div class=\"sk-toggleable__content\"><pre>DecisionTreeClassifier(max_depth=3)</pre></div></div></div></div></div>"
      ],
      "text/plain": [
       "DecisionTreeClassifier(max_depth=3)"
      ]
     },
     "execution_count": 37,
     "metadata": {},
     "output_type": "execute_result"
    }
   ],
   "source": [
    "clf_tree.fit(X_train,y_train)"
   ]
  },
  {
   "cell_type": "code",
   "execution_count": 38,
   "id": "e0b1b6ed-19b3-4002-b843-5d6a42e94c45",
   "metadata": {},
   "outputs": [],
   "source": [
    "y_train_pred = clf_tree.predict(X_train)"
   ]
  },
  {
   "cell_type": "code",
   "execution_count": 39,
   "id": "eb077bcb-afa5-44e9-a400-d89bc1031efa",
   "metadata": {},
   "outputs": [],
   "source": [
    "y_test_pred = clf_tree.predict(X_test)"
   ]
  },
  {
   "cell_type": "code",
   "execution_count": 40,
   "id": "f1bcc27b-1a11-4599-a70c-5cb5964152a4",
   "metadata": {},
   "outputs": [],
   "source": [
    "cf_matrix_train = confusion_matrix(y_train, y_train_pred)\n",
    "cf_matrix_test = confusion_matrix(y_test, y_test_pred)\n",
    "accuracy_score_train_ct = accuracy_score(y_train, y_train_pred)\n",
    "accuracy_score_test_ct = accuracy_score(y_test, y_test_pred)\n",
    "precision_score_train_ct = precision_score(y_train, y_train_pred)\n",
    "precision_score_ct = precision_score(y_test, y_test_pred)\n",
    "recall_score_train_ct = recall_score(y_train, y_train_pred)\n",
    "recall_score_ct = recall_score(y_test, y_test_pred)\n",
    "roc_auc_score_train = roc_auc_score(y_train, y_train_pred)\n",
    "roc_auc_score_test = roc_auc_score(y_test,y_test_pred)"
   ]
  },
  {
   "cell_type": "code",
   "execution_count": 41,
   "id": "1df0b4f6-c768-4e42-b2cf-29718be22f5b",
   "metadata": {},
   "outputs": [
    {
     "name": "stdout",
     "output_type": "stream",
     "text": [
      "Confusion Matrix (Training Data):\n",
      "[[1815  173]\n",
      " [ 288  393]]\n",
      "\n",
      "accuracy Score (Training Data): 0.8272761333832896\n",
      "\n",
      "precision Score (Training Data): 0.6943462897526502\n",
      "\n",
      "recall Score (Training Data): 0.5770925110132159\n",
      "\n",
      "roc auc Score (Training Data): 0.7450351891082176\n",
      "\n",
      "------------------------------------------------------\n",
      "\n",
      "Confusion Matrix (Testing Data):\n",
      "[[430  54]\n",
      " [ 78 106]]\n",
      "\n",
      "accuracy Score (Testing Data): 0.8023952095808383\n",
      "\n",
      "precision Score (Test Data): 0.6625\n",
      "\n",
      "recall Score (Test Data): 0.5760869565217391\n",
      "\n",
      "roc auc Score (Test Data): 0.7322583542939275\n",
      "\n",
      "------------------------------------------------------\n"
     ]
    }
   ],
   "source": [
    "# Print the confusion matrix and accuracy score for training data\n",
    "print(\"Confusion Matrix (Training Data):\")\n",
    "print(cf_matrix_train)\n",
    "\n",
    "print(\"\\naccuracy Score (Training Data):\", accuracy_score_train_ct)\n",
    "print(\"\\nprecision Score (Training Data):\", precision_score_train_ct)\n",
    "print(\"\\nrecall Score (Training Data):\", recall_score_train_ct)\n",
    "print(\"\\nroc auc Score (Training Data):\", roc_auc_score_train)\n",
    "\n",
    "print(\"\\n------------------------------------------------------\")\n",
    "# Print the confusion matrix and accuracy score for testing data\n",
    "print(\"\\nConfusion Matrix (Testing Data):\")\n",
    "print(cf_matrix_test)\n",
    "\n",
    "print(\"\\naccuracy Score (Testing Data):\", accuracy_score_test_ct)\n",
    "print(\"\\nprecision Score (Test Data):\", precision_score_ct)\n",
    "print(\"\\nrecall Score (Test Data):\", recall_score_ct)\n",
    "print(\"\\nroc auc Score (Test Data):\", roc_auc_score_test)\n",
    "print(\"\\n------------------------------------------------------\")"
   ]
  },
  {
   "cell_type": "markdown",
   "id": "9c599c7e-11f2-4767-b3ab-9fc5f74562ef",
   "metadata": {},
   "source": [
    "## Bagging"
   ]
  },
  {
   "cell_type": "code",
   "execution_count": 43,
   "id": "8172e29b-78ee-4122-b446-86276a9fb143",
   "metadata": {},
   "outputs": [],
   "source": [
    "Base_tree = tree.DecisionTreeClassifier(max_depth=3)"
   ]
  },
  {
   "cell_type": "code",
   "execution_count": 44,
   "id": "f1c4b538-ee1d-45b1-92d2-a8db0570ef99",
   "metadata": {},
   "outputs": [],
   "source": [
    "bagging_clf = BaggingClassifier(base_estimator=Base_tree, random_state=42)"
   ]
  },
  {
   "cell_type": "code",
   "execution_count": 45,
   "id": "eb952b19-eab0-4169-b644-4816171bb145",
   "metadata": {},
   "outputs": [],
   "source": [
    "param_grid = {\n",
    "    'n_estimators': [10, 50, 100]}"
   ]
  },
  {
   "cell_type": "code",
   "execution_count": 46,
   "id": "8092efbb-171a-416f-a81d-3aadf7e4c68a",
   "metadata": {},
   "outputs": [],
   "source": [
    "grid_search = GridSearchCV(bagging_clf, param_grid, cv=3, scoring='accuracy')"
   ]
  },
  {
   "cell_type": "code",
   "execution_count": 47,
   "id": "0db0a1e2-5a0a-4efd-8459-91871d3902cb",
   "metadata": {},
   "outputs": [
    {
     "data": {
      "text/html": [
       "<style>#sk-container-id-2 {color: black;background-color: white;}#sk-container-id-2 pre{padding: 0;}#sk-container-id-2 div.sk-toggleable {background-color: white;}#sk-container-id-2 label.sk-toggleable__label {cursor: pointer;display: block;width: 100%;margin-bottom: 0;padding: 0.3em;box-sizing: border-box;text-align: center;}#sk-container-id-2 label.sk-toggleable__label-arrow:before {content: \"▸\";float: left;margin-right: 0.25em;color: #696969;}#sk-container-id-2 label.sk-toggleable__label-arrow:hover:before {color: black;}#sk-container-id-2 div.sk-estimator:hover label.sk-toggleable__label-arrow:before {color: black;}#sk-container-id-2 div.sk-toggleable__content {max-height: 0;max-width: 0;overflow: hidden;text-align: left;background-color: #f0f8ff;}#sk-container-id-2 div.sk-toggleable__content pre {margin: 0.2em;color: black;border-radius: 0.25em;background-color: #f0f8ff;}#sk-container-id-2 input.sk-toggleable__control:checked~div.sk-toggleable__content {max-height: 200px;max-width: 100%;overflow: auto;}#sk-container-id-2 input.sk-toggleable__control:checked~label.sk-toggleable__label-arrow:before {content: \"▾\";}#sk-container-id-2 div.sk-estimator input.sk-toggleable__control:checked~label.sk-toggleable__label {background-color: #d4ebff;}#sk-container-id-2 div.sk-label input.sk-toggleable__control:checked~label.sk-toggleable__label {background-color: #d4ebff;}#sk-container-id-2 input.sk-hidden--visually {border: 0;clip: rect(1px 1px 1px 1px);clip: rect(1px, 1px, 1px, 1px);height: 1px;margin: -1px;overflow: hidden;padding: 0;position: absolute;width: 1px;}#sk-container-id-2 div.sk-estimator {font-family: monospace;background-color: #f0f8ff;border: 1px dotted black;border-radius: 0.25em;box-sizing: border-box;margin-bottom: 0.5em;}#sk-container-id-2 div.sk-estimator:hover {background-color: #d4ebff;}#sk-container-id-2 div.sk-parallel-item::after {content: \"\";width: 100%;border-bottom: 1px solid gray;flex-grow: 1;}#sk-container-id-2 div.sk-label:hover label.sk-toggleable__label {background-color: #d4ebff;}#sk-container-id-2 div.sk-serial::before {content: \"\";position: absolute;border-left: 1px solid gray;box-sizing: border-box;top: 0;bottom: 0;left: 50%;z-index: 0;}#sk-container-id-2 div.sk-serial {display: flex;flex-direction: column;align-items: center;background-color: white;padding-right: 0.2em;padding-left: 0.2em;position: relative;}#sk-container-id-2 div.sk-item {position: relative;z-index: 1;}#sk-container-id-2 div.sk-parallel {display: flex;align-items: stretch;justify-content: center;background-color: white;position: relative;}#sk-container-id-2 div.sk-item::before, #sk-container-id-2 div.sk-parallel-item::before {content: \"\";position: absolute;border-left: 1px solid gray;box-sizing: border-box;top: 0;bottom: 0;left: 50%;z-index: -1;}#sk-container-id-2 div.sk-parallel-item {display: flex;flex-direction: column;z-index: 1;position: relative;background-color: white;}#sk-container-id-2 div.sk-parallel-item:first-child::after {align-self: flex-end;width: 50%;}#sk-container-id-2 div.sk-parallel-item:last-child::after {align-self: flex-start;width: 50%;}#sk-container-id-2 div.sk-parallel-item:only-child::after {width: 0;}#sk-container-id-2 div.sk-dashed-wrapped {border: 1px dashed gray;margin: 0 0.4em 0.5em 0.4em;box-sizing: border-box;padding-bottom: 0.4em;background-color: white;}#sk-container-id-2 div.sk-label label {font-family: monospace;font-weight: bold;display: inline-block;line-height: 1.2em;}#sk-container-id-2 div.sk-label-container {text-align: center;}#sk-container-id-2 div.sk-container {/* jupyter's `normalize.less` sets `[hidden] { display: none; }` but bootstrap.min.css set `[hidden] { display: none !important; }` so we also need the `!important` here to be able to override the default hidden behavior on the sphinx rendered scikit-learn.org. See: https://github.com/scikit-learn/scikit-learn/issues/21755 */display: inline-block !important;position: relative;}#sk-container-id-2 div.sk-text-repr-fallback {display: none;}</style><div id=\"sk-container-id-2\" class=\"sk-top-container\"><div class=\"sk-text-repr-fallback\"><pre>GridSearchCV(cv=3,\n",
       "             estimator=BaggingClassifier(base_estimator=DecisionTreeClassifier(max_depth=3),\n",
       "                                         random_state=42),\n",
       "             param_grid={&#x27;n_estimators&#x27;: [10, 50, 100]}, scoring=&#x27;accuracy&#x27;)</pre><b>In a Jupyter environment, please rerun this cell to show the HTML representation or trust the notebook. <br />On GitHub, the HTML representation is unable to render, please try loading this page with nbviewer.org.</b></div><div class=\"sk-container\" hidden><div class=\"sk-item sk-dashed-wrapped\"><div class=\"sk-label-container\"><div class=\"sk-label sk-toggleable\"><input class=\"sk-toggleable__control sk-hidden--visually\" id=\"sk-estimator-id-2\" type=\"checkbox\" ><label for=\"sk-estimator-id-2\" class=\"sk-toggleable__label sk-toggleable__label-arrow\">GridSearchCV</label><div class=\"sk-toggleable__content\"><pre>GridSearchCV(cv=3,\n",
       "             estimator=BaggingClassifier(base_estimator=DecisionTreeClassifier(max_depth=3),\n",
       "                                         random_state=42),\n",
       "             param_grid={&#x27;n_estimators&#x27;: [10, 50, 100]}, scoring=&#x27;accuracy&#x27;)</pre></div></div></div><div class=\"sk-parallel\"><div class=\"sk-parallel-item\"><div class=\"sk-item\"><div class=\"sk-label-container\"><div class=\"sk-label sk-toggleable\"><input class=\"sk-toggleable__control sk-hidden--visually\" id=\"sk-estimator-id-3\" type=\"checkbox\" ><label for=\"sk-estimator-id-3\" class=\"sk-toggleable__label sk-toggleable__label-arrow\">estimator: BaggingClassifier</label><div class=\"sk-toggleable__content\"><pre>BaggingClassifier(base_estimator=DecisionTreeClassifier(max_depth=3),\n",
       "                  random_state=42)</pre></div></div></div><div class=\"sk-serial\"><div class=\"sk-item sk-dashed-wrapped\"><div class=\"sk-parallel\"><div class=\"sk-parallel-item\"><div class=\"sk-item\"><div class=\"sk-label-container\"><div class=\"sk-label sk-toggleable\"><input class=\"sk-toggleable__control sk-hidden--visually\" id=\"sk-estimator-id-4\" type=\"checkbox\" ><label for=\"sk-estimator-id-4\" class=\"sk-toggleable__label sk-toggleable__label-arrow\">base_estimator: DecisionTreeClassifier</label><div class=\"sk-toggleable__content\"><pre>DecisionTreeClassifier(max_depth=3)</pre></div></div></div><div class=\"sk-serial\"><div class=\"sk-item\"><div class=\"sk-estimator sk-toggleable\"><input class=\"sk-toggleable__control sk-hidden--visually\" id=\"sk-estimator-id-5\" type=\"checkbox\" ><label for=\"sk-estimator-id-5\" class=\"sk-toggleable__label sk-toggleable__label-arrow\">DecisionTreeClassifier</label><div class=\"sk-toggleable__content\"><pre>DecisionTreeClassifier(max_depth=3)</pre></div></div></div></div></div></div></div></div></div></div></div></div></div></div></div>"
      ],
      "text/plain": [
       "GridSearchCV(cv=3,\n",
       "             estimator=BaggingClassifier(base_estimator=DecisionTreeClassifier(max_depth=3),\n",
       "                                         random_state=42),\n",
       "             param_grid={'n_estimators': [10, 50, 100]}, scoring='accuracy')"
      ]
     },
     "execution_count": 47,
     "metadata": {},
     "output_type": "execute_result"
    }
   ],
   "source": [
    "grid_search.fit(X_train, y_train)"
   ]
  },
  {
   "cell_type": "code",
   "execution_count": 48,
   "id": "0339bec2-409d-4460-9593-cf3c11f1f3f6",
   "metadata": {},
   "outputs": [],
   "source": [
    "best_params = grid_search.best_params_"
   ]
  },
  {
   "cell_type": "code",
   "execution_count": 49,
   "id": "8712f605-f653-4681-9d0f-0e81a87cf188",
   "metadata": {},
   "outputs": [],
   "source": [
    "best_bagging_clf = grid_search.best_estimator_"
   ]
  },
  {
   "cell_type": "code",
   "execution_count": 50,
   "id": "450960a5-818e-471c-98d9-31d1fe038532",
   "metadata": {},
   "outputs": [],
   "source": [
    "y_train_pred_bagging = best_bagging_clf.predict(X_train)"
   ]
  },
  {
   "cell_type": "code",
   "execution_count": 51,
   "id": "32e876fd-b3e7-4ff3-9e4d-9ddd59995115",
   "metadata": {},
   "outputs": [],
   "source": [
    "y_test_pred_bagging = best_bagging_clf.predict(X_test)"
   ]
  },
  {
   "cell_type": "code",
   "execution_count": 52,
   "id": "54d989ab-bcb2-4cc1-b48f-9710e5c90edd",
   "metadata": {},
   "outputs": [],
   "source": [
    "cfm_train_bagging = confusion_matrix(y_train, y_train_pred_bagging)\n",
    "cfm_test_bagging = confusion_matrix(y_test, y_test_pred_bagging)\n",
    "acs_train_bagging = accuracy_score(y_train, y_train_pred_bagging)\n",
    "acs_test_bagging = accuracy_score(y_test, y_test_pred_bagging)\n",
    "pcs_train_bagging = precision_score(y_train, y_train_pred_bagging)\n",
    "pcs_test_bagging = precision_score(y_test, y_test_pred_bagging)\n",
    "rcs_train_bagging = recall_score(y_train, y_train_pred_bagging)\n",
    "rcs_test_bagging = recall_score(y_test, y_test_pred_bagging)\n",
    "roc_auc_score_train_bagging = roc_auc_score(y_train, y_train_pred_bagging)\n",
    "roc_auc_score_test_bagging = roc_auc_score(y_test, y_test_pred_bagging)"
   ]
  },
  {
   "cell_type": "code",
   "execution_count": 53,
   "id": "ef98f34e-412c-45da-84f7-77d1825d7bf1",
   "metadata": {},
   "outputs": [
    {
     "name": "stdout",
     "output_type": "stream",
     "text": [
      "Best Hyperparameter: {'n_estimators': 10}\n",
      "Bagging Classifier Results:\n",
      "Confusion Matrix (Training Data):\n",
      "[[1923   65]\n",
      " [ 357  324]]\n",
      "\n",
      "Accuracy Score (Training Data): 0.8418883476957663\n",
      "\n",
      "Precision Score (Training Data): 0.8329048843187661\n",
      "\n",
      "Recall Score (Training Data): 0.47577092511013214\n",
      "\n",
      "ROC AUC Score (Training Data): 0.7215373740238789\n",
      "\n",
      "------------------------------------------------------\n",
      "\n",
      "Confusion Matrix (Testing Data):\n",
      "[[462  22]\n",
      " [ 97  87]]\n",
      "\n",
      "Accuracy Score (Testing Data): 0.8218562874251497\n",
      "\n",
      "Precision Score (Test Data): 0.7981651376146789\n",
      "\n",
      "Recall Score (Test Data): 0.47282608695652173\n",
      "\n",
      "ROC AUC Score (Test Data): 0.7136857707509882\n",
      "\n",
      "------------------------------------------------------\n"
     ]
    }
   ],
   "source": [
    "print(\"Best Hyperparameter:\", best_params)\n",
    "print(\"Bagging Classifier Results:\")\n",
    "print(\"Confusion Matrix (Training Data):\")\n",
    "print(cfm_train_bagging)\n",
    "print(\"\\nAccuracy Score (Training Data):\", acs_train_bagging)\n",
    "print(\"\\nPrecision Score (Training Data):\", pcs_train_bagging)\n",
    "print(\"\\nRecall Score (Training Data):\", rcs_train_bagging)\n",
    "print(\"\\nROC AUC Score (Training Data):\", roc_auc_score_train_bagging)\n",
    "print(\"\\n------------------------------------------------------\")\n",
    "print(\"\\nConfusion Matrix (Testing Data):\")\n",
    "print(cfm_test_bagging)\n",
    "print(\"\\nAccuracy Score (Testing Data):\", acs_test_bagging)\n",
    "print(\"\\nPrecision Score (Test Data):\", pcs_test_bagging)\n",
    "print(\"\\nRecall Score (Test Data):\", rcs_test_bagging)\n",
    "print(\"\\nROC AUC Score (Test Data):\", roc_auc_score_test_bagging)\n",
    "print(\"\\n------------------------------------------------------\")"
   ]
  },
  {
   "cell_type": "markdown",
   "id": "2a403658-c68a-4b5a-8f6a-0932140b7bfb",
   "metadata": {},
   "source": [
    "## Random Forest Classifier"
   ]
  },
  {
   "cell_type": "code",
   "execution_count": 55,
   "id": "1e2bce26-3ded-4a3a-9c26-88c748436d9b",
   "metadata": {},
   "outputs": [],
   "source": [
    "rf_classifier = RandomForestClassifier(random_state=42)"
   ]
  },
  {
   "cell_type": "code",
   "execution_count": 56,
   "id": "67c52a1e-afbe-4a7d-ac5e-1149c0827725",
   "metadata": {},
   "outputs": [],
   "source": [
    "param_grid = {\n",
    "    'n_estimators': [50, 200],\n",
    "    'max_depth': [10, 20],\n",
    "    'min_samples_split': [ 5, 10],\n",
    "    'min_samples_leaf': [1, 4],\n",
    "}"
   ]
  },
  {
   "cell_type": "code",
   "execution_count": 57,
   "id": "2cd18ba7-9362-4ec0-b2cb-50da99683643",
   "metadata": {},
   "outputs": [],
   "source": [
    "grid_search_rf = GridSearchCV(rf_classifier, param_grid, cv=3, scoring='accuracy')"
   ]
  },
  {
   "cell_type": "code",
   "execution_count": 58,
   "id": "ad28254e-4033-4058-abcc-bc3faccc7bdb",
   "metadata": {},
   "outputs": [
    {
     "data": {
      "text/html": [
       "<style>#sk-container-id-3 {color: black;background-color: white;}#sk-container-id-3 pre{padding: 0;}#sk-container-id-3 div.sk-toggleable {background-color: white;}#sk-container-id-3 label.sk-toggleable__label {cursor: pointer;display: block;width: 100%;margin-bottom: 0;padding: 0.3em;box-sizing: border-box;text-align: center;}#sk-container-id-3 label.sk-toggleable__label-arrow:before {content: \"▸\";float: left;margin-right: 0.25em;color: #696969;}#sk-container-id-3 label.sk-toggleable__label-arrow:hover:before {color: black;}#sk-container-id-3 div.sk-estimator:hover label.sk-toggleable__label-arrow:before {color: black;}#sk-container-id-3 div.sk-toggleable__content {max-height: 0;max-width: 0;overflow: hidden;text-align: left;background-color: #f0f8ff;}#sk-container-id-3 div.sk-toggleable__content pre {margin: 0.2em;color: black;border-radius: 0.25em;background-color: #f0f8ff;}#sk-container-id-3 input.sk-toggleable__control:checked~div.sk-toggleable__content {max-height: 200px;max-width: 100%;overflow: auto;}#sk-container-id-3 input.sk-toggleable__control:checked~label.sk-toggleable__label-arrow:before {content: \"▾\";}#sk-container-id-3 div.sk-estimator input.sk-toggleable__control:checked~label.sk-toggleable__label {background-color: #d4ebff;}#sk-container-id-3 div.sk-label input.sk-toggleable__control:checked~label.sk-toggleable__label {background-color: #d4ebff;}#sk-container-id-3 input.sk-hidden--visually {border: 0;clip: rect(1px 1px 1px 1px);clip: rect(1px, 1px, 1px, 1px);height: 1px;margin: -1px;overflow: hidden;padding: 0;position: absolute;width: 1px;}#sk-container-id-3 div.sk-estimator {font-family: monospace;background-color: #f0f8ff;border: 1px dotted black;border-radius: 0.25em;box-sizing: border-box;margin-bottom: 0.5em;}#sk-container-id-3 div.sk-estimator:hover {background-color: #d4ebff;}#sk-container-id-3 div.sk-parallel-item::after {content: \"\";width: 100%;border-bottom: 1px solid gray;flex-grow: 1;}#sk-container-id-3 div.sk-label:hover label.sk-toggleable__label {background-color: #d4ebff;}#sk-container-id-3 div.sk-serial::before {content: \"\";position: absolute;border-left: 1px solid gray;box-sizing: border-box;top: 0;bottom: 0;left: 50%;z-index: 0;}#sk-container-id-3 div.sk-serial {display: flex;flex-direction: column;align-items: center;background-color: white;padding-right: 0.2em;padding-left: 0.2em;position: relative;}#sk-container-id-3 div.sk-item {position: relative;z-index: 1;}#sk-container-id-3 div.sk-parallel {display: flex;align-items: stretch;justify-content: center;background-color: white;position: relative;}#sk-container-id-3 div.sk-item::before, #sk-container-id-3 div.sk-parallel-item::before {content: \"\";position: absolute;border-left: 1px solid gray;box-sizing: border-box;top: 0;bottom: 0;left: 50%;z-index: -1;}#sk-container-id-3 div.sk-parallel-item {display: flex;flex-direction: column;z-index: 1;position: relative;background-color: white;}#sk-container-id-3 div.sk-parallel-item:first-child::after {align-self: flex-end;width: 50%;}#sk-container-id-3 div.sk-parallel-item:last-child::after {align-self: flex-start;width: 50%;}#sk-container-id-3 div.sk-parallel-item:only-child::after {width: 0;}#sk-container-id-3 div.sk-dashed-wrapped {border: 1px dashed gray;margin: 0 0.4em 0.5em 0.4em;box-sizing: border-box;padding-bottom: 0.4em;background-color: white;}#sk-container-id-3 div.sk-label label {font-family: monospace;font-weight: bold;display: inline-block;line-height: 1.2em;}#sk-container-id-3 div.sk-label-container {text-align: center;}#sk-container-id-3 div.sk-container {/* jupyter's `normalize.less` sets `[hidden] { display: none; }` but bootstrap.min.css set `[hidden] { display: none !important; }` so we also need the `!important` here to be able to override the default hidden behavior on the sphinx rendered scikit-learn.org. See: https://github.com/scikit-learn/scikit-learn/issues/21755 */display: inline-block !important;position: relative;}#sk-container-id-3 div.sk-text-repr-fallback {display: none;}</style><div id=\"sk-container-id-3\" class=\"sk-top-container\"><div class=\"sk-text-repr-fallback\"><pre>GridSearchCV(cv=3, estimator=RandomForestClassifier(random_state=42),\n",
       "             param_grid={&#x27;max_depth&#x27;: [10, 20], &#x27;min_samples_leaf&#x27;: [1, 4],\n",
       "                         &#x27;min_samples_split&#x27;: [5, 10],\n",
       "                         &#x27;n_estimators&#x27;: [50, 200]},\n",
       "             scoring=&#x27;accuracy&#x27;)</pre><b>In a Jupyter environment, please rerun this cell to show the HTML representation or trust the notebook. <br />On GitHub, the HTML representation is unable to render, please try loading this page with nbviewer.org.</b></div><div class=\"sk-container\" hidden><div class=\"sk-item sk-dashed-wrapped\"><div class=\"sk-label-container\"><div class=\"sk-label sk-toggleable\"><input class=\"sk-toggleable__control sk-hidden--visually\" id=\"sk-estimator-id-6\" type=\"checkbox\" ><label for=\"sk-estimator-id-6\" class=\"sk-toggleable__label sk-toggleable__label-arrow\">GridSearchCV</label><div class=\"sk-toggleable__content\"><pre>GridSearchCV(cv=3, estimator=RandomForestClassifier(random_state=42),\n",
       "             param_grid={&#x27;max_depth&#x27;: [10, 20], &#x27;min_samples_leaf&#x27;: [1, 4],\n",
       "                         &#x27;min_samples_split&#x27;: [5, 10],\n",
       "                         &#x27;n_estimators&#x27;: [50, 200]},\n",
       "             scoring=&#x27;accuracy&#x27;)</pre></div></div></div><div class=\"sk-parallel\"><div class=\"sk-parallel-item\"><div class=\"sk-item\"><div class=\"sk-label-container\"><div class=\"sk-label sk-toggleable\"><input class=\"sk-toggleable__control sk-hidden--visually\" id=\"sk-estimator-id-7\" type=\"checkbox\" ><label for=\"sk-estimator-id-7\" class=\"sk-toggleable__label sk-toggleable__label-arrow\">estimator: RandomForestClassifier</label><div class=\"sk-toggleable__content\"><pre>RandomForestClassifier(random_state=42)</pre></div></div></div><div class=\"sk-serial\"><div class=\"sk-item\"><div class=\"sk-estimator sk-toggleable\"><input class=\"sk-toggleable__control sk-hidden--visually\" id=\"sk-estimator-id-8\" type=\"checkbox\" ><label for=\"sk-estimator-id-8\" class=\"sk-toggleable__label sk-toggleable__label-arrow\">RandomForestClassifier</label><div class=\"sk-toggleable__content\"><pre>RandomForestClassifier(random_state=42)</pre></div></div></div></div></div></div></div></div></div></div>"
      ],
      "text/plain": [
       "GridSearchCV(cv=3, estimator=RandomForestClassifier(random_state=42),\n",
       "             param_grid={'max_depth': [10, 20], 'min_samples_leaf': [1, 4],\n",
       "                         'min_samples_split': [5, 10],\n",
       "                         'n_estimators': [50, 200]},\n",
       "             scoring='accuracy')"
      ]
     },
     "execution_count": 58,
     "metadata": {},
     "output_type": "execute_result"
    }
   ],
   "source": [
    "grid_search_rf.fit(X_train, y_train)"
   ]
  },
  {
   "cell_type": "code",
   "execution_count": 59,
   "id": "64fdade9-4637-4a9c-a04b-8678286da159",
   "metadata": {},
   "outputs": [],
   "source": [
    "best_params_rf = grid_search_rf.best_params_"
   ]
  },
  {
   "cell_type": "code",
   "execution_count": 60,
   "id": "a2e28d14-5ace-426f-be88-834ac9ef23db",
   "metadata": {},
   "outputs": [],
   "source": [
    "best_rf_classifier = grid_search_rf.best_estimator_"
   ]
  },
  {
   "cell_type": "code",
   "execution_count": 61,
   "id": "24e4ca1b-febc-4351-b515-d9390f8b553a",
   "metadata": {},
   "outputs": [],
   "source": [
    "y_train_pred_rf = best_rf_classifier.predict(X_train)"
   ]
  },
  {
   "cell_type": "code",
   "execution_count": 62,
   "id": "8bc2ac95-8882-4c59-b0d5-d900caad706b",
   "metadata": {},
   "outputs": [],
   "source": [
    "y_test_pred_rf = best_rf_classifier.predict(X_test)"
   ]
  },
  {
   "cell_type": "code",
   "execution_count": 63,
   "id": "5131ce1a-535d-4b8f-98c8-0b90c865bb61",
   "metadata": {},
   "outputs": [],
   "source": [
    "cfm_train_rf = confusion_matrix(y_train, y_train_pred_rf)\n",
    "cfm_test_rf = confusion_matrix(y_test, y_test_pred_rf)\n",
    "acs_train_rf = accuracy_score(y_train, y_train_pred_rf)\n",
    "acs_test_rf = accuracy_score(y_test, y_test_pred_rf)\n",
    "pcs_train_rf = precision_score(y_train, y_train_pred_rf)\n",
    "pcs_test_rf = precision_score(y_test, y_test_pred_rf)\n",
    "rcs_train_rf = recall_score(y_train, y_train_pred_rf)\n",
    "rcs_test_rf = recall_score(y_test, y_test_pred_rf)\n",
    "roc_auc_score_train_rf = roc_auc_score(y_train, y_train_pred_rf)\n",
    "roc_auc_score_test_rf = roc_auc_score(y_test, y_test_pred_rf)"
   ]
  },
  {
   "cell_type": "code",
   "execution_count": 64,
   "id": "8839a084-2394-4ada-8459-8a22a3de6afb",
   "metadata": {},
   "outputs": [
    {
     "name": "stdout",
     "output_type": "stream",
     "text": [
      "Random Forest Classifier Results:\n",
      "Confusion Matrix (Training Data):\n",
      "[[1955   33]\n",
      " [ 197  484]]\n",
      "\n",
      "Accuracy Score (Training Data): 0.913825402772574\n",
      "\n",
      "Precision Score (Training Data): 0.9361702127659575\n",
      "\n",
      "Recall Score (Training Data): 0.71071953010279\n",
      "\n",
      "ROC AUC Score (Training Data): 0.8470599662586384\n",
      "\n",
      "------------------------------------------------------\n",
      "\n",
      "Confusion Matrix (Testing Data):\n",
      "[[452  32]\n",
      " [ 85  99]]\n",
      "\n",
      "Accuracy Score (Testing Data): 0.8248502994011976\n",
      "\n",
      "Precision Score (Test Data): 0.7557251908396947\n",
      "\n",
      "Recall Score (Test Data): 0.5380434782608695\n",
      "\n",
      "ROC AUC Score (Test Data): 0.7359638878907654\n",
      "\n",
      "------------------------------------------------------\n"
     ]
    }
   ],
   "source": [
    "print(\"Random Forest Classifier Results:\")\n",
    "print(\"Confusion Matrix (Training Data):\")\n",
    "print(cfm_train_rf)\n",
    "print(\"\\nAccuracy Score (Training Data):\", acs_train_rf)\n",
    "print(\"\\nPrecision Score (Training Data):\", pcs_train_rf)\n",
    "print(\"\\nRecall Score (Training Data):\", rcs_train_rf)\n",
    "print(\"\\nROC AUC Score (Training Data):\", roc_auc_score_train_rf)\n",
    "print(\"\\n------------------------------------------------------\")\n",
    "print(\"\\nConfusion Matrix (Testing Data):\")\n",
    "print(cfm_test_rf)\n",
    "print(\"\\nAccuracy Score (Testing Data):\", acs_test_rf)\n",
    "print(\"\\nPrecision Score (Test Data):\", pcs_test_rf)\n",
    "print(\"\\nRecall Score (Test Data):\", rcs_test_rf)\n",
    "print(\"\\nROC AUC Score (Test Data):\", roc_auc_score_test_rf)\n",
    "print(\"\\n------------------------------------------------------\")"
   ]
  },
  {
   "cell_type": "code",
   "execution_count": 65,
   "id": "eb05a058-d84d-4dde-bedf-b88446163ea3",
   "metadata": {},
   "outputs": [
    {
     "name": "stdout",
     "output_type": "stream",
     "text": [
      "best hyperparameter:  {'max_depth': 20, 'min_samples_leaf': 4, 'min_samples_split': 10, 'n_estimators': 200}\n"
     ]
    }
   ],
   "source": [
    "print(\"best hyperparameter: \", best_params_rf)"
   ]
  },
  {
   "cell_type": "markdown",
   "id": "b7930ee0-2d6b-4940-84ba-0d7f7f664a19",
   "metadata": {},
   "source": [
    "## Gradient Boosting Classifier"
   ]
  },
  {
   "cell_type": "code",
   "execution_count": 67,
   "id": "153db64b-10ee-4861-acea-bac9d70371c2",
   "metadata": {},
   "outputs": [],
   "source": [
    "gb_classifier = GradientBoostingClassifier(random_state=42)"
   ]
  },
  {
   "cell_type": "code",
   "execution_count": 68,
   "id": "dee669a1-1921-4b3e-bc01-0ec418259380",
   "metadata": {},
   "outputs": [],
   "source": [
    "param_grid_gb = {\n",
    "    'n_estimators': [50, 100, 200],\n",
    "    'learning_rate': [0.01, 0.1, 0.2],\n",
    "    'max_depth': [3, 5, 7],\n",
    "    'min_samples_split': [2, 5, 10],\n",
    "    'min_samples_leaf': [1, 2, 4],\n",
    "}"
   ]
  },
  {
   "cell_type": "code",
   "execution_count": 69,
   "id": "b350d321-53f0-4c8e-80a9-c83fc15329f5",
   "metadata": {},
   "outputs": [],
   "source": [
    "grid_search_gb = GridSearchCV(gb_classifier, param_grid_gb, cv=3, scoring='accuracy')"
   ]
  },
  {
   "cell_type": "code",
   "execution_count": 70,
   "id": "ce00ff10-09bf-4737-805e-4d04cda275f0",
   "metadata": {},
   "outputs": [
    {
     "data": {
      "text/html": [
       "<style>#sk-container-id-4 {color: black;background-color: white;}#sk-container-id-4 pre{padding: 0;}#sk-container-id-4 div.sk-toggleable {background-color: white;}#sk-container-id-4 label.sk-toggleable__label {cursor: pointer;display: block;width: 100%;margin-bottom: 0;padding: 0.3em;box-sizing: border-box;text-align: center;}#sk-container-id-4 label.sk-toggleable__label-arrow:before {content: \"▸\";float: left;margin-right: 0.25em;color: #696969;}#sk-container-id-4 label.sk-toggleable__label-arrow:hover:before {color: black;}#sk-container-id-4 div.sk-estimator:hover label.sk-toggleable__label-arrow:before {color: black;}#sk-container-id-4 div.sk-toggleable__content {max-height: 0;max-width: 0;overflow: hidden;text-align: left;background-color: #f0f8ff;}#sk-container-id-4 div.sk-toggleable__content pre {margin: 0.2em;color: black;border-radius: 0.25em;background-color: #f0f8ff;}#sk-container-id-4 input.sk-toggleable__control:checked~div.sk-toggleable__content {max-height: 200px;max-width: 100%;overflow: auto;}#sk-container-id-4 input.sk-toggleable__control:checked~label.sk-toggleable__label-arrow:before {content: \"▾\";}#sk-container-id-4 div.sk-estimator input.sk-toggleable__control:checked~label.sk-toggleable__label {background-color: #d4ebff;}#sk-container-id-4 div.sk-label input.sk-toggleable__control:checked~label.sk-toggleable__label {background-color: #d4ebff;}#sk-container-id-4 input.sk-hidden--visually {border: 0;clip: rect(1px 1px 1px 1px);clip: rect(1px, 1px, 1px, 1px);height: 1px;margin: -1px;overflow: hidden;padding: 0;position: absolute;width: 1px;}#sk-container-id-4 div.sk-estimator {font-family: monospace;background-color: #f0f8ff;border: 1px dotted black;border-radius: 0.25em;box-sizing: border-box;margin-bottom: 0.5em;}#sk-container-id-4 div.sk-estimator:hover {background-color: #d4ebff;}#sk-container-id-4 div.sk-parallel-item::after {content: \"\";width: 100%;border-bottom: 1px solid gray;flex-grow: 1;}#sk-container-id-4 div.sk-label:hover label.sk-toggleable__label {background-color: #d4ebff;}#sk-container-id-4 div.sk-serial::before {content: \"\";position: absolute;border-left: 1px solid gray;box-sizing: border-box;top: 0;bottom: 0;left: 50%;z-index: 0;}#sk-container-id-4 div.sk-serial {display: flex;flex-direction: column;align-items: center;background-color: white;padding-right: 0.2em;padding-left: 0.2em;position: relative;}#sk-container-id-4 div.sk-item {position: relative;z-index: 1;}#sk-container-id-4 div.sk-parallel {display: flex;align-items: stretch;justify-content: center;background-color: white;position: relative;}#sk-container-id-4 div.sk-item::before, #sk-container-id-4 div.sk-parallel-item::before {content: \"\";position: absolute;border-left: 1px solid gray;box-sizing: border-box;top: 0;bottom: 0;left: 50%;z-index: -1;}#sk-container-id-4 div.sk-parallel-item {display: flex;flex-direction: column;z-index: 1;position: relative;background-color: white;}#sk-container-id-4 div.sk-parallel-item:first-child::after {align-self: flex-end;width: 50%;}#sk-container-id-4 div.sk-parallel-item:last-child::after {align-self: flex-start;width: 50%;}#sk-container-id-4 div.sk-parallel-item:only-child::after {width: 0;}#sk-container-id-4 div.sk-dashed-wrapped {border: 1px dashed gray;margin: 0 0.4em 0.5em 0.4em;box-sizing: border-box;padding-bottom: 0.4em;background-color: white;}#sk-container-id-4 div.sk-label label {font-family: monospace;font-weight: bold;display: inline-block;line-height: 1.2em;}#sk-container-id-4 div.sk-label-container {text-align: center;}#sk-container-id-4 div.sk-container {/* jupyter's `normalize.less` sets `[hidden] { display: none; }` but bootstrap.min.css set `[hidden] { display: none !important; }` so we also need the `!important` here to be able to override the default hidden behavior on the sphinx rendered scikit-learn.org. See: https://github.com/scikit-learn/scikit-learn/issues/21755 */display: inline-block !important;position: relative;}#sk-container-id-4 div.sk-text-repr-fallback {display: none;}</style><div id=\"sk-container-id-4\" class=\"sk-top-container\"><div class=\"sk-text-repr-fallback\"><pre>GridSearchCV(cv=3, estimator=GradientBoostingClassifier(random_state=42),\n",
       "             param_grid={&#x27;learning_rate&#x27;: [0.01, 0.1, 0.2],\n",
       "                         &#x27;max_depth&#x27;: [3, 5, 7], &#x27;min_samples_leaf&#x27;: [1, 2, 4],\n",
       "                         &#x27;min_samples_split&#x27;: [2, 5, 10],\n",
       "                         &#x27;n_estimators&#x27;: [50, 100, 200]},\n",
       "             scoring=&#x27;accuracy&#x27;)</pre><b>In a Jupyter environment, please rerun this cell to show the HTML representation or trust the notebook. <br />On GitHub, the HTML representation is unable to render, please try loading this page with nbviewer.org.</b></div><div class=\"sk-container\" hidden><div class=\"sk-item sk-dashed-wrapped\"><div class=\"sk-label-container\"><div class=\"sk-label sk-toggleable\"><input class=\"sk-toggleable__control sk-hidden--visually\" id=\"sk-estimator-id-9\" type=\"checkbox\" ><label for=\"sk-estimator-id-9\" class=\"sk-toggleable__label sk-toggleable__label-arrow\">GridSearchCV</label><div class=\"sk-toggleable__content\"><pre>GridSearchCV(cv=3, estimator=GradientBoostingClassifier(random_state=42),\n",
       "             param_grid={&#x27;learning_rate&#x27;: [0.01, 0.1, 0.2],\n",
       "                         &#x27;max_depth&#x27;: [3, 5, 7], &#x27;min_samples_leaf&#x27;: [1, 2, 4],\n",
       "                         &#x27;min_samples_split&#x27;: [2, 5, 10],\n",
       "                         &#x27;n_estimators&#x27;: [50, 100, 200]},\n",
       "             scoring=&#x27;accuracy&#x27;)</pre></div></div></div><div class=\"sk-parallel\"><div class=\"sk-parallel-item\"><div class=\"sk-item\"><div class=\"sk-label-container\"><div class=\"sk-label sk-toggleable\"><input class=\"sk-toggleable__control sk-hidden--visually\" id=\"sk-estimator-id-10\" type=\"checkbox\" ><label for=\"sk-estimator-id-10\" class=\"sk-toggleable__label sk-toggleable__label-arrow\">estimator: GradientBoostingClassifier</label><div class=\"sk-toggleable__content\"><pre>GradientBoostingClassifier(random_state=42)</pre></div></div></div><div class=\"sk-serial\"><div class=\"sk-item\"><div class=\"sk-estimator sk-toggleable\"><input class=\"sk-toggleable__control sk-hidden--visually\" id=\"sk-estimator-id-11\" type=\"checkbox\" ><label for=\"sk-estimator-id-11\" class=\"sk-toggleable__label sk-toggleable__label-arrow\">GradientBoostingClassifier</label><div class=\"sk-toggleable__content\"><pre>GradientBoostingClassifier(random_state=42)</pre></div></div></div></div></div></div></div></div></div></div>"
      ],
      "text/plain": [
       "GridSearchCV(cv=3, estimator=GradientBoostingClassifier(random_state=42),\n",
       "             param_grid={'learning_rate': [0.01, 0.1, 0.2],\n",
       "                         'max_depth': [3, 5, 7], 'min_samples_leaf': [1, 2, 4],\n",
       "                         'min_samples_split': [2, 5, 10],\n",
       "                         'n_estimators': [50, 100, 200]},\n",
       "             scoring='accuracy')"
      ]
     },
     "execution_count": 70,
     "metadata": {},
     "output_type": "execute_result"
    }
   ],
   "source": [
    "grid_search_gb.fit(X_train, y_train)"
   ]
  },
  {
   "cell_type": "code",
   "execution_count": 71,
   "id": "cc8b6fa9-4f7d-48ef-bd35-598f305b2e66",
   "metadata": {},
   "outputs": [],
   "source": [
    "best_params_gb = grid_search_gb.best_params_"
   ]
  },
  {
   "cell_type": "code",
   "execution_count": 72,
   "id": "815eae8c-2703-4b64-a164-f6e1333e74f0",
   "metadata": {},
   "outputs": [],
   "source": [
    "best_gb_classifier = grid_search_gb.best_estimator_"
   ]
  },
  {
   "cell_type": "code",
   "execution_count": 73,
   "id": "653a8ef1-ec7b-4097-bc7c-0e39b1efea71",
   "metadata": {},
   "outputs": [],
   "source": [
    "y_train_pred_gb = best_gb_classifier.predict(X_train)"
   ]
  },
  {
   "cell_type": "code",
   "execution_count": 74,
   "id": "06bfe835-015c-4e37-8c47-75e33984af34",
   "metadata": {},
   "outputs": [],
   "source": [
    "y_test_pred_gb = best_gb_classifier.predict(X_test)"
   ]
  },
  {
   "cell_type": "code",
   "execution_count": 75,
   "id": "a0cb0bb1-8ae1-4888-98f1-141cbf1f3059",
   "metadata": {},
   "outputs": [],
   "source": [
    "cfm_train_gb = confusion_matrix(y_train, y_train_pred_gb)\n",
    "cfm_test_gb = confusion_matrix(y_test, y_test_pred_gb)\n",
    "acs_train_gb = accuracy_score(y_train, y_train_pred_gb)\n",
    "acs_test_gb = accuracy_score(y_test, y_test_pred_gb)\n",
    "pcs_train_gb = precision_score(y_train, y_train_pred_gb)\n",
    "pcs_test_gb = precision_score(y_test, y_test_pred_gb)\n",
    "rcs_train_gb = recall_score(y_train, y_train_pred_gb)\n",
    "rcs_test_gb = recall_score(y_test, y_test_pred_gb)\n",
    "roc_auc_score_train_gb = roc_auc_score(y_train, y_train_pred_gb)\n",
    "roc_auc_score_test_gb = roc_auc_score(y_test, y_test_pred_gb)"
   ]
  },
  {
   "cell_type": "code",
   "execution_count": 76,
   "id": "213f138f-e02a-4a9e-958f-f337cfd87d18",
   "metadata": {},
   "outputs": [
    {
     "name": "stdout",
     "output_type": "stream",
     "text": [
      "Gradient Boosting Classifier Results:\n",
      "Confusion Matrix (Training Data):\n",
      "[[1963   25]\n",
      " [ 194  487]]\n",
      "\n",
      "Accuracy Score (Training Data): 0.9179467965530161\n",
      "\n",
      "Precision Score (Training Data): 0.951171875\n",
      "\n",
      "Recall Score (Training Data): 0.7151248164464024\n",
      "\n",
      "ROC AUC Score (Training Data): 0.8512746818650523\n",
      "\n",
      "------------------------------------------------------\n",
      "\n",
      "Confusion Matrix (Testing Data):\n",
      "[[440  44]\n",
      " [ 83 101]]\n",
      "\n",
      "Accuracy Score (Testing Data): 0.8098802395209581\n",
      "\n",
      "Precision Score (Testing Data): 0.696551724137931\n",
      "\n",
      "Recall Score (Testing Data): 0.5489130434782609\n",
      "\n",
      "ROC AUC Score (Testing Data): 0.7290019762845849\n",
      "\n",
      "------------------------------------------------------\n"
     ]
    }
   ],
   "source": [
    "print(\"Gradient Boosting Classifier Results:\")\n",
    "print(\"Confusion Matrix (Training Data):\")\n",
    "print(cfm_train_gb)\n",
    "print(\"\\nAccuracy Score (Training Data):\", acs_train_gb)\n",
    "print(\"\\nPrecision Score (Training Data):\", pcs_train_gb)\n",
    "print(\"\\nRecall Score (Training Data):\", rcs_train_gb)\n",
    "print(\"\\nROC AUC Score (Training Data):\", roc_auc_score_train_gb)\n",
    "print(\"\\n------------------------------------------------------\")\n",
    "print(\"\\nConfusion Matrix (Testing Data):\")\n",
    "print(cfm_test_gb)\n",
    "print(\"\\nAccuracy Score (Testing Data):\", acs_test_gb)\n",
    "print(\"\\nPrecision Score (Testing Data):\", pcs_test_gb)\n",
    "print(\"\\nRecall Score (Testing Data):\", rcs_test_gb)\n",
    "print(\"\\nROC AUC Score (Testing Data):\", roc_auc_score_test_gb)\n",
    "print(\"\\n------------------------------------------------------\")"
   ]
  },
  {
   "cell_type": "code",
   "execution_count": 77,
   "id": "a4f54725-5b02-43c0-9b95-ddd19bded0d5",
   "metadata": {},
   "outputs": [
    {
     "name": "stdout",
     "output_type": "stream",
     "text": [
      "best hyperparameter:  {'learning_rate': 0.1, 'max_depth': 5, 'min_samples_leaf': 1, 'min_samples_split': 5, 'n_estimators': 50}\n"
     ]
    }
   ],
   "source": [
    "print(\"best hyperparameter: \", best_params_gb)"
   ]
  },
  {
   "cell_type": "markdown",
   "id": "b61be80a-68e9-4e13-acd7-0c4cb97e6234",
   "metadata": {},
   "source": [
    "## Ada boost"
   ]
  },
  {
   "cell_type": "code",
   "execution_count": 79,
   "id": "c3acecc6-3126-423c-8f65-09af7398e854",
   "metadata": {},
   "outputs": [],
   "source": [
    "base_classifier = tree.DecisionTreeClassifier(max_depth=1)"
   ]
  },
  {
   "cell_type": "code",
   "execution_count": 80,
   "id": "d5eaaf14-bc9d-4f6d-b15f-3f1376a9fc94",
   "metadata": {},
   "outputs": [],
   "source": [
    "adaboost_classifier = AdaBoostClassifier(base_classifier, random_state=42)"
   ]
  },
  {
   "cell_type": "code",
   "execution_count": 81,
   "id": "9dac18ff-cae1-4a7e-bc88-d77cadacda45",
   "metadata": {},
   "outputs": [],
   "source": [
    "param_grid_adaboost = {\n",
    "    'n_estimators': [50,  200],\n",
    "    'learning_rate': [0.01, 0.1, 0.2],}"
   ]
  },
  {
   "cell_type": "code",
   "execution_count": 82,
   "id": "a2e13584-6760-414d-945e-946a4ea3a214",
   "metadata": {},
   "outputs": [],
   "source": [
    "grid_search_adaboost = GridSearchCV(adaboost_classifier, param_grid_adaboost, cv=3, scoring='accuracy')"
   ]
  },
  {
   "cell_type": "code",
   "execution_count": 83,
   "id": "28af0201-1a29-4e71-a101-0747a75148c2",
   "metadata": {},
   "outputs": [
    {
     "data": {
      "text/html": [
       "<style>#sk-container-id-5 {color: black;background-color: white;}#sk-container-id-5 pre{padding: 0;}#sk-container-id-5 div.sk-toggleable {background-color: white;}#sk-container-id-5 label.sk-toggleable__label {cursor: pointer;display: block;width: 100%;margin-bottom: 0;padding: 0.3em;box-sizing: border-box;text-align: center;}#sk-container-id-5 label.sk-toggleable__label-arrow:before {content: \"▸\";float: left;margin-right: 0.25em;color: #696969;}#sk-container-id-5 label.sk-toggleable__label-arrow:hover:before {color: black;}#sk-container-id-5 div.sk-estimator:hover label.sk-toggleable__label-arrow:before {color: black;}#sk-container-id-5 div.sk-toggleable__content {max-height: 0;max-width: 0;overflow: hidden;text-align: left;background-color: #f0f8ff;}#sk-container-id-5 div.sk-toggleable__content pre {margin: 0.2em;color: black;border-radius: 0.25em;background-color: #f0f8ff;}#sk-container-id-5 input.sk-toggleable__control:checked~div.sk-toggleable__content {max-height: 200px;max-width: 100%;overflow: auto;}#sk-container-id-5 input.sk-toggleable__control:checked~label.sk-toggleable__label-arrow:before {content: \"▾\";}#sk-container-id-5 div.sk-estimator input.sk-toggleable__control:checked~label.sk-toggleable__label {background-color: #d4ebff;}#sk-container-id-5 div.sk-label input.sk-toggleable__control:checked~label.sk-toggleable__label {background-color: #d4ebff;}#sk-container-id-5 input.sk-hidden--visually {border: 0;clip: rect(1px 1px 1px 1px);clip: rect(1px, 1px, 1px, 1px);height: 1px;margin: -1px;overflow: hidden;padding: 0;position: absolute;width: 1px;}#sk-container-id-5 div.sk-estimator {font-family: monospace;background-color: #f0f8ff;border: 1px dotted black;border-radius: 0.25em;box-sizing: border-box;margin-bottom: 0.5em;}#sk-container-id-5 div.sk-estimator:hover {background-color: #d4ebff;}#sk-container-id-5 div.sk-parallel-item::after {content: \"\";width: 100%;border-bottom: 1px solid gray;flex-grow: 1;}#sk-container-id-5 div.sk-label:hover label.sk-toggleable__label {background-color: #d4ebff;}#sk-container-id-5 div.sk-serial::before {content: \"\";position: absolute;border-left: 1px solid gray;box-sizing: border-box;top: 0;bottom: 0;left: 50%;z-index: 0;}#sk-container-id-5 div.sk-serial {display: flex;flex-direction: column;align-items: center;background-color: white;padding-right: 0.2em;padding-left: 0.2em;position: relative;}#sk-container-id-5 div.sk-item {position: relative;z-index: 1;}#sk-container-id-5 div.sk-parallel {display: flex;align-items: stretch;justify-content: center;background-color: white;position: relative;}#sk-container-id-5 div.sk-item::before, #sk-container-id-5 div.sk-parallel-item::before {content: \"\";position: absolute;border-left: 1px solid gray;box-sizing: border-box;top: 0;bottom: 0;left: 50%;z-index: -1;}#sk-container-id-5 div.sk-parallel-item {display: flex;flex-direction: column;z-index: 1;position: relative;background-color: white;}#sk-container-id-5 div.sk-parallel-item:first-child::after {align-self: flex-end;width: 50%;}#sk-container-id-5 div.sk-parallel-item:last-child::after {align-self: flex-start;width: 50%;}#sk-container-id-5 div.sk-parallel-item:only-child::after {width: 0;}#sk-container-id-5 div.sk-dashed-wrapped {border: 1px dashed gray;margin: 0 0.4em 0.5em 0.4em;box-sizing: border-box;padding-bottom: 0.4em;background-color: white;}#sk-container-id-5 div.sk-label label {font-family: monospace;font-weight: bold;display: inline-block;line-height: 1.2em;}#sk-container-id-5 div.sk-label-container {text-align: center;}#sk-container-id-5 div.sk-container {/* jupyter's `normalize.less` sets `[hidden] { display: none; }` but bootstrap.min.css set `[hidden] { display: none !important; }` so we also need the `!important` here to be able to override the default hidden behavior on the sphinx rendered scikit-learn.org. See: https://github.com/scikit-learn/scikit-learn/issues/21755 */display: inline-block !important;position: relative;}#sk-container-id-5 div.sk-text-repr-fallback {display: none;}</style><div id=\"sk-container-id-5\" class=\"sk-top-container\"><div class=\"sk-text-repr-fallback\"><pre>GridSearchCV(cv=3,\n",
       "             estimator=AdaBoostClassifier(estimator=DecisionTreeClassifier(max_depth=1),\n",
       "                                          random_state=42),\n",
       "             param_grid={&#x27;learning_rate&#x27;: [0.01, 0.1, 0.2],\n",
       "                         &#x27;n_estimators&#x27;: [50, 200]},\n",
       "             scoring=&#x27;accuracy&#x27;)</pre><b>In a Jupyter environment, please rerun this cell to show the HTML representation or trust the notebook. <br />On GitHub, the HTML representation is unable to render, please try loading this page with nbviewer.org.</b></div><div class=\"sk-container\" hidden><div class=\"sk-item sk-dashed-wrapped\"><div class=\"sk-label-container\"><div class=\"sk-label sk-toggleable\"><input class=\"sk-toggleable__control sk-hidden--visually\" id=\"sk-estimator-id-12\" type=\"checkbox\" ><label for=\"sk-estimator-id-12\" class=\"sk-toggleable__label sk-toggleable__label-arrow\">GridSearchCV</label><div class=\"sk-toggleable__content\"><pre>GridSearchCV(cv=3,\n",
       "             estimator=AdaBoostClassifier(estimator=DecisionTreeClassifier(max_depth=1),\n",
       "                                          random_state=42),\n",
       "             param_grid={&#x27;learning_rate&#x27;: [0.01, 0.1, 0.2],\n",
       "                         &#x27;n_estimators&#x27;: [50, 200]},\n",
       "             scoring=&#x27;accuracy&#x27;)</pre></div></div></div><div class=\"sk-parallel\"><div class=\"sk-parallel-item\"><div class=\"sk-item\"><div class=\"sk-label-container\"><div class=\"sk-label sk-toggleable\"><input class=\"sk-toggleable__control sk-hidden--visually\" id=\"sk-estimator-id-13\" type=\"checkbox\" ><label for=\"sk-estimator-id-13\" class=\"sk-toggleable__label sk-toggleable__label-arrow\">estimator: AdaBoostClassifier</label><div class=\"sk-toggleable__content\"><pre>AdaBoostClassifier(estimator=DecisionTreeClassifier(max_depth=1),\n",
       "                   random_state=42)</pre></div></div></div><div class=\"sk-serial\"><div class=\"sk-item sk-dashed-wrapped\"><div class=\"sk-parallel\"><div class=\"sk-parallel-item\"><div class=\"sk-item\"><div class=\"sk-label-container\"><div class=\"sk-label sk-toggleable\"><input class=\"sk-toggleable__control sk-hidden--visually\" id=\"sk-estimator-id-14\" type=\"checkbox\" ><label for=\"sk-estimator-id-14\" class=\"sk-toggleable__label sk-toggleable__label-arrow\">estimator: DecisionTreeClassifier</label><div class=\"sk-toggleable__content\"><pre>DecisionTreeClassifier(max_depth=1)</pre></div></div></div><div class=\"sk-serial\"><div class=\"sk-item\"><div class=\"sk-estimator sk-toggleable\"><input class=\"sk-toggleable__control sk-hidden--visually\" id=\"sk-estimator-id-15\" type=\"checkbox\" ><label for=\"sk-estimator-id-15\" class=\"sk-toggleable__label sk-toggleable__label-arrow\">DecisionTreeClassifier</label><div class=\"sk-toggleable__content\"><pre>DecisionTreeClassifier(max_depth=1)</pre></div></div></div></div></div></div></div></div></div></div></div></div></div></div></div>"
      ],
      "text/plain": [
       "GridSearchCV(cv=3,\n",
       "             estimator=AdaBoostClassifier(estimator=DecisionTreeClassifier(max_depth=1),\n",
       "                                          random_state=42),\n",
       "             param_grid={'learning_rate': [0.01, 0.1, 0.2],\n",
       "                         'n_estimators': [50, 200]},\n",
       "             scoring='accuracy')"
      ]
     },
     "execution_count": 83,
     "metadata": {},
     "output_type": "execute_result"
    }
   ],
   "source": [
    "grid_search_adaboost.fit(X_train, y_train)"
   ]
  },
  {
   "cell_type": "code",
   "execution_count": 84,
   "id": "e2c9aa6f-304a-40fa-acc3-64cddd82e16e",
   "metadata": {},
   "outputs": [],
   "source": [
    "best_params_adaboost = grid_search_adaboost.best_params_"
   ]
  },
  {
   "cell_type": "code",
   "execution_count": 85,
   "id": "b06160ff-f8ce-45b3-b28f-8ebd16fd7d03",
   "metadata": {},
   "outputs": [],
   "source": [
    "best_adaboost_classifier = grid_search_adaboost.best_estimator_"
   ]
  },
  {
   "cell_type": "code",
   "execution_count": 86,
   "id": "4ab663b2-27cc-4386-837a-c4d74193ce78",
   "metadata": {},
   "outputs": [],
   "source": [
    "y_train_pred_adaboost = best_adaboost_classifier.predict(X_train)"
   ]
  },
  {
   "cell_type": "code",
   "execution_count": 87,
   "id": "a4f9a1e5-3534-486e-a392-01ed97108098",
   "metadata": {},
   "outputs": [],
   "source": [
    "y_test_pred_adaboost = best_adaboost_classifier.predict(X_test)"
   ]
  },
  {
   "cell_type": "code",
   "execution_count": 88,
   "id": "3d5ff048-93b3-4ddb-95fa-3ac0a6aba4ea",
   "metadata": {},
   "outputs": [],
   "source": [
    "cfm_train_adaboost = confusion_matrix(y_train, y_train_pred_adaboost)\n",
    "cfm_test_adaboost = confusion_matrix(y_test, y_test_pred_adaboost)\n",
    "acs_train_adaboost = accuracy_score(y_train, y_train_pred_adaboost)\n",
    "acs_test_adaboost = accuracy_score(y_test, y_test_pred_adaboost)\n",
    "pcs_train_adaboost = precision_score(y_train, y_train_pred_adaboost)\n",
    "pcs_test_adaboost = precision_score(y_test, y_test_pred_adaboost)\n",
    "rcs_train_adaboost = recall_score(y_train, y_train_pred_adaboost)\n",
    "rcs_test_adaboost = recall_score(y_test, y_test_pred_adaboost)\n",
    "roc_auc_score_train_adaboost = roc_auc_score(y_train, y_train_pred_adaboost)\n",
    "roc_auc_score_test_adaboost = roc_auc_score(y_test, y_test_pred_adaboost)"
   ]
  },
  {
   "cell_type": "code",
   "execution_count": 89,
   "id": "58772e5f-af88-4d61-b4b2-910493e3ed0a",
   "metadata": {},
   "outputs": [
    {
     "name": "stdout",
     "output_type": "stream",
     "text": [
      "AdaBoost Classifier Results:\n",
      "Confusion Matrix (Training Data):\n",
      "[[1908   80]\n",
      " [ 335  346]]\n",
      "\n",
      "Accuracy Score (Training Data): 0.8445110528287748\n",
      "\n",
      "Precision Score (Training Data): 0.812206572769953\n",
      "\n",
      "Recall Score (Training Data): 0.5080763582966226\n",
      "\n",
      "ROC AUC Score (Training Data): 0.7339174548022347\n",
      "\n",
      "------------------------------------------------------\n",
      "\n",
      "Confusion Matrix (Testing Data):\n",
      "[[458  26]\n",
      " [ 91  93]]\n",
      "\n",
      "Accuracy Score (Testing Data): 0.8248502994011976\n",
      "\n",
      "Precision Score (Testing Data): 0.7815126050420168\n",
      "\n",
      "Recall Score (Testing Data): 0.5054347826086957\n",
      "\n",
      "ROC AUC Score (Testing Data): 0.7258578871721164\n",
      "\n",
      "------------------------------------------------------\n"
     ]
    }
   ],
   "source": [
    "print(\"AdaBoost Classifier Results:\")\n",
    "print(\"Confusion Matrix (Training Data):\")\n",
    "print(cfm_train_adaboost)\n",
    "print(\"\\nAccuracy Score (Training Data):\", acs_train_adaboost)\n",
    "print(\"\\nPrecision Score (Training Data):\", pcs_train_adaboost)\n",
    "print(\"\\nRecall Score (Training Data):\", rcs_train_adaboost)\n",
    "print(\"\\nROC AUC Score (Training Data):\", roc_auc_score_train_adaboost)\n",
    "print(\"\\n------------------------------------------------------\")\n",
    "print(\"\\nConfusion Matrix (Testing Data):\")\n",
    "print(cfm_test_adaboost)\n",
    "print(\"\\nAccuracy Score (Testing Data):\", acs_test_adaboost)\n",
    "print(\"\\nPrecision Score (Testing Data):\", pcs_test_adaboost)\n",
    "print(\"\\nRecall Score (Testing Data):\", rcs_test_adaboost)\n",
    "print(\"\\nROC AUC Score (Testing Data):\", roc_auc_score_test_adaboost)\n",
    "print(\"\\n------------------------------------------------------\")"
   ]
  },
  {
   "cell_type": "code",
   "execution_count": 90,
   "id": "e851bd5e-c9ee-4045-ba3b-e8eecbaa317a",
   "metadata": {},
   "outputs": [
    {
     "name": "stdout",
     "output_type": "stream",
     "text": [
      "best hyperparameter:  {'learning_rate': 0.1, 'n_estimators': 200}\n"
     ]
    }
   ],
   "source": [
    "print(\"best hyperparameter: \", best_params_adaboost)"
   ]
  },
  {
   "cell_type": "markdown",
   "id": "c9f5e5de-afef-4fa3-9f53-b5f58bfa0722",
   "metadata": {},
   "source": [
    "## XGboost"
   ]
  },
  {
   "cell_type": "code",
   "execution_count": 92,
   "id": "f51d6d47-2dae-4ffc-b918-537999a232fa",
   "metadata": {},
   "outputs": [],
   "source": [
    "xgb_classifier = XGBClassifier(random_state=42)"
   ]
  },
  {
   "cell_type": "code",
   "execution_count": 93,
   "id": "2a542c4b-c8dc-472f-b53a-811c1299b0d9",
   "metadata": {},
   "outputs": [],
   "source": [
    "param_grid_xgb = {\n",
    "    'n_estimators': [50, 100, 200],\n",
    "    'learning_rate': [0.01, 0.1, 0.2],\n",
    "    'max_depth': [3, 5, 7],\n",
    "    'min_child_weight': [1, 3, 5],\n",
    "    'subsample': [0.8, 1.0],\n",
    "    'colsample_bytree': [0.8, 1.0],}"
   ]
  },
  {
   "cell_type": "code",
   "execution_count": 94,
   "id": "2d5e0334-2692-433e-a982-0810a914d0e2",
   "metadata": {},
   "outputs": [],
   "source": [
    "grid_search_xgb = GridSearchCV(xgb_classifier, param_grid_xgb, cv=3, scoring='accuracy')"
   ]
  },
  {
   "cell_type": "code",
   "execution_count": 95,
   "id": "7c75e4ff-64b4-4343-8c51-a3f43ea7c579",
   "metadata": {},
   "outputs": [
    {
     "data": {
      "text/html": [
       "<style>#sk-container-id-6 {color: black;background-color: white;}#sk-container-id-6 pre{padding: 0;}#sk-container-id-6 div.sk-toggleable {background-color: white;}#sk-container-id-6 label.sk-toggleable__label {cursor: pointer;display: block;width: 100%;margin-bottom: 0;padding: 0.3em;box-sizing: border-box;text-align: center;}#sk-container-id-6 label.sk-toggleable__label-arrow:before {content: \"▸\";float: left;margin-right: 0.25em;color: #696969;}#sk-container-id-6 label.sk-toggleable__label-arrow:hover:before {color: black;}#sk-container-id-6 div.sk-estimator:hover label.sk-toggleable__label-arrow:before {color: black;}#sk-container-id-6 div.sk-toggleable__content {max-height: 0;max-width: 0;overflow: hidden;text-align: left;background-color: #f0f8ff;}#sk-container-id-6 div.sk-toggleable__content pre {margin: 0.2em;color: black;border-radius: 0.25em;background-color: #f0f8ff;}#sk-container-id-6 input.sk-toggleable__control:checked~div.sk-toggleable__content {max-height: 200px;max-width: 100%;overflow: auto;}#sk-container-id-6 input.sk-toggleable__control:checked~label.sk-toggleable__label-arrow:before {content: \"▾\";}#sk-container-id-6 div.sk-estimator input.sk-toggleable__control:checked~label.sk-toggleable__label {background-color: #d4ebff;}#sk-container-id-6 div.sk-label input.sk-toggleable__control:checked~label.sk-toggleable__label {background-color: #d4ebff;}#sk-container-id-6 input.sk-hidden--visually {border: 0;clip: rect(1px 1px 1px 1px);clip: rect(1px, 1px, 1px, 1px);height: 1px;margin: -1px;overflow: hidden;padding: 0;position: absolute;width: 1px;}#sk-container-id-6 div.sk-estimator {font-family: monospace;background-color: #f0f8ff;border: 1px dotted black;border-radius: 0.25em;box-sizing: border-box;margin-bottom: 0.5em;}#sk-container-id-6 div.sk-estimator:hover {background-color: #d4ebff;}#sk-container-id-6 div.sk-parallel-item::after {content: \"\";width: 100%;border-bottom: 1px solid gray;flex-grow: 1;}#sk-container-id-6 div.sk-label:hover label.sk-toggleable__label {background-color: #d4ebff;}#sk-container-id-6 div.sk-serial::before {content: \"\";position: absolute;border-left: 1px solid gray;box-sizing: border-box;top: 0;bottom: 0;left: 50%;z-index: 0;}#sk-container-id-6 div.sk-serial {display: flex;flex-direction: column;align-items: center;background-color: white;padding-right: 0.2em;padding-left: 0.2em;position: relative;}#sk-container-id-6 div.sk-item {position: relative;z-index: 1;}#sk-container-id-6 div.sk-parallel {display: flex;align-items: stretch;justify-content: center;background-color: white;position: relative;}#sk-container-id-6 div.sk-item::before, #sk-container-id-6 div.sk-parallel-item::before {content: \"\";position: absolute;border-left: 1px solid gray;box-sizing: border-box;top: 0;bottom: 0;left: 50%;z-index: -1;}#sk-container-id-6 div.sk-parallel-item {display: flex;flex-direction: column;z-index: 1;position: relative;background-color: white;}#sk-container-id-6 div.sk-parallel-item:first-child::after {align-self: flex-end;width: 50%;}#sk-container-id-6 div.sk-parallel-item:last-child::after {align-self: flex-start;width: 50%;}#sk-container-id-6 div.sk-parallel-item:only-child::after {width: 0;}#sk-container-id-6 div.sk-dashed-wrapped {border: 1px dashed gray;margin: 0 0.4em 0.5em 0.4em;box-sizing: border-box;padding-bottom: 0.4em;background-color: white;}#sk-container-id-6 div.sk-label label {font-family: monospace;font-weight: bold;display: inline-block;line-height: 1.2em;}#sk-container-id-6 div.sk-label-container {text-align: center;}#sk-container-id-6 div.sk-container {/* jupyter's `normalize.less` sets `[hidden] { display: none; }` but bootstrap.min.css set `[hidden] { display: none !important; }` so we also need the `!important` here to be able to override the default hidden behavior on the sphinx rendered scikit-learn.org. See: https://github.com/scikit-learn/scikit-learn/issues/21755 */display: inline-block !important;position: relative;}#sk-container-id-6 div.sk-text-repr-fallback {display: none;}</style><div id=\"sk-container-id-6\" class=\"sk-top-container\"><div class=\"sk-text-repr-fallback\"><pre>GridSearchCV(cv=3,\n",
       "             estimator=XGBClassifier(base_score=None, booster=None,\n",
       "                                     callbacks=None, colsample_bylevel=None,\n",
       "                                     colsample_bynode=None,\n",
       "                                     colsample_bytree=None, device=None,\n",
       "                                     early_stopping_rounds=None,\n",
       "                                     enable_categorical=False, eval_metric=None,\n",
       "                                     feature_types=None, gamma=None,\n",
       "                                     grow_policy=None, importance_type=None,\n",
       "                                     interaction_constraints=None,\n",
       "                                     learning_rate=None,...\n",
       "                                     max_leaves=None, min_child_weight=None,\n",
       "                                     missing=nan, monotone_constraints=None,\n",
       "                                     multi_strategy=None, n_estimators=None,\n",
       "                                     n_jobs=None, num_parallel_tree=None,\n",
       "                                     random_state=42, ...),\n",
       "             param_grid={&#x27;colsample_bytree&#x27;: [0.8, 1.0],\n",
       "                         &#x27;learning_rate&#x27;: [0.01, 0.1, 0.2],\n",
       "                         &#x27;max_depth&#x27;: [3, 5, 7], &#x27;min_child_weight&#x27;: [1, 3, 5],\n",
       "                         &#x27;n_estimators&#x27;: [50, 100, 200],\n",
       "                         &#x27;subsample&#x27;: [0.8, 1.0]},\n",
       "             scoring=&#x27;accuracy&#x27;)</pre><b>In a Jupyter environment, please rerun this cell to show the HTML representation or trust the notebook. <br />On GitHub, the HTML representation is unable to render, please try loading this page with nbviewer.org.</b></div><div class=\"sk-container\" hidden><div class=\"sk-item sk-dashed-wrapped\"><div class=\"sk-label-container\"><div class=\"sk-label sk-toggleable\"><input class=\"sk-toggleable__control sk-hidden--visually\" id=\"sk-estimator-id-16\" type=\"checkbox\" ><label for=\"sk-estimator-id-16\" class=\"sk-toggleable__label sk-toggleable__label-arrow\">GridSearchCV</label><div class=\"sk-toggleable__content\"><pre>GridSearchCV(cv=3,\n",
       "             estimator=XGBClassifier(base_score=None, booster=None,\n",
       "                                     callbacks=None, colsample_bylevel=None,\n",
       "                                     colsample_bynode=None,\n",
       "                                     colsample_bytree=None, device=None,\n",
       "                                     early_stopping_rounds=None,\n",
       "                                     enable_categorical=False, eval_metric=None,\n",
       "                                     feature_types=None, gamma=None,\n",
       "                                     grow_policy=None, importance_type=None,\n",
       "                                     interaction_constraints=None,\n",
       "                                     learning_rate=None,...\n",
       "                                     max_leaves=None, min_child_weight=None,\n",
       "                                     missing=nan, monotone_constraints=None,\n",
       "                                     multi_strategy=None, n_estimators=None,\n",
       "                                     n_jobs=None, num_parallel_tree=None,\n",
       "                                     random_state=42, ...),\n",
       "             param_grid={&#x27;colsample_bytree&#x27;: [0.8, 1.0],\n",
       "                         &#x27;learning_rate&#x27;: [0.01, 0.1, 0.2],\n",
       "                         &#x27;max_depth&#x27;: [3, 5, 7], &#x27;min_child_weight&#x27;: [1, 3, 5],\n",
       "                         &#x27;n_estimators&#x27;: [50, 100, 200],\n",
       "                         &#x27;subsample&#x27;: [0.8, 1.0]},\n",
       "             scoring=&#x27;accuracy&#x27;)</pre></div></div></div><div class=\"sk-parallel\"><div class=\"sk-parallel-item\"><div class=\"sk-item\"><div class=\"sk-label-container\"><div class=\"sk-label sk-toggleable\"><input class=\"sk-toggleable__control sk-hidden--visually\" id=\"sk-estimator-id-17\" type=\"checkbox\" ><label for=\"sk-estimator-id-17\" class=\"sk-toggleable__label sk-toggleable__label-arrow\">estimator: XGBClassifier</label><div class=\"sk-toggleable__content\"><pre>XGBClassifier(base_score=None, booster=None, callbacks=None,\n",
       "              colsample_bylevel=None, colsample_bynode=None,\n",
       "              colsample_bytree=None, device=None, early_stopping_rounds=None,\n",
       "              enable_categorical=False, eval_metric=None, feature_types=None,\n",
       "              gamma=None, grow_policy=None, importance_type=None,\n",
       "              interaction_constraints=None, learning_rate=None, max_bin=None,\n",
       "              max_cat_threshold=None, max_cat_to_onehot=None,\n",
       "              max_delta_step=None, max_depth=None, max_leaves=None,\n",
       "              min_child_weight=None, missing=nan, monotone_constraints=None,\n",
       "              multi_strategy=None, n_estimators=None, n_jobs=None,\n",
       "              num_parallel_tree=None, random_state=42, ...)</pre></div></div></div><div class=\"sk-serial\"><div class=\"sk-item\"><div class=\"sk-estimator sk-toggleable\"><input class=\"sk-toggleable__control sk-hidden--visually\" id=\"sk-estimator-id-18\" type=\"checkbox\" ><label for=\"sk-estimator-id-18\" class=\"sk-toggleable__label sk-toggleable__label-arrow\">XGBClassifier</label><div class=\"sk-toggleable__content\"><pre>XGBClassifier(base_score=None, booster=None, callbacks=None,\n",
       "              colsample_bylevel=None, colsample_bynode=None,\n",
       "              colsample_bytree=None, device=None, early_stopping_rounds=None,\n",
       "              enable_categorical=False, eval_metric=None, feature_types=None,\n",
       "              gamma=None, grow_policy=None, importance_type=None,\n",
       "              interaction_constraints=None, learning_rate=None, max_bin=None,\n",
       "              max_cat_threshold=None, max_cat_to_onehot=None,\n",
       "              max_delta_step=None, max_depth=None, max_leaves=None,\n",
       "              min_child_weight=None, missing=nan, monotone_constraints=None,\n",
       "              multi_strategy=None, n_estimators=None, n_jobs=None,\n",
       "              num_parallel_tree=None, random_state=42, ...)</pre></div></div></div></div></div></div></div></div></div></div>"
      ],
      "text/plain": [
       "GridSearchCV(cv=3,\n",
       "             estimator=XGBClassifier(base_score=None, booster=None,\n",
       "                                     callbacks=None, colsample_bylevel=None,\n",
       "                                     colsample_bynode=None,\n",
       "                                     colsample_bytree=None, device=None,\n",
       "                                     early_stopping_rounds=None,\n",
       "                                     enable_categorical=False, eval_metric=None,\n",
       "                                     feature_types=None, gamma=None,\n",
       "                                     grow_policy=None, importance_type=None,\n",
       "                                     interaction_constraints=None,\n",
       "                                     learning_rate=None,...\n",
       "                                     max_leaves=None, min_child_weight=None,\n",
       "                                     missing=nan, monotone_constraints=None,\n",
       "                                     multi_strategy=None, n_estimators=None,\n",
       "                                     n_jobs=None, num_parallel_tree=None,\n",
       "                                     random_state=42, ...),\n",
       "             param_grid={'colsample_bytree': [0.8, 1.0],\n",
       "                         'learning_rate': [0.01, 0.1, 0.2],\n",
       "                         'max_depth': [3, 5, 7], 'min_child_weight': [1, 3, 5],\n",
       "                         'n_estimators': [50, 100, 200],\n",
       "                         'subsample': [0.8, 1.0]},\n",
       "             scoring='accuracy')"
      ]
     },
     "execution_count": 95,
     "metadata": {},
     "output_type": "execute_result"
    }
   ],
   "source": [
    "grid_search_xgb.fit(X_train, y_train)"
   ]
  },
  {
   "cell_type": "code",
   "execution_count": 96,
   "id": "c9453c0d-50ef-40ea-a6eb-da792f930b9d",
   "metadata": {},
   "outputs": [],
   "source": [
    "best_params_xgb = grid_search_xgb.best_params_"
   ]
  },
  {
   "cell_type": "code",
   "execution_count": 97,
   "id": "0ca503f3-d5de-4a9e-b1da-0c208388088b",
   "metadata": {},
   "outputs": [],
   "source": [
    "best_xgb_classifier = grid_search_xgb.best_estimator_"
   ]
  },
  {
   "cell_type": "code",
   "execution_count": 98,
   "id": "26e5acac-8887-4977-a26e-3e55b3ec9576",
   "metadata": {},
   "outputs": [],
   "source": [
    "y_train_pred_xgb = best_xgb_classifier.predict(X_train)"
   ]
  },
  {
   "cell_type": "code",
   "execution_count": 99,
   "id": "511e057d-557a-42f7-ad8d-db813e10d290",
   "metadata": {},
   "outputs": [],
   "source": [
    "y_test_pred_xgb = best_xgb_classifier.predict(X_test)"
   ]
  },
  {
   "cell_type": "code",
   "execution_count": 100,
   "id": "b6defdaf-a1c9-435c-b770-68a275cf472c",
   "metadata": {},
   "outputs": [],
   "source": [
    "cfm_train_xgb = confusion_matrix(y_train, y_train_pred_xgb)\n",
    "cfm_test_xgb = confusion_matrix(y_test, y_test_pred_xgb)\n",
    "acs_train_xgb = accuracy_score(y_train, y_train_pred_xgb)\n",
    "acs_test_xgb = accuracy_score(y_test, y_test_pred_xgb)\n",
    "pcs_train_xgb = precision_score(y_train, y_train_pred_xgb)\n",
    "pcs_test_xgb = precision_score(y_test, y_test_pred_xgb)\n",
    "rcs_train_xgb = recall_score(y_train, y_train_pred_xgb)\n",
    "rcs_test_xgb = recall_score(y_test, y_test_pred_xgb)\n",
    "roc_auc_score_train_xgb = roc_auc_score(y_train, y_train_pred_xgb)\n",
    "roc_auc_score_test_xgb = roc_auc_score(y_test, y_test_pred_xgb)"
   ]
  },
  {
   "cell_type": "code",
   "execution_count": 101,
   "id": "af6e52e5-2f54-44fe-a276-1cd6aa939c25",
   "metadata": {},
   "outputs": [
    {
     "name": "stdout",
     "output_type": "stream",
     "text": [
      "XGBoost Classifier Results:\n",
      "Confusion Matrix (Training Data):\n",
      "[[1903   85]\n",
      " [ 270  411]]\n",
      "\n",
      "Accuracy Score (Training Data): 0.8669913825402773\n",
      "\n",
      "Precision Score (Training Data): 0.8286290322580645\n",
      "\n",
      "Recall Score (Training Data): 0.6035242290748899\n",
      "\n",
      "ROC AUC Score (Training Data): 0.7803838449197387\n",
      "\n",
      "------------------------------------------------------\n",
      "\n",
      "Confusion Matrix (Testing Data):\n",
      "[[451  33]\n",
      " [ 80 104]]\n",
      "\n",
      "Accuracy Score (Testing Data): 0.8308383233532934\n",
      "\n",
      "Precision Score (Testing Data): 0.7591240875912408\n",
      "\n",
      "Recall Score (Testing Data): 0.5652173913043478\n",
      "\n",
      "ROC AUC Score (Testing Data): 0.7485177865612648\n",
      "\n",
      "------------------------------------------------------\n"
     ]
    }
   ],
   "source": [
    "print(\"XGBoost Classifier Results:\")\n",
    "print(\"Confusion Matrix (Training Data):\")\n",
    "print(cfm_train_xgb)\n",
    "print(\"\\nAccuracy Score (Training Data):\", acs_train_xgb)\n",
    "print(\"\\nPrecision Score (Training Data):\", pcs_train_xgb)\n",
    "print(\"\\nRecall Score (Training Data):\", rcs_train_xgb)\n",
    "print(\"\\nROC AUC Score (Training Data):\", roc_auc_score_train_xgb)\n",
    "print(\"\\n------------------------------------------------------\")\n",
    "print(\"\\nConfusion Matrix (Testing Data):\")\n",
    "print(cfm_test_xgb)\n",
    "print(\"\\nAccuracy Score (Testing Data):\", acs_test_xgb)\n",
    "print(\"\\nPrecision Score (Testing Data):\", pcs_test_xgb)\n",
    "print(\"\\nRecall Score (Testing Data):\", rcs_test_xgb)\n",
    "print(\"\\nROC AUC Score (Testing Data):\", roc_auc_score_test_xgb)\n",
    "print(\"\\n------------------------------------------------------\")"
   ]
  },
  {
   "cell_type": "code",
   "execution_count": 102,
   "id": "393dce02-c56f-4f4f-9187-e8bb559089bb",
   "metadata": {},
   "outputs": [
    {
     "name": "stdout",
     "output_type": "stream",
     "text": [
      "best hyperparameter:  {'colsample_bytree': 0.8, 'learning_rate': 0.2, 'max_depth': 3, 'min_child_weight': 3, 'n_estimators': 50, 'subsample': 0.8}\n"
     ]
    }
   ],
   "source": [
    "print(\"best hyperparameter: \", best_params_xgb)"
   ]
  },
  {
   "cell_type": "markdown",
   "id": "35ac7c47-160e-4102-8984-78ca56d1e674",
   "metadata": {},
   "source": [
    "## Logistic Regression"
   ]
  },
  {
   "cell_type": "code",
   "execution_count": 104,
   "id": "18ce2954-39c1-4116-bf75-bc1a60f94875",
   "metadata": {},
   "outputs": [],
   "source": [
    "logreg_model = LogisticRegression(random_state=42)"
   ]
  },
  {
   "cell_type": "code",
   "execution_count": 105,
   "id": "f6f84562-f0d0-4e19-9dc6-84ba095e11fc",
   "metadata": {},
   "outputs": [],
   "source": [
    "param_grid_logreg = {\n",
    "    'penalty': ['l1', 'l2'],\n",
    "    'C': [0.001, 0.01, 0.1, 1, 10, 100],}"
   ]
  },
  {
   "cell_type": "code",
   "execution_count": 106,
   "id": "e1129604-49af-49ca-a216-9eb0f6b7bfce",
   "metadata": {},
   "outputs": [],
   "source": [
    "grid_search_logreg = GridSearchCV(logreg_model, param_grid_logreg, cv=3, scoring='accuracy')"
   ]
  },
  {
   "cell_type": "code",
   "execution_count": 107,
   "id": "b46c21ba-60a5-4da5-9538-421261a59d2f",
   "metadata": {},
   "outputs": [
    {
     "data": {
      "text/html": [
       "<style>#sk-container-id-7 {color: black;background-color: white;}#sk-container-id-7 pre{padding: 0;}#sk-container-id-7 div.sk-toggleable {background-color: white;}#sk-container-id-7 label.sk-toggleable__label {cursor: pointer;display: block;width: 100%;margin-bottom: 0;padding: 0.3em;box-sizing: border-box;text-align: center;}#sk-container-id-7 label.sk-toggleable__label-arrow:before {content: \"▸\";float: left;margin-right: 0.25em;color: #696969;}#sk-container-id-7 label.sk-toggleable__label-arrow:hover:before {color: black;}#sk-container-id-7 div.sk-estimator:hover label.sk-toggleable__label-arrow:before {color: black;}#sk-container-id-7 div.sk-toggleable__content {max-height: 0;max-width: 0;overflow: hidden;text-align: left;background-color: #f0f8ff;}#sk-container-id-7 div.sk-toggleable__content pre {margin: 0.2em;color: black;border-radius: 0.25em;background-color: #f0f8ff;}#sk-container-id-7 input.sk-toggleable__control:checked~div.sk-toggleable__content {max-height: 200px;max-width: 100%;overflow: auto;}#sk-container-id-7 input.sk-toggleable__control:checked~label.sk-toggleable__label-arrow:before {content: \"▾\";}#sk-container-id-7 div.sk-estimator input.sk-toggleable__control:checked~label.sk-toggleable__label {background-color: #d4ebff;}#sk-container-id-7 div.sk-label input.sk-toggleable__control:checked~label.sk-toggleable__label {background-color: #d4ebff;}#sk-container-id-7 input.sk-hidden--visually {border: 0;clip: rect(1px 1px 1px 1px);clip: rect(1px, 1px, 1px, 1px);height: 1px;margin: -1px;overflow: hidden;padding: 0;position: absolute;width: 1px;}#sk-container-id-7 div.sk-estimator {font-family: monospace;background-color: #f0f8ff;border: 1px dotted black;border-radius: 0.25em;box-sizing: border-box;margin-bottom: 0.5em;}#sk-container-id-7 div.sk-estimator:hover {background-color: #d4ebff;}#sk-container-id-7 div.sk-parallel-item::after {content: \"\";width: 100%;border-bottom: 1px solid gray;flex-grow: 1;}#sk-container-id-7 div.sk-label:hover label.sk-toggleable__label {background-color: #d4ebff;}#sk-container-id-7 div.sk-serial::before {content: \"\";position: absolute;border-left: 1px solid gray;box-sizing: border-box;top: 0;bottom: 0;left: 50%;z-index: 0;}#sk-container-id-7 div.sk-serial {display: flex;flex-direction: column;align-items: center;background-color: white;padding-right: 0.2em;padding-left: 0.2em;position: relative;}#sk-container-id-7 div.sk-item {position: relative;z-index: 1;}#sk-container-id-7 div.sk-parallel {display: flex;align-items: stretch;justify-content: center;background-color: white;position: relative;}#sk-container-id-7 div.sk-item::before, #sk-container-id-7 div.sk-parallel-item::before {content: \"\";position: absolute;border-left: 1px solid gray;box-sizing: border-box;top: 0;bottom: 0;left: 50%;z-index: -1;}#sk-container-id-7 div.sk-parallel-item {display: flex;flex-direction: column;z-index: 1;position: relative;background-color: white;}#sk-container-id-7 div.sk-parallel-item:first-child::after {align-self: flex-end;width: 50%;}#sk-container-id-7 div.sk-parallel-item:last-child::after {align-self: flex-start;width: 50%;}#sk-container-id-7 div.sk-parallel-item:only-child::after {width: 0;}#sk-container-id-7 div.sk-dashed-wrapped {border: 1px dashed gray;margin: 0 0.4em 0.5em 0.4em;box-sizing: border-box;padding-bottom: 0.4em;background-color: white;}#sk-container-id-7 div.sk-label label {font-family: monospace;font-weight: bold;display: inline-block;line-height: 1.2em;}#sk-container-id-7 div.sk-label-container {text-align: center;}#sk-container-id-7 div.sk-container {/* jupyter's `normalize.less` sets `[hidden] { display: none; }` but bootstrap.min.css set `[hidden] { display: none !important; }` so we also need the `!important` here to be able to override the default hidden behavior on the sphinx rendered scikit-learn.org. See: https://github.com/scikit-learn/scikit-learn/issues/21755 */display: inline-block !important;position: relative;}#sk-container-id-7 div.sk-text-repr-fallback {display: none;}</style><div id=\"sk-container-id-7\" class=\"sk-top-container\"><div class=\"sk-text-repr-fallback\"><pre>GridSearchCV(cv=3, estimator=LogisticRegression(random_state=42),\n",
       "             param_grid={&#x27;C&#x27;: [0.001, 0.01, 0.1, 1, 10, 100],\n",
       "                         &#x27;penalty&#x27;: [&#x27;l1&#x27;, &#x27;l2&#x27;]},\n",
       "             scoring=&#x27;accuracy&#x27;)</pre><b>In a Jupyter environment, please rerun this cell to show the HTML representation or trust the notebook. <br />On GitHub, the HTML representation is unable to render, please try loading this page with nbviewer.org.</b></div><div class=\"sk-container\" hidden><div class=\"sk-item sk-dashed-wrapped\"><div class=\"sk-label-container\"><div class=\"sk-label sk-toggleable\"><input class=\"sk-toggleable__control sk-hidden--visually\" id=\"sk-estimator-id-19\" type=\"checkbox\" ><label for=\"sk-estimator-id-19\" class=\"sk-toggleable__label sk-toggleable__label-arrow\">GridSearchCV</label><div class=\"sk-toggleable__content\"><pre>GridSearchCV(cv=3, estimator=LogisticRegression(random_state=42),\n",
       "             param_grid={&#x27;C&#x27;: [0.001, 0.01, 0.1, 1, 10, 100],\n",
       "                         &#x27;penalty&#x27;: [&#x27;l1&#x27;, &#x27;l2&#x27;]},\n",
       "             scoring=&#x27;accuracy&#x27;)</pre></div></div></div><div class=\"sk-parallel\"><div class=\"sk-parallel-item\"><div class=\"sk-item\"><div class=\"sk-label-container\"><div class=\"sk-label sk-toggleable\"><input class=\"sk-toggleable__control sk-hidden--visually\" id=\"sk-estimator-id-20\" type=\"checkbox\" ><label for=\"sk-estimator-id-20\" class=\"sk-toggleable__label sk-toggleable__label-arrow\">estimator: LogisticRegression</label><div class=\"sk-toggleable__content\"><pre>LogisticRegression(random_state=42)</pre></div></div></div><div class=\"sk-serial\"><div class=\"sk-item\"><div class=\"sk-estimator sk-toggleable\"><input class=\"sk-toggleable__control sk-hidden--visually\" id=\"sk-estimator-id-21\" type=\"checkbox\" ><label for=\"sk-estimator-id-21\" class=\"sk-toggleable__label sk-toggleable__label-arrow\">LogisticRegression</label><div class=\"sk-toggleable__content\"><pre>LogisticRegression(random_state=42)</pre></div></div></div></div></div></div></div></div></div></div>"
      ],
      "text/plain": [
       "GridSearchCV(cv=3, estimator=LogisticRegression(random_state=42),\n",
       "             param_grid={'C': [0.001, 0.01, 0.1, 1, 10, 100],\n",
       "                         'penalty': ['l1', 'l2']},\n",
       "             scoring='accuracy')"
      ]
     },
     "execution_count": 107,
     "metadata": {},
     "output_type": "execute_result"
    }
   ],
   "source": [
    "grid_search_logreg.fit(X_train, y_train)"
   ]
  },
  {
   "cell_type": "code",
   "execution_count": 108,
   "id": "b41efe77-f7ff-4f79-b317-47104fb8ae51",
   "metadata": {},
   "outputs": [],
   "source": [
    "best_params_logreg = grid_search_logreg.best_params_"
   ]
  },
  {
   "cell_type": "code",
   "execution_count": 109,
   "id": "aa699d18-6fee-4b77-93d9-a7605f115ae6",
   "metadata": {},
   "outputs": [],
   "source": [
    "best_logreg_model = grid_search_logreg.best_estimator_"
   ]
  },
  {
   "cell_type": "code",
   "execution_count": 110,
   "id": "3fc5a535-4ff1-475b-bf0d-4ff4a75e6bd2",
   "metadata": {},
   "outputs": [],
   "source": [
    "y_train_pred_lr= best_logreg_model.predict(X_train)"
   ]
  },
  {
   "cell_type": "code",
   "execution_count": 111,
   "id": "c4c2acbd-09c5-4f8c-acbb-70b26c80e366",
   "metadata": {},
   "outputs": [],
   "source": [
    "y_test_pred_lr = best_logreg_model.predict(X_test)"
   ]
  },
  {
   "cell_type": "code",
   "execution_count": 112,
   "id": "54438e6a-8c6d-4e98-b818-206bfa776643",
   "metadata": {},
   "outputs": [],
   "source": [
    "cfm_train_lr = confusion_matrix(y_train, y_train_pred_lr)\n",
    "cfm_test_lr = confusion_matrix(y_test, y_test_pred_lr)\n",
    "acs_train_lr = accuracy_score(y_train, y_train_pred_lr)\n",
    "acs_test_lr = accuracy_score(y_test, y_test_pred_lr)\n",
    "pcs_train_lr = precision_score(y_train, y_train_pred_lr)\n",
    "pcs_test_lr = precision_score(y_test, y_test_pred_lr)\n",
    "rcs_train_lr = recall_score(y_train, y_train_pred_lr)\n",
    "rcs_test_lr = recall_score(y_test, y_test_pred_lr)\n",
    "roc_auc_score_train_lr = roc_auc_score(y_train, y_train_pred_lr)\n",
    "roc_auc_score_test_lr = roc_auc_score(y_test, y_test_pred_lr)"
   ]
  },
  {
   "cell_type": "code",
   "execution_count": 113,
   "id": "ac11c491-bd3e-4189-a3af-2176ee2cf433",
   "metadata": {},
   "outputs": [
    {
     "name": "stdout",
     "output_type": "stream",
     "text": [
      "Logistic Regression Results:\n",
      "Confusion Matrix (Training Data):\n",
      "[[1874  114]\n",
      " [ 320  361]]\n",
      "\n",
      "Accuracy Score (Training Data): 0.8373922817534657\n",
      "\n",
      "Precision Score (Training Data): 0.76\n",
      "\n",
      "Recall Score (Training Data): 0.5301027900146843\n",
      "\n",
      "ROC AUC Score (Training Data): 0.7363793628141833\n",
      "\n",
      "------------------------------------------------------\n",
      "\n",
      "Confusion Matrix (Testing Data):\n",
      "[[451  33]\n",
      " [ 89  95]]\n",
      "\n",
      "Accuracy Score (Testing Data): 0.8173652694610778\n",
      "\n",
      "Precision Score (Testing Data): 0.7421875\n",
      "\n",
      "Recall Score (Testing Data): 0.5163043478260869\n",
      "\n",
      "ROC AUC Score (Testing Data): 0.7240612648221344\n",
      "\n",
      "------------------------------------------------------\n"
     ]
    }
   ],
   "source": [
    "print(\"Logistic Regression Results:\")\n",
    "print(\"Confusion Matrix (Training Data):\")\n",
    "print(cfm_train_lr)\n",
    "print(\"\\nAccuracy Score (Training Data):\", acs_train_lr)\n",
    "print(\"\\nPrecision Score (Training Data):\", pcs_train_lr)\n",
    "print(\"\\nRecall Score (Training Data):\", rcs_train_lr)\n",
    "print(\"\\nROC AUC Score (Training Data):\", roc_auc_score_train_lr)\n",
    "print(\"\\n------------------------------------------------------\")\n",
    "print(\"\\nConfusion Matrix (Testing Data):\")\n",
    "print(cfm_test_lr)\n",
    "print(\"\\nAccuracy Score (Testing Data):\", acs_test_lr)\n",
    "print(\"\\nPrecision Score (Testing Data):\", pcs_test_lr)\n",
    "print(\"\\nRecall Score (Testing Data):\", rcs_test_lr)\n",
    "print(\"\\nROC AUC Score (Testing Data):\", roc_auc_score_test_lr)\n",
    "print(\"\\n------------------------------------------------------\")"
   ]
  },
  {
   "cell_type": "code",
   "execution_count": 114,
   "id": "4fa5f0e0-8cd2-4748-bcb0-46b4ae311692",
   "metadata": {},
   "outputs": [
    {
     "name": "stdout",
     "output_type": "stream",
     "text": [
      "best hyperparameter:  {'C': 0.001, 'penalty': 'l2'}\n"
     ]
    }
   ],
   "source": [
    "print(\"best hyperparameter: \", best_params_logreg)"
   ]
  },
  {
   "cell_type": "markdown",
   "id": "db8f8449-8f0a-4703-b298-094d451dce0c",
   "metadata": {},
   "source": [
    "## K-Nearest Neighbors"
   ]
  },
  {
   "cell_type": "code",
   "execution_count": 116,
   "id": "ba6d1597-4ae0-4562-b998-5d0fd7adad79",
   "metadata": {},
   "outputs": [],
   "source": [
    "knn_classifier = KNeighborsClassifier()"
   ]
  },
  {
   "cell_type": "code",
   "execution_count": 117,
   "id": "04a2da3f-859d-4816-aee4-99e802b649be",
   "metadata": {},
   "outputs": [],
   "source": [
    "param_grid_knn = {\n",
    "    'n_neighbors': [3, 5, 7]}"
   ]
  },
  {
   "cell_type": "code",
   "execution_count": 118,
   "id": "6f7a945a-a70c-4f47-8ee6-0f165bdae646",
   "metadata": {},
   "outputs": [],
   "source": [
    "grid_search_knn = GridSearchCV(knn_classifier, param_grid_knn, cv=3, scoring='accuracy')"
   ]
  },
  {
   "cell_type": "code",
   "execution_count": 119,
   "id": "2f7892b0-720d-482d-b0b3-30fd96fd4090",
   "metadata": {},
   "outputs": [
    {
     "data": {
      "text/html": [
       "<style>#sk-container-id-8 {color: black;background-color: white;}#sk-container-id-8 pre{padding: 0;}#sk-container-id-8 div.sk-toggleable {background-color: white;}#sk-container-id-8 label.sk-toggleable__label {cursor: pointer;display: block;width: 100%;margin-bottom: 0;padding: 0.3em;box-sizing: border-box;text-align: center;}#sk-container-id-8 label.sk-toggleable__label-arrow:before {content: \"▸\";float: left;margin-right: 0.25em;color: #696969;}#sk-container-id-8 label.sk-toggleable__label-arrow:hover:before {color: black;}#sk-container-id-8 div.sk-estimator:hover label.sk-toggleable__label-arrow:before {color: black;}#sk-container-id-8 div.sk-toggleable__content {max-height: 0;max-width: 0;overflow: hidden;text-align: left;background-color: #f0f8ff;}#sk-container-id-8 div.sk-toggleable__content pre {margin: 0.2em;color: black;border-radius: 0.25em;background-color: #f0f8ff;}#sk-container-id-8 input.sk-toggleable__control:checked~div.sk-toggleable__content {max-height: 200px;max-width: 100%;overflow: auto;}#sk-container-id-8 input.sk-toggleable__control:checked~label.sk-toggleable__label-arrow:before {content: \"▾\";}#sk-container-id-8 div.sk-estimator input.sk-toggleable__control:checked~label.sk-toggleable__label {background-color: #d4ebff;}#sk-container-id-8 div.sk-label input.sk-toggleable__control:checked~label.sk-toggleable__label {background-color: #d4ebff;}#sk-container-id-8 input.sk-hidden--visually {border: 0;clip: rect(1px 1px 1px 1px);clip: rect(1px, 1px, 1px, 1px);height: 1px;margin: -1px;overflow: hidden;padding: 0;position: absolute;width: 1px;}#sk-container-id-8 div.sk-estimator {font-family: monospace;background-color: #f0f8ff;border: 1px dotted black;border-radius: 0.25em;box-sizing: border-box;margin-bottom: 0.5em;}#sk-container-id-8 div.sk-estimator:hover {background-color: #d4ebff;}#sk-container-id-8 div.sk-parallel-item::after {content: \"\";width: 100%;border-bottom: 1px solid gray;flex-grow: 1;}#sk-container-id-8 div.sk-label:hover label.sk-toggleable__label {background-color: #d4ebff;}#sk-container-id-8 div.sk-serial::before {content: \"\";position: absolute;border-left: 1px solid gray;box-sizing: border-box;top: 0;bottom: 0;left: 50%;z-index: 0;}#sk-container-id-8 div.sk-serial {display: flex;flex-direction: column;align-items: center;background-color: white;padding-right: 0.2em;padding-left: 0.2em;position: relative;}#sk-container-id-8 div.sk-item {position: relative;z-index: 1;}#sk-container-id-8 div.sk-parallel {display: flex;align-items: stretch;justify-content: center;background-color: white;position: relative;}#sk-container-id-8 div.sk-item::before, #sk-container-id-8 div.sk-parallel-item::before {content: \"\";position: absolute;border-left: 1px solid gray;box-sizing: border-box;top: 0;bottom: 0;left: 50%;z-index: -1;}#sk-container-id-8 div.sk-parallel-item {display: flex;flex-direction: column;z-index: 1;position: relative;background-color: white;}#sk-container-id-8 div.sk-parallel-item:first-child::after {align-self: flex-end;width: 50%;}#sk-container-id-8 div.sk-parallel-item:last-child::after {align-self: flex-start;width: 50%;}#sk-container-id-8 div.sk-parallel-item:only-child::after {width: 0;}#sk-container-id-8 div.sk-dashed-wrapped {border: 1px dashed gray;margin: 0 0.4em 0.5em 0.4em;box-sizing: border-box;padding-bottom: 0.4em;background-color: white;}#sk-container-id-8 div.sk-label label {font-family: monospace;font-weight: bold;display: inline-block;line-height: 1.2em;}#sk-container-id-8 div.sk-label-container {text-align: center;}#sk-container-id-8 div.sk-container {/* jupyter's `normalize.less` sets `[hidden] { display: none; }` but bootstrap.min.css set `[hidden] { display: none !important; }` so we also need the `!important` here to be able to override the default hidden behavior on the sphinx rendered scikit-learn.org. See: https://github.com/scikit-learn/scikit-learn/issues/21755 */display: inline-block !important;position: relative;}#sk-container-id-8 div.sk-text-repr-fallback {display: none;}</style><div id=\"sk-container-id-8\" class=\"sk-top-container\"><div class=\"sk-text-repr-fallback\"><pre>GridSearchCV(cv=3, estimator=KNeighborsClassifier(),\n",
       "             param_grid={&#x27;n_neighbors&#x27;: [3, 5, 7]}, scoring=&#x27;accuracy&#x27;)</pre><b>In a Jupyter environment, please rerun this cell to show the HTML representation or trust the notebook. <br />On GitHub, the HTML representation is unable to render, please try loading this page with nbviewer.org.</b></div><div class=\"sk-container\" hidden><div class=\"sk-item sk-dashed-wrapped\"><div class=\"sk-label-container\"><div class=\"sk-label sk-toggleable\"><input class=\"sk-toggleable__control sk-hidden--visually\" id=\"sk-estimator-id-22\" type=\"checkbox\" ><label for=\"sk-estimator-id-22\" class=\"sk-toggleable__label sk-toggleable__label-arrow\">GridSearchCV</label><div class=\"sk-toggleable__content\"><pre>GridSearchCV(cv=3, estimator=KNeighborsClassifier(),\n",
       "             param_grid={&#x27;n_neighbors&#x27;: [3, 5, 7]}, scoring=&#x27;accuracy&#x27;)</pre></div></div></div><div class=\"sk-parallel\"><div class=\"sk-parallel-item\"><div class=\"sk-item\"><div class=\"sk-label-container\"><div class=\"sk-label sk-toggleable\"><input class=\"sk-toggleable__control sk-hidden--visually\" id=\"sk-estimator-id-23\" type=\"checkbox\" ><label for=\"sk-estimator-id-23\" class=\"sk-toggleable__label sk-toggleable__label-arrow\">estimator: KNeighborsClassifier</label><div class=\"sk-toggleable__content\"><pre>KNeighborsClassifier()</pre></div></div></div><div class=\"sk-serial\"><div class=\"sk-item\"><div class=\"sk-estimator sk-toggleable\"><input class=\"sk-toggleable__control sk-hidden--visually\" id=\"sk-estimator-id-24\" type=\"checkbox\" ><label for=\"sk-estimator-id-24\" class=\"sk-toggleable__label sk-toggleable__label-arrow\">KNeighborsClassifier</label><div class=\"sk-toggleable__content\"><pre>KNeighborsClassifier()</pre></div></div></div></div></div></div></div></div></div></div>"
      ],
      "text/plain": [
       "GridSearchCV(cv=3, estimator=KNeighborsClassifier(),\n",
       "             param_grid={'n_neighbors': [3, 5, 7]}, scoring='accuracy')"
      ]
     },
     "execution_count": 119,
     "metadata": {},
     "output_type": "execute_result"
    }
   ],
   "source": [
    "grid_search_knn.fit(X_train, y_train)"
   ]
  },
  {
   "cell_type": "code",
   "execution_count": 120,
   "id": "e0a3bc90-1403-42a3-a8b3-8a6a62907f8d",
   "metadata": {},
   "outputs": [],
   "source": [
    "best_params_knn = grid_search_knn.best_params_"
   ]
  },
  {
   "cell_type": "code",
   "execution_count": 121,
   "id": "77768d7b-2832-4617-86c7-31e283cded54",
   "metadata": {},
   "outputs": [],
   "source": [
    "best_knn_classifier = grid_search_knn.best_estimator_"
   ]
  },
  {
   "cell_type": "code",
   "execution_count": 122,
   "id": "15e2c370-8477-4bcd-98fb-83eae8c5f782",
   "metadata": {},
   "outputs": [],
   "source": [
    "y_train_pred_knn = best_knn_classifier.predict(X_train)"
   ]
  },
  {
   "cell_type": "code",
   "execution_count": 123,
   "id": "d8826fa7-91eb-423a-bdab-e32330c617ff",
   "metadata": {},
   "outputs": [],
   "source": [
    "y_test_pred_knn = best_knn_classifier.predict(X_test)"
   ]
  },
  {
   "cell_type": "code",
   "execution_count": 124,
   "id": "0b0f3c64-27b1-4d85-958d-33d17e92a9ce",
   "metadata": {},
   "outputs": [],
   "source": [
    "cfm_train_knn = confusion_matrix(y_train, y_train_pred_knn)\n",
    "cfm_test_knn = confusion_matrix(y_test, y_test_pred_knn)\n",
    "acs_train_knn = accuracy_score(y_train, y_train_pred_knn)\n",
    "acs_test_knn = accuracy_score(y_test, y_test_pred_knn)\n",
    "pcs_train_knn = precision_score(y_train, y_train_pred_knn)\n",
    "pcs_test_knn = precision_score(y_test, y_test_pred_knn)\n",
    "rcs_train_knn = recall_score(y_train, y_train_pred_knn)\n",
    "rcs_test_knn = recall_score(y_test, y_test_pred_knn)\n",
    "roc_auc_score_train_knn = roc_auc_score(y_train, y_train_pred_knn)\n",
    "roc_auc_score_test_knn = roc_auc_score(y_test, y_test_pred_knn)"
   ]
  },
  {
   "cell_type": "code",
   "execution_count": 125,
   "id": "28e06215-f8f7-4046-9bd8-ef5772102080",
   "metadata": {},
   "outputs": [
    {
     "name": "stdout",
     "output_type": "stream",
     "text": [
      "K-Nearest Neighbors (KNN) Results:\n",
      "Confusion Matrix (Training Data):\n",
      "[[1909   79]\n",
      " [ 296  385]]\n",
      "\n",
      "Accuracy Score (Training Data): 0.8594979393031098\n",
      "\n",
      "Precision Score (Training Data): 0.8297413793103449\n",
      "\n",
      "Recall Score (Training Data): 0.5653450807635829\n",
      "\n",
      "ROC AUC Score (Training Data): 0.762803325090041\n",
      "\n",
      "------------------------------------------------------\n",
      "\n",
      "Confusion Matrix (Testing Data):\n",
      "[[434  50]\n",
      " [ 93  91]]\n",
      "\n",
      "Accuracy Score (Testing Data): 0.7859281437125748\n",
      "\n",
      "Precision Score (Testing Data): 0.6453900709219859\n",
      "\n",
      "Recall Score (Testing Data): 0.4945652173913043\n",
      "\n",
      "ROC AUC Score (Testing Data): 0.6956297161336686\n",
      "\n",
      "------------------------------------------------------\n"
     ]
    }
   ],
   "source": [
    "print(\"K-Nearest Neighbors (KNN) Results:\")\n",
    "print(\"Confusion Matrix (Training Data):\")\n",
    "print(cfm_train_knn)\n",
    "print(\"\\nAccuracy Score (Training Data):\", acs_train_knn)\n",
    "print(\"\\nPrecision Score (Training Data):\", pcs_train_knn)\n",
    "print(\"\\nRecall Score (Training Data):\", rcs_train_knn)\n",
    "print(\"\\nROC AUC Score (Training Data):\", roc_auc_score_train_knn)\n",
    "print(\"\\n------------------------------------------------------\")\n",
    "print(\"\\nConfusion Matrix (Testing Data):\")\n",
    "print(cfm_test_knn)\n",
    "print(\"\\nAccuracy Score (Testing Data):\", acs_test_knn)\n",
    "print(\"\\nPrecision Score (Testing Data):\", pcs_test_knn)\n",
    "print(\"\\nRecall Score (Testing Data):\", rcs_test_knn)\n",
    "print(\"\\nROC AUC Score (Testing Data):\", roc_auc_score_test_knn)\n",
    "print(\"\\n------------------------------------------------------\")"
   ]
  },
  {
   "cell_type": "code",
   "execution_count": 126,
   "id": "27d1563a-6745-4750-bdd7-f57d804ed96c",
   "metadata": {},
   "outputs": [
    {
     "name": "stdout",
     "output_type": "stream",
     "text": [
      "best hyperparameter:  {'n_neighbors': 7}\n"
     ]
    }
   ],
   "source": [
    "print(\"best hyperparameter: \", best_params_knn)"
   ]
  },
  {
   "cell_type": "markdown",
   "id": "375b448a-7b2a-4818-b154-a0f23b1b3154",
   "metadata": {},
   "source": [
    "## Linear Discriminant Analysis"
   ]
  },
  {
   "cell_type": "code",
   "execution_count": 128,
   "id": "05ff6ada-3194-417f-aead-495e53b8117c",
   "metadata": {},
   "outputs": [],
   "source": [
    "lda_model = LinearDiscriminantAnalysis(solver='lsqr', shrinkage='auto')"
   ]
  },
  {
   "cell_type": "code",
   "execution_count": 129,
   "id": "51ef23b3-2b59-4da7-907e-859b0dcc608d",
   "metadata": {},
   "outputs": [
    {
     "data": {
      "text/html": [
       "<style>#sk-container-id-9 {color: black;background-color: white;}#sk-container-id-9 pre{padding: 0;}#sk-container-id-9 div.sk-toggleable {background-color: white;}#sk-container-id-9 label.sk-toggleable__label {cursor: pointer;display: block;width: 100%;margin-bottom: 0;padding: 0.3em;box-sizing: border-box;text-align: center;}#sk-container-id-9 label.sk-toggleable__label-arrow:before {content: \"▸\";float: left;margin-right: 0.25em;color: #696969;}#sk-container-id-9 label.sk-toggleable__label-arrow:hover:before {color: black;}#sk-container-id-9 div.sk-estimator:hover label.sk-toggleable__label-arrow:before {color: black;}#sk-container-id-9 div.sk-toggleable__content {max-height: 0;max-width: 0;overflow: hidden;text-align: left;background-color: #f0f8ff;}#sk-container-id-9 div.sk-toggleable__content pre {margin: 0.2em;color: black;border-radius: 0.25em;background-color: #f0f8ff;}#sk-container-id-9 input.sk-toggleable__control:checked~div.sk-toggleable__content {max-height: 200px;max-width: 100%;overflow: auto;}#sk-container-id-9 input.sk-toggleable__control:checked~label.sk-toggleable__label-arrow:before {content: \"▾\";}#sk-container-id-9 div.sk-estimator input.sk-toggleable__control:checked~label.sk-toggleable__label {background-color: #d4ebff;}#sk-container-id-9 div.sk-label input.sk-toggleable__control:checked~label.sk-toggleable__label {background-color: #d4ebff;}#sk-container-id-9 input.sk-hidden--visually {border: 0;clip: rect(1px 1px 1px 1px);clip: rect(1px, 1px, 1px, 1px);height: 1px;margin: -1px;overflow: hidden;padding: 0;position: absolute;width: 1px;}#sk-container-id-9 div.sk-estimator {font-family: monospace;background-color: #f0f8ff;border: 1px dotted black;border-radius: 0.25em;box-sizing: border-box;margin-bottom: 0.5em;}#sk-container-id-9 div.sk-estimator:hover {background-color: #d4ebff;}#sk-container-id-9 div.sk-parallel-item::after {content: \"\";width: 100%;border-bottom: 1px solid gray;flex-grow: 1;}#sk-container-id-9 div.sk-label:hover label.sk-toggleable__label {background-color: #d4ebff;}#sk-container-id-9 div.sk-serial::before {content: \"\";position: absolute;border-left: 1px solid gray;box-sizing: border-box;top: 0;bottom: 0;left: 50%;z-index: 0;}#sk-container-id-9 div.sk-serial {display: flex;flex-direction: column;align-items: center;background-color: white;padding-right: 0.2em;padding-left: 0.2em;position: relative;}#sk-container-id-9 div.sk-item {position: relative;z-index: 1;}#sk-container-id-9 div.sk-parallel {display: flex;align-items: stretch;justify-content: center;background-color: white;position: relative;}#sk-container-id-9 div.sk-item::before, #sk-container-id-9 div.sk-parallel-item::before {content: \"\";position: absolute;border-left: 1px solid gray;box-sizing: border-box;top: 0;bottom: 0;left: 50%;z-index: -1;}#sk-container-id-9 div.sk-parallel-item {display: flex;flex-direction: column;z-index: 1;position: relative;background-color: white;}#sk-container-id-9 div.sk-parallel-item:first-child::after {align-self: flex-end;width: 50%;}#sk-container-id-9 div.sk-parallel-item:last-child::after {align-self: flex-start;width: 50%;}#sk-container-id-9 div.sk-parallel-item:only-child::after {width: 0;}#sk-container-id-9 div.sk-dashed-wrapped {border: 1px dashed gray;margin: 0 0.4em 0.5em 0.4em;box-sizing: border-box;padding-bottom: 0.4em;background-color: white;}#sk-container-id-9 div.sk-label label {font-family: monospace;font-weight: bold;display: inline-block;line-height: 1.2em;}#sk-container-id-9 div.sk-label-container {text-align: center;}#sk-container-id-9 div.sk-container {/* jupyter's `normalize.less` sets `[hidden] { display: none; }` but bootstrap.min.css set `[hidden] { display: none !important; }` so we also need the `!important` here to be able to override the default hidden behavior on the sphinx rendered scikit-learn.org. See: https://github.com/scikit-learn/scikit-learn/issues/21755 */display: inline-block !important;position: relative;}#sk-container-id-9 div.sk-text-repr-fallback {display: none;}</style><div id=\"sk-container-id-9\" class=\"sk-top-container\"><div class=\"sk-text-repr-fallback\"><pre>LinearDiscriminantAnalysis(shrinkage=&#x27;auto&#x27;, solver=&#x27;lsqr&#x27;)</pre><b>In a Jupyter environment, please rerun this cell to show the HTML representation or trust the notebook. <br />On GitHub, the HTML representation is unable to render, please try loading this page with nbviewer.org.</b></div><div class=\"sk-container\" hidden><div class=\"sk-item\"><div class=\"sk-estimator sk-toggleable\"><input class=\"sk-toggleable__control sk-hidden--visually\" id=\"sk-estimator-id-25\" type=\"checkbox\" checked><label for=\"sk-estimator-id-25\" class=\"sk-toggleable__label sk-toggleable__label-arrow\">LinearDiscriminantAnalysis</label><div class=\"sk-toggleable__content\"><pre>LinearDiscriminantAnalysis(shrinkage=&#x27;auto&#x27;, solver=&#x27;lsqr&#x27;)</pre></div></div></div></div></div>"
      ],
      "text/plain": [
       "LinearDiscriminantAnalysis(shrinkage='auto', solver='lsqr')"
      ]
     },
     "execution_count": 129,
     "metadata": {},
     "output_type": "execute_result"
    }
   ],
   "source": [
    "lda_model.fit(X_train, y_train)"
   ]
  },
  {
   "cell_type": "code",
   "execution_count": 130,
   "id": "965b98de-7828-4e93-81f4-42867ee17ff1",
   "metadata": {},
   "outputs": [],
   "source": [
    "y_train_pred_lda = lda_model.predict(X_train)"
   ]
  },
  {
   "cell_type": "code",
   "execution_count": 131,
   "id": "180e6ca8-ef02-4e08-bdda-2267c0b1003a",
   "metadata": {},
   "outputs": [],
   "source": [
    "y_test_pred_lda = lda_model.predict(X_test)"
   ]
  },
  {
   "cell_type": "code",
   "execution_count": 132,
   "id": "b9dd4cf1-8568-4c8a-9352-1a5a2f89b80e",
   "metadata": {},
   "outputs": [],
   "source": [
    "cfm_train_lda = confusion_matrix(y_train, y_train_pred_lda)\n",
    "cfm_test_lda = confusion_matrix(y_test, y_test_pred_lda)\n",
    "acs_train_lda = accuracy_score(y_train, y_train_pred_lda)\n",
    "acs_test_lda = accuracy_score(y_test, y_test_pred_lda)\n",
    "pcs_train_lda = precision_score(y_train, y_train_pred_lda)\n",
    "pcs_test_lda = precision_score(y_test, y_test_pred_lda)\n",
    "rcs_train_lda = recall_score(y_train, y_train_pred_lda)\n",
    "rcs_test_lda = recall_score(y_test, y_test_pred_lda)\n",
    "roc_auc_score_train_lda = roc_auc_score(y_train, y_train_pred_lda)\n",
    "roc_auc_score_test_lda = roc_auc_score(y_test, y_test_pred_lda)"
   ]
  },
  {
   "cell_type": "code",
   "execution_count": 133,
   "id": "7d7fb534-2f99-4456-8367-e5cbafc2e521",
   "metadata": {},
   "outputs": [
    {
     "name": "stdout",
     "output_type": "stream",
     "text": [
      "Linear Discriminant Analysis (LDA) Results:\n",
      "Confusion Matrix (Training Data):\n",
      "[[1827  161]\n",
      " [ 283  398]]\n",
      "\n",
      "Accuracy Score (Training Data): 0.833645560134882\n",
      "\n",
      "Precision Score (Training Data): 0.7119856887298748\n",
      "\n",
      "Recall Score (Training Data): 0.5844346549192364\n",
      "\n",
      "ROC AUC Score (Training Data): 0.7517243697131393\n",
      "\n",
      "------------------------------------------------------\n",
      "\n",
      "Confusion Matrix (Testing Data):\n",
      "[[442  42]\n",
      " [ 79 105]]\n",
      "\n",
      "Accuracy Score (Testing Data): 0.8188622754491018\n",
      "\n",
      "Precision Score (Testing Data): 0.7142857142857143\n",
      "\n",
      "Recall Score (Testing Data): 0.5706521739130435\n",
      "\n",
      "ROC AUC Score (Testing Data): 0.7419376572044556\n",
      "\n",
      "------------------------------------------------------\n"
     ]
    }
   ],
   "source": [
    "print(\"Linear Discriminant Analysis (LDA) Results:\")\n",
    "print(\"Confusion Matrix (Training Data):\")\n",
    "print(cfm_train_lda)\n",
    "print(\"\\nAccuracy Score (Training Data):\", acs_train_lda)\n",
    "print(\"\\nPrecision Score (Training Data):\", pcs_train_lda)\n",
    "print(\"\\nRecall Score (Training Data):\", rcs_train_lda)\n",
    "print(\"\\nROC AUC Score (Training Data):\", roc_auc_score_train_lda)\n",
    "print(\"\\n------------------------------------------------------\")\n",
    "print(\"\\nConfusion Matrix (Testing Data):\")\n",
    "print(cfm_test_lda)\n",
    "print(\"\\nAccuracy Score (Testing Data):\", acs_test_lda)\n",
    "print(\"\\nPrecision Score (Testing Data):\", pcs_test_lda)\n",
    "print(\"\\nRecall Score (Testing Data):\", rcs_test_lda)\n",
    "print(\"\\nROC AUC Score (Testing Data):\", roc_auc_score_test_lda)\n",
    "print(\"\\n------------------------------------------------------\")"
   ]
  },
  {
   "cell_type": "markdown",
   "id": "a4a89b3d-d38f-4ab7-8853-be049d8c5829",
   "metadata": {},
   "source": [
    "## Compare all models"
   ]
  },
  {
   "cell_type": "code",
   "execution_count": 135,
   "id": "30eb00f1-9e19-4dba-a0d1-2590263f5aa4",
   "metadata": {},
   "outputs": [
    {
     "name": "stdout",
     "output_type": "stream",
     "text": [
      "Logistic Regression - Accuracy Score (Train): 83.7392%\n",
      "Logistic Regression - Accuracy Score (Test): 81.7365%\n",
      "Logistic Regression - ROC AUC Score (Test): 0.7241\n",
      "Logistic Regression - Recall Score (Test): 0.5163\n",
      "Logistic Regression - Precision Score (Test): 0.7422\n",
      "============================================================\n",
      "K-Nearest Neighbors - Accuracy Score (Train): 85.9498%\n",
      "K-Nearest Neighbors - Accuracy Score (Test): 78.5928%\n",
      "K-Nearest Neighbors - ROC AUC Score (Test): 0.6956\n",
      "K-Nearest Neighbors - Recall Score (Test): 0.4946\n",
      "K-Nearest Neighbors - Precision Score (Test): 0.6454\n",
      "============================================================\n",
      "Linear Discriminant Analysis - Accuracy Score (Train): 83.3646%\n",
      "Linear Discriminant Analysis - Accuracy Score (Test): 81.8862%\n",
      "Linear Discriminant Analysis - ROC AUC Score (Test): 0.7419\n",
      "Linear Discriminant Analysis - Recall Score (Test): 0.5707\n",
      "Linear Discriminant Analysis - Precision Score (Test): 0.7143\n",
      "============================================================\n",
      "Decision Tree - Accuracy Score (Train): 82.7276%\n",
      "Decision Tree - Accuracy Score (Test): 80.2395%\n",
      "Decision Tree - ROC AUC Score (Test): 0.7323\n",
      "Decision Tree - Recall Score (Test): 0.5761\n",
      "Decision Tree - Precision Score (Test): 0.6625\n",
      "============================================================\n",
      "Random Forest - Accuracy Score (Train): 91.3825%\n",
      "Random Forest - Accuracy Score (Test): 82.4850%\n",
      "Random Forest - ROC AUC Score (Test): 0.7360\n",
      "Random Forest - Recall Score (Test): 0.5380\n",
      "Random Forest - Precision Score (Test): 0.7557\n",
      "============================================================\n",
      "Gradient Boosting - Accuracy Score (Train): 91.7947%\n",
      "Gradient Boosting - Accuracy Score (Test): 80.9880%\n",
      "Gradient Boosting - ROC AUC Score (Test): 0.7290\n",
      "Gradient Boosting - Recall Score (Test): 0.5489\n",
      "Gradient Boosting - Precision Score (Test): 0.6966\n",
      "============================================================\n",
      "AdaBoost - Accuracy Score (Train): 84.4511%\n",
      "AdaBoost - Accuracy Score (Test): 82.4850%\n",
      "AdaBoost - ROC AUC Score (Test): 0.7259\n",
      "AdaBoost - Recall Score (Test): 0.5054\n",
      "AdaBoost - Precision Score (Test): 0.7815\n",
      "============================================================\n",
      "XGBoost - Accuracy Score (Train): 86.6991%\n",
      "XGBoost - Accuracy Score (Test): 83.0838%\n",
      "XGBoost - ROC AUC Score (Test): 0.7485\n",
      "XGBoost - Recall Score (Test): 0.5652\n",
      "XGBoost - Precision Score (Test): 0.7591\n"
     ]
    }
   ],
   "source": [
    "# Logistic Regression\n",
    "\n",
    "print(f\"Logistic Regression - Accuracy Score (Train): {acs_train_lr * 100:.4f}%\")\n",
    "print(f\"Logistic Regression - Accuracy Score (Test): {acs_test_lr * 100:.4f}%\")\n",
    "print(f\"Logistic Regression - ROC AUC Score (Test): {roc_auc_score_test_lr:.4f}\")\n",
    "print(f\"Logistic Regression - Recall Score (Test): {rcs_test_lr:.4f}\")\n",
    "print(f\"Logistic Regression - Precision Score (Test): {pcs_test_lr:.4f}\")\n",
    "print(\"=\"*60)   \n",
    "\n",
    "# K-Nearest Neighbors\n",
    "print(f\"K-Nearest Neighbors - Accuracy Score (Train): {acs_train_knn * 100:.4f}%\")\n",
    "print(f\"K-Nearest Neighbors - Accuracy Score (Test): {acs_test_knn * 100:.4f}%\")\n",
    "print(f\"K-Nearest Neighbors - ROC AUC Score (Test): {roc_auc_score_test_knn:.4f}\")\n",
    "print(f\"K-Nearest Neighbors - Recall Score (Test): {rcs_test_knn:.4f}\")\n",
    "print(f\"K-Nearest Neighbors - Precision Score (Test): {pcs_test_knn:.4f}\")\n",
    "print(\"=\"*60)  \n",
    "\n",
    "# Linear Discriminant Analysis\n",
    "print(f\"Linear Discriminant Analysis - Accuracy Score (Train): {acs_train_lda * 100:.4f}%\")\n",
    "print(f\"Linear Discriminant Analysis - Accuracy Score (Test): {acs_test_lda * 100:.4f}%\")\n",
    "print(f\"Linear Discriminant Analysis - ROC AUC Score (Test): {roc_auc_score_test_lda:.4f}\")\n",
    "print(f\"Linear Discriminant Analysis - Recall Score (Test): {rcs_test_lda:.4f}\")\n",
    "print(f\"Linear Discriminant Analysis - Precision Score (Test): {pcs_test_lda:.4f}\")\n",
    "print(\"=\"*60)\n",
    "\n",
    "# Decision Tree\n",
    "print(f\"Decision Tree - Accuracy Score (Train): {accuracy_score_train_ct * 100:.4f}%\")\n",
    "print(f\"Decision Tree - Accuracy Score (Test): {accuracy_score_test_ct * 100:.4f}%\")\n",
    "print(f\"Decision Tree - ROC AUC Score (Test): {roc_auc_score_test:.4f}\")\n",
    "print(f\"Decision Tree - Recall Score (Test): {recall_score_ct:.4f}\")\n",
    "print(f\"Decision Tree - Precision Score (Test): {precision_score_ct:.4f}\")\n",
    "print(\"=\"*60)  # Double line\n",
    "\n",
    "# Random Forest\n",
    "print(f\"Random Forest - Accuracy Score (Train): {acs_train_rf * 100:.4f}%\")\n",
    "print(f\"Random Forest - Accuracy Score (Test): {acs_test_rf * 100:.4f}%\")\n",
    "print(f\"Random Forest - ROC AUC Score (Test): {roc_auc_score_test_rf:.4f}\")\n",
    "print(f\"Random Forest - Recall Score (Test): {rcs_test_rf:.4f}\")\n",
    "print(f\"Random Forest - Precision Score (Test): {pcs_test_rf:.4f}\")\n",
    "print(\"=\"*60) \n",
    "\n",
    "# Gradient Boosting\n",
    "print(f\"Gradient Boosting - Accuracy Score (Train): {acs_train_gb * 100:.4f}%\")\n",
    "print(f\"Gradient Boosting - Accuracy Score (Test): {acs_test_gb * 100:.4f}%\")\n",
    "print(f\"Gradient Boosting - ROC AUC Score (Test): {roc_auc_score_test_gb:.4f}\")\n",
    "print(f\"Gradient Boosting - Recall Score (Test): {rcs_test_gb:.4f}\")\n",
    "print(f\"Gradient Boosting - Precision Score (Test): {pcs_test_gb:.4f}\")\n",
    "print(\"=\"*60)  \n",
    "\n",
    "# AdaBoost\n",
    "print(f\"AdaBoost - Accuracy Score (Train): {acs_train_adaboost * 100:.4f}%\")\n",
    "print(f\"AdaBoost - Accuracy Score (Test): {acs_test_adaboost * 100:.4f}%\")\n",
    "print(f\"AdaBoost - ROC AUC Score (Test): {roc_auc_score_test_adaboost:.4f}\")\n",
    "print(f\"AdaBoost - Recall Score (Test): {rcs_test_adaboost:.4f}\")\n",
    "print(f\"AdaBoost - Precision Score (Test): {pcs_test_adaboost:.4f}\")\n",
    "print(\"=\"*60) \n",
    "# XGBoost\n",
    "print(f\"XGBoost - Accuracy Score (Train): {acs_train_xgb * 100:.4f}%\")\n",
    "print(f\"XGBoost - Accuracy Score (Test): {acs_test_xgb * 100:.4f}%\")\n",
    "print(f\"XGBoost - ROC AUC Score (Test): {roc_auc_score_test_xgb:.4f}\")\n",
    "print(f\"XGBoost - Recall Score (Test): {rcs_test_xgb:.4f}\")\n",
    "print(f\"XGBoost - Precision Score (Test): {pcs_test_xgb:.4f}\")"
   ]
  },
  {
   "cell_type": "markdown",
   "id": "f6fb9c34-1cbe-4ca2-9843-5c1d5b59370d",
   "metadata": {},
   "source": [
    "#### Function to preprocess the input data"
   ]
  },
  {
   "cell_type": "code",
   "execution_count": 137,
   "id": "383d5f09-c8a6-40ab-a3de-540634c14590",
   "metadata": {},
   "outputs": [],
   "source": [
    "def preprocess_data(MinTemp, MaxTemp, Rainfall, Evaporation, Sunshine, Humidity9am, Humidity3pm,\n",
    "                    Pressure9am, Pressure3pm, Cloud9am, Cloud3pm, Temp9am, Temp3pm, RainToday):\n",
    "    # Create a DataFrame from the input data\n",
    "    data = pd.DataFrame({\n",
    "        'MinTemp': [MinTemp],\n",
    "        'MaxTemp': [MaxTemp],\n",
    "        'Rainfall': [Rainfall],\n",
    "        'Evaporation': [Evaporation],\n",
    "        'Sunshine': [Sunshine],\n",
    "        'Humidity9am': [Humidity9am],\n",
    "        'Humidity3pm': [Humidity3pm],\n",
    "        'Pressure9am': [Pressure9am],\n",
    "        'Pressure3pm': [Pressure3pm],\n",
    "        'Cloud9am': [Cloud9am],\n",
    "        'Cloud3pm': [Cloud3pm],\n",
    "        'Temp9am': [Temp9am],\n",
    "        'Temp3pm': [Temp3pm],\n",
    "        'RainToday_Yes': [1 if RainToday == 'Yes' else 0]  # Convert 'Yes' to 1, 'No' to 0\n",
    "    })\n",
    "\n",
    "    return data"
   ]
  },
  {
   "cell_type": "code",
   "execution_count": 138,
   "id": "8922dc5f-db04-46da-a6cf-129489465e93",
   "metadata": {},
   "outputs": [],
   "source": [
    "# Define the model with the best parameters\n",
    "best_params = {'learning_rate': 0.1, 'max_depth': 5, 'min_samples_leaf': 1, 'min_samples_split': 5, 'n_estimators': 50}\n",
    "gb_classifier = GradientBoostingClassifier(**best_params)"
   ]
  },
  {
   "cell_type": "code",
   "execution_count": 139,
   "id": "65c3cd85-7fb1-4c57-b87f-9fe6334f02f4",
   "metadata": {},
   "outputs": [
    {
     "data": {
      "text/html": [
       "<style>#sk-container-id-10 {color: black;background-color: white;}#sk-container-id-10 pre{padding: 0;}#sk-container-id-10 div.sk-toggleable {background-color: white;}#sk-container-id-10 label.sk-toggleable__label {cursor: pointer;display: block;width: 100%;margin-bottom: 0;padding: 0.3em;box-sizing: border-box;text-align: center;}#sk-container-id-10 label.sk-toggleable__label-arrow:before {content: \"▸\";float: left;margin-right: 0.25em;color: #696969;}#sk-container-id-10 label.sk-toggleable__label-arrow:hover:before {color: black;}#sk-container-id-10 div.sk-estimator:hover label.sk-toggleable__label-arrow:before {color: black;}#sk-container-id-10 div.sk-toggleable__content {max-height: 0;max-width: 0;overflow: hidden;text-align: left;background-color: #f0f8ff;}#sk-container-id-10 div.sk-toggleable__content pre {margin: 0.2em;color: black;border-radius: 0.25em;background-color: #f0f8ff;}#sk-container-id-10 input.sk-toggleable__control:checked~div.sk-toggleable__content {max-height: 200px;max-width: 100%;overflow: auto;}#sk-container-id-10 input.sk-toggleable__control:checked~label.sk-toggleable__label-arrow:before {content: \"▾\";}#sk-container-id-10 div.sk-estimator input.sk-toggleable__control:checked~label.sk-toggleable__label {background-color: #d4ebff;}#sk-container-id-10 div.sk-label input.sk-toggleable__control:checked~label.sk-toggleable__label {background-color: #d4ebff;}#sk-container-id-10 input.sk-hidden--visually {border: 0;clip: rect(1px 1px 1px 1px);clip: rect(1px, 1px, 1px, 1px);height: 1px;margin: -1px;overflow: hidden;padding: 0;position: absolute;width: 1px;}#sk-container-id-10 div.sk-estimator {font-family: monospace;background-color: #f0f8ff;border: 1px dotted black;border-radius: 0.25em;box-sizing: border-box;margin-bottom: 0.5em;}#sk-container-id-10 div.sk-estimator:hover {background-color: #d4ebff;}#sk-container-id-10 div.sk-parallel-item::after {content: \"\";width: 100%;border-bottom: 1px solid gray;flex-grow: 1;}#sk-container-id-10 div.sk-label:hover label.sk-toggleable__label {background-color: #d4ebff;}#sk-container-id-10 div.sk-serial::before {content: \"\";position: absolute;border-left: 1px solid gray;box-sizing: border-box;top: 0;bottom: 0;left: 50%;z-index: 0;}#sk-container-id-10 div.sk-serial {display: flex;flex-direction: column;align-items: center;background-color: white;padding-right: 0.2em;padding-left: 0.2em;position: relative;}#sk-container-id-10 div.sk-item {position: relative;z-index: 1;}#sk-container-id-10 div.sk-parallel {display: flex;align-items: stretch;justify-content: center;background-color: white;position: relative;}#sk-container-id-10 div.sk-item::before, #sk-container-id-10 div.sk-parallel-item::before {content: \"\";position: absolute;border-left: 1px solid gray;box-sizing: border-box;top: 0;bottom: 0;left: 50%;z-index: -1;}#sk-container-id-10 div.sk-parallel-item {display: flex;flex-direction: column;z-index: 1;position: relative;background-color: white;}#sk-container-id-10 div.sk-parallel-item:first-child::after {align-self: flex-end;width: 50%;}#sk-container-id-10 div.sk-parallel-item:last-child::after {align-self: flex-start;width: 50%;}#sk-container-id-10 div.sk-parallel-item:only-child::after {width: 0;}#sk-container-id-10 div.sk-dashed-wrapped {border: 1px dashed gray;margin: 0 0.4em 0.5em 0.4em;box-sizing: border-box;padding-bottom: 0.4em;background-color: white;}#sk-container-id-10 div.sk-label label {font-family: monospace;font-weight: bold;display: inline-block;line-height: 1.2em;}#sk-container-id-10 div.sk-label-container {text-align: center;}#sk-container-id-10 div.sk-container {/* jupyter's `normalize.less` sets `[hidden] { display: none; }` but bootstrap.min.css set `[hidden] { display: none !important; }` so we also need the `!important` here to be able to override the default hidden behavior on the sphinx rendered scikit-learn.org. See: https://github.com/scikit-learn/scikit-learn/issues/21755 */display: inline-block !important;position: relative;}#sk-container-id-10 div.sk-text-repr-fallback {display: none;}</style><div id=\"sk-container-id-10\" class=\"sk-top-container\"><div class=\"sk-text-repr-fallback\"><pre>GradientBoostingClassifier(max_depth=5, min_samples_split=5, n_estimators=50)</pre><b>In a Jupyter environment, please rerun this cell to show the HTML representation or trust the notebook. <br />On GitHub, the HTML representation is unable to render, please try loading this page with nbviewer.org.</b></div><div class=\"sk-container\" hidden><div class=\"sk-item\"><div class=\"sk-estimator sk-toggleable\"><input class=\"sk-toggleable__control sk-hidden--visually\" id=\"sk-estimator-id-26\" type=\"checkbox\" checked><label for=\"sk-estimator-id-26\" class=\"sk-toggleable__label sk-toggleable__label-arrow\">GradientBoostingClassifier</label><div class=\"sk-toggleable__content\"><pre>GradientBoostingClassifier(max_depth=5, min_samples_split=5, n_estimators=50)</pre></div></div></div></div></div>"
      ],
      "text/plain": [
       "GradientBoostingClassifier(max_depth=5, min_samples_split=5, n_estimators=50)"
      ]
     },
     "execution_count": 139,
     "metadata": {},
     "output_type": "execute_result"
    }
   ],
   "source": [
    "# Train the model with your entire dataset (x_train, y_train)\n",
    "# Train the model with the entire dataset\n",
    "gb_classifier.fit(X_train, y_train)"
   ]
  },
  {
   "cell_type": "code",
   "execution_count": 140,
   "id": "f6e608e1-3697-4af3-a10d-6c826438b0fa",
   "metadata": {},
   "outputs": [],
   "source": [
    "# Once the model is trained, you can use it for predictions\n",
    "y_train_pred_gb = gb_classifier.predict(X_train)\n",
    "y_test_pred_gb = gb_classifier.predict(X_test)"
   ]
  },
  {
   "cell_type": "code",
   "execution_count": 141,
   "id": "6943921c-cc88-425a-9fe2-d16b73691239",
   "metadata": {},
   "outputs": [],
   "source": [
    "acs_train_gb = accuracy_score(y_train, y_train_pred_gb)\n",
    "acs_test_gb = accuracy_score(y_test, y_test_pred_gb)\n",
    "cfm_train_gb = confusion_matrix(y_train, y_train_pred_gb)"
   ]
  },
  {
   "cell_type": "markdown",
   "id": "a777e13e-09cc-4ea3-af99-d1a0fbf80fdc",
   "metadata": {},
   "source": [
    "##### Calculate other metrics as needed (precision, recall, roc_auc_score, etc.)\n",
    "\n",
    "##### Now, your Gradient Boosting Classifier (gb_classifier) is trained on the entire dataset and ready for predictions.\n",
    "\n",
    "##### Define a function to make predictions using the trained model"
   ]
  },
  {
   "cell_type": "code",
   "execution_count": 143,
   "id": "ad09680d-b6e6-444b-a150-47fdeb6f9547",
   "metadata": {},
   "outputs": [],
   "source": [
    "def predict_rain(data):\n",
    "    # Preprocess the input data\n",
    "    processed_data = preprocess_data(**data)\n",
    "    \n",
    "    # Make predictions\n",
    "    prediction = gb_classifier.predict(processed_data)\n",
    "    \n",
    "    # Return the prediction (convert 1/0 back to 'Yes'/'No')\n",
    "    return 'Yes' if prediction[0] == 1 else 'No'"
   ]
  },
  {
   "cell_type": "markdown",
   "id": "1aa92582-acc4-4ca8-a3db-2b98fbc56b98",
   "metadata": {},
   "source": [
    "##### Define the Gradio interface"
   ]
  },
  {
   "cell_type": "code",
   "execution_count": 145,
   "id": "a18dd424-09d4-4a5c-ac8c-f00a7d38466b",
   "metadata": {},
   "outputs": [
    {
     "name": "stdout",
     "output_type": "stream",
     "text": [
      "Running on local URL:  http://127.0.0.1:7860\n",
      "\n",
      "To create a public link, set `share=True` in `launch()`.\n"
     ]
    },
    {
     "data": {
      "text/html": [
       "<div><iframe src=\"http://127.0.0.1:7860/\" width=\"100%\" height=\"500\" allow=\"autoplay; camera; microphone; clipboard-read; clipboard-write;\" frameborder=\"0\" allowfullscreen></iframe></div>"
      ],
      "text/plain": [
       "<IPython.core.display.HTML object>"
      ]
     },
     "metadata": {},
     "output_type": "display_data"
    },
    {
     "data": {
      "text/plain": []
     },
     "execution_count": 145,
     "metadata": {},
     "output_type": "execute_result"
    }
   ],
   "source": [
    "iface = gr.Interface(\n",
    "    fn=predict_rain,\n",
    "    inputs=[\n",
    "        gr.Slider(minimum=-10, maximum=50, label=\"MinTemp\"),\n",
    "        gr.Slider(minimum=-10, maximum=50, label=\"MaxTemp\"),\n",
    "        gr.Slider(minimum=0, maximum=100, label=\"Rainfall\"),\n",
    "        # Add inputs for other weather parameters similarly\n",
    "        gr.Radio([\"Yes\", \"No\"], label=\"RainToday\")\n",
    "    ],\n",
    "    outputs=gr.Textbox(label=\"Prediction\")\n",
    ")\n",
    "\n",
    "# Launch the Gradio interface\n",
    "iface.launch()"
   ]
  },
  {
   "cell_type": "markdown",
   "id": "7194ae1e-e869-427c-a5f3-e29327dcab78",
   "metadata": {},
   "source": [
    "## Project Questions & Answer"
   ]
  },
  {
   "cell_type": "markdown",
   "id": "10a35f80-3679-425e-bbfa-81973a98af0b",
   "metadata": {},
   "source": [
    "### 1. Your views about the problem statement?"
   ]
  },
  {
   "cell_type": "markdown",
   "id": "f24f3455-303a-41c6-947d-0367419a099c",
   "metadata": {},
   "source": [
    "* The problem statement is clear and well-defined. The goal is to predict whether it will rain tomorrow in Sydney using historical weather data. This is a classic classification problem where the target variable is binary (Rain or No Rain). The use of ensemble methods for prediction is appropriate as they often provide better accuracy and robustness compared to single models."
   ]
  },
  {
   "cell_type": "markdown",
   "id": "689d9590-6efe-4897-b5b5-8b8e387ed552",
   "metadata": {},
   "source": [
    "### 2. What will be your approach to solving this task?"
   ]
  },
  {
   "cell_type": "markdown",
   "id": "3d21964d-555c-4f52-838d-03a640f6a575",
   "metadata": {},
   "source": [
    "My approach to solving this task includes the following steps:\n",
    "1. Load and preprocess the data.\n",
    "2. Handle missing values and encode categorical variables.\n",
    "3. Split the data into training and testing sets.\n",
    "4. Train various classification models (Random Forest, Gradient Boosting, AdaBoost, XGBoost).\n",
    "5. Evaluate the models using accuracy and confusion matrices.\n",
    "6. Select the best model based on accuracy and further analyze its performance."
   ]
  },
  {
   "cell_type": "markdown",
   "id": "c2e04ef8-fbbd-4d2c-9fd6-3c5025023b6c",
   "metadata": {},
   "source": [
    "### 3. What were the available ML model options you had to perform this task?"
   ]
  },
  {
   "cell_type": "markdown",
   "id": "43813fd4-53d0-4002-b0d5-cd8f18933d3e",
   "metadata": {},
   "source": [
    "The available ML model options for this task included:\n",
    "- Decision Tree Classifier\n",
    "- Random Forest Classifier\n",
    "- Gradient Boosting Classifier\n",
    "- AdaBoost\n",
    "- XGBoost\n",
    "- Logistic Regression\n",
    "- K-Nearest Neighbors\n",
    "- Linear Discriminant Analysis"
   ]
  },
  {
   "cell_type": "markdown",
   "id": "44fc1daa-41af-4b16-8b40-0e024acf5700",
   "metadata": {},
   "source": [
    "### 4. Which model’s performance is best and what could be the possible reason for that?"
   ]
  },
  {
   "cell_type": "markdown",
   "id": "5eec6db4-75f3-4c8a-9ac9-a99ed3321517",
   "metadata": {},
   "source": [
    "* Based on the accuracy and confusion matrix, the best-performing model will be identified. Typically, ensemble methods like Random Forest and Gradient Boosting tend to perform better than single models like Decision Trees because they combine the strengths of multiple models and reduce overfitting.\n",
    "  \n",
    "**Logistic Regression:**\n",
    "- Accuracy Score (Test): 81.7365%\n",
    "\n",
    "**K-Nearest Neighbors:**\n",
    "- Accuracy Score (Test): 78.5928%\n",
    "\n",
    "**Linear Discriminant Analysis:**\n",
    "- Accuracy Score (Test): 81.8862%\n",
    "\n",
    "**Decision Tree:**\n",
    "- Accuracy Score (Test): 80.2395%\n",
    "\n",
    "**Random Forest:**\n",
    "- Accuracy Score (Test): 82.4850%\n",
    "\n",
    "**Gradient Boosting:**\n",
    "- Accuracy Score (Test): 80.9880%\n",
    "\n",
    "\n",
    "**AdaBoost:**\n",
    "- Accuracy Score (Test): 82.4850%\n",
    "\n",
    "**XGBoost:**\n",
    "- Accuracy Score (Test): 81.4371%\n",
    "\n",
    "**best model**\n",
    "Random Forest has best performance and good accuracy \"82.4850%\". so random forest is the best model for this dataset\n",
    " 2\r\n",
    "XGBoost - Precision Score (Test): 0.7591\n"
   ]
  },
  {
   "cell_type": "markdown",
   "id": "b366f2e8-456e-4ee9-bb04-c10f800f87d4",
   "metadata": {},
   "source": [
    "### 5. What steps can you take to improve this selected model’s performance even further?"
   ]
  },
  {
   "cell_type": "markdown",
   "id": "839284cb-2bd2-4e3a-8121-71a60f189fa6",
   "metadata": {},
   "source": [
    "To further improve the selected model’s performance, I could:\n",
    "- Perform hyperparameter tuning using techniques such as Grid Search or Random Search.\n",
    "- Use cross-validation to ensure the model generalizes well to unseen data.\n",
    "- Experiment with different feature engineering techniques to create new features.\n",
    "- Incorporate additional data sources if available to provide more context to the model."
   ]
  }
 ],
 "metadata": {
  "kernelspec": {
   "display_name": "Python 3 (ipykernel)",
   "language": "python",
   "name": "python3"
  },
  "language_info": {
   "codemirror_mode": {
    "name": "ipython",
    "version": 3
   },
   "file_extension": ".py",
   "mimetype": "text/x-python",
   "name": "python",
   "nbconvert_exporter": "python",
   "pygments_lexer": "ipython3",
   "version": "3.11.7"
  }
 },
 "nbformat": 4,
 "nbformat_minor": 5
}
